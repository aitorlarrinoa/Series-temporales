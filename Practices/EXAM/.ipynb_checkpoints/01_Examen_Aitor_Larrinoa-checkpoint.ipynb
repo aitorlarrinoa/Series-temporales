{
 "cells": [
  {
   "cell_type": "markdown",
   "id": "08796a5e",
   "metadata": {},
   "source": [
    "# EXAMEN SERIES TEMPORALES"
   ]
  },
  {
   "cell_type": "markdown",
   "id": "f673897c",
   "metadata": {},
   "source": [
    "## Aitor Larrinoa Rementería\n",
    "### Máster en Data Science\n",
    "### Curso 2021-2022\n"
   ]
  },
  {
   "cell_type": "markdown",
   "id": "7c0f2b0d",
   "metadata": {},
   "source": [
    "## Librerías"
   ]
  },
  {
   "cell_type": "code",
   "execution_count": 1,
   "id": "56092934",
   "metadata": {},
   "outputs": [],
   "source": [
    "import pandas as pd\n",
    "import seaborn as sns\n",
    "import matplotlib.pyplot as plt\n",
    "import numpy as np\n",
    "from statsmodels.tsa.seasonal import STL\n",
    "import statsmodels.api as sm"
   ]
  },
  {
   "cell_type": "markdown",
   "id": "15ecf62e",
   "metadata": {},
   "source": [
    "## Lectura de los datos"
   ]
  },
  {
   "cell_type": "code",
   "execution_count": 2,
   "id": "ad03436e",
   "metadata": {},
   "outputs": [
    {
     "data": {
      "text/html": [
       "<div>\n",
       "<style scoped>\n",
       "    .dataframe tbody tr th:only-of-type {\n",
       "        vertical-align: middle;\n",
       "    }\n",
       "\n",
       "    .dataframe tbody tr th {\n",
       "        vertical-align: top;\n",
       "    }\n",
       "\n",
       "    .dataframe thead th {\n",
       "        text-align: right;\n",
       "    }\n",
       "</style>\n",
       "<table border=\"1\" class=\"dataframe\">\n",
       "  <thead>\n",
       "    <tr style=\"text-align: right;\">\n",
       "      <th></th>\n",
       "      <th>Local date</th>\n",
       "      <th>Local hour</th>\n",
       "      <th>Local time</th>\n",
       "      <th>D</th>\n",
       "    </tr>\n",
       "  </thead>\n",
       "  <tbody>\n",
       "    <tr>\n",
       "      <th>0</th>\n",
       "      <td>2015-07-01</td>\n",
       "      <td>1</td>\n",
       "      <td>2015-07-01 01:00:00</td>\n",
       "      <td>38210</td>\n",
       "    </tr>\n",
       "    <tr>\n",
       "      <th>1</th>\n",
       "      <td>2015-07-01</td>\n",
       "      <td>2</td>\n",
       "      <td>2015-07-01 02:00:00</td>\n",
       "      <td>35171</td>\n",
       "    </tr>\n",
       "    <tr>\n",
       "      <th>2</th>\n",
       "      <td>2015-07-01</td>\n",
       "      <td>3</td>\n",
       "      <td>2015-07-01 03:00:00</td>\n",
       "      <td>33243</td>\n",
       "    </tr>\n",
       "    <tr>\n",
       "      <th>3</th>\n",
       "      <td>2015-07-01</td>\n",
       "      <td>4</td>\n",
       "      <td>2015-07-01 04:00:00</td>\n",
       "      <td>31955</td>\n",
       "    </tr>\n",
       "    <tr>\n",
       "      <th>4</th>\n",
       "      <td>2015-07-01</td>\n",
       "      <td>5</td>\n",
       "      <td>2015-07-01 05:00:00</td>\n",
       "      <td>31199</td>\n",
       "    </tr>\n",
       "    <tr>\n",
       "      <th>...</th>\n",
       "      <td>...</td>\n",
       "      <td>...</td>\n",
       "      <td>...</td>\n",
       "      <td>...</td>\n",
       "    </tr>\n",
       "    <tr>\n",
       "      <th>56267</th>\n",
       "      <td>2021-11-30</td>\n",
       "      <td>11</td>\n",
       "      <td>2021-11-30 11:00:00</td>\n",
       "      <td>29068</td>\n",
       "    </tr>\n",
       "    <tr>\n",
       "      <th>56268</th>\n",
       "      <td>2021-11-30</td>\n",
       "      <td>12</td>\n",
       "      <td>2021-11-30 12:00:00</td>\n",
       "      <td>28769</td>\n",
       "    </tr>\n",
       "    <tr>\n",
       "      <th>56269</th>\n",
       "      <td>2021-11-30</td>\n",
       "      <td>13</td>\n",
       "      <td>2021-11-30 13:00:00</td>\n",
       "      <td>29180</td>\n",
       "    </tr>\n",
       "    <tr>\n",
       "      <th>56270</th>\n",
       "      <td>2021-11-30</td>\n",
       "      <td>14</td>\n",
       "      <td>2021-11-30 14:00:00</td>\n",
       "      <td>29719</td>\n",
       "    </tr>\n",
       "    <tr>\n",
       "      <th>56271</th>\n",
       "      <td>2021-11-30</td>\n",
       "      <td>15</td>\n",
       "      <td>2021-11-30 15:00:00</td>\n",
       "      <td>30512</td>\n",
       "    </tr>\n",
       "  </tbody>\n",
       "</table>\n",
       "<p>56272 rows × 4 columns</p>\n",
       "</div>"
      ],
      "text/plain": [
       "      Local date  Local hour          Local time      D\n",
       "0     2015-07-01           1 2015-07-01 01:00:00  38210\n",
       "1     2015-07-01           2 2015-07-01 02:00:00  35171\n",
       "2     2015-07-01           3 2015-07-01 03:00:00  33243\n",
       "3     2015-07-01           4 2015-07-01 04:00:00  31955\n",
       "4     2015-07-01           5 2015-07-01 05:00:00  31199\n",
       "...          ...         ...                 ...    ...\n",
       "56267 2021-11-30          11 2021-11-30 11:00:00  29068\n",
       "56268 2021-11-30          12 2021-11-30 12:00:00  28769\n",
       "56269 2021-11-30          13 2021-11-30 13:00:00  29180\n",
       "56270 2021-11-30          14 2021-11-30 14:00:00  29719\n",
       "56271 2021-11-30          15 2021-11-30 15:00:00  30512\n",
       "\n",
       "[56272 rows x 4 columns]"
      ]
     },
     "execution_count": 2,
     "metadata": {},
     "output_type": "execute_result"
    }
   ],
   "source": [
    "datos_horarios = pd.read_excel(\"/Users/aitor/Desktop/Máster Ciencia de Datos/Series temporales/Series-temporales/data/EXAM/DemandaEnergia.xlsx\",\n",
    "             sheet_name=0)\n",
    "datos_horarios = datos_horarios.drop([\"Region\", \"UTC time\", \"Time zone\"], axis=1)\n",
    "datos_horarios"
   ]
  },
  {
   "cell_type": "code",
   "execution_count": 3,
   "id": "1089c3e7",
   "metadata": {},
   "outputs": [
    {
     "data": {
      "text/html": [
       "<div>\n",
       "<style scoped>\n",
       "    .dataframe tbody tr th:only-of-type {\n",
       "        vertical-align: middle;\n",
       "    }\n",
       "\n",
       "    .dataframe tbody tr th {\n",
       "        vertical-align: top;\n",
       "    }\n",
       "\n",
       "    .dataframe thead th {\n",
       "        text-align: right;\n",
       "    }\n",
       "</style>\n",
       "<table border=\"1\" class=\"dataframe\">\n",
       "  <thead>\n",
       "    <tr style=\"text-align: right;\">\n",
       "      <th></th>\n",
       "      <th>Local date</th>\n",
       "      <th>D</th>\n",
       "    </tr>\n",
       "    <tr>\n",
       "      <th>Local time</th>\n",
       "      <th></th>\n",
       "      <th></th>\n",
       "    </tr>\n",
       "  </thead>\n",
       "  <tbody>\n",
       "    <tr>\n",
       "      <th>2015-07-01 01:00:00</th>\n",
       "      <td>2015-07-01</td>\n",
       "      <td>38210</td>\n",
       "    </tr>\n",
       "    <tr>\n",
       "      <th>2015-07-01 02:00:00</th>\n",
       "      <td>2015-07-01</td>\n",
       "      <td>35171</td>\n",
       "    </tr>\n",
       "    <tr>\n",
       "      <th>2015-07-01 03:00:00</th>\n",
       "      <td>2015-07-01</td>\n",
       "      <td>33243</td>\n",
       "    </tr>\n",
       "    <tr>\n",
       "      <th>2015-07-01 04:00:00</th>\n",
       "      <td>2015-07-01</td>\n",
       "      <td>31955</td>\n",
       "    </tr>\n",
       "    <tr>\n",
       "      <th>2015-07-01 05:00:00</th>\n",
       "      <td>2015-07-01</td>\n",
       "      <td>31199</td>\n",
       "    </tr>\n",
       "    <tr>\n",
       "      <th>...</th>\n",
       "      <td>...</td>\n",
       "      <td>...</td>\n",
       "    </tr>\n",
       "    <tr>\n",
       "      <th>2021-11-30 11:00:00</th>\n",
       "      <td>2021-11-30</td>\n",
       "      <td>29068</td>\n",
       "    </tr>\n",
       "    <tr>\n",
       "      <th>2021-11-30 12:00:00</th>\n",
       "      <td>2021-11-30</td>\n",
       "      <td>28769</td>\n",
       "    </tr>\n",
       "    <tr>\n",
       "      <th>2021-11-30 13:00:00</th>\n",
       "      <td>2021-11-30</td>\n",
       "      <td>29180</td>\n",
       "    </tr>\n",
       "    <tr>\n",
       "      <th>2021-11-30 14:00:00</th>\n",
       "      <td>2021-11-30</td>\n",
       "      <td>29719</td>\n",
       "    </tr>\n",
       "    <tr>\n",
       "      <th>2021-11-30 15:00:00</th>\n",
       "      <td>2021-11-30</td>\n",
       "      <td>30512</td>\n",
       "    </tr>\n",
       "  </tbody>\n",
       "</table>\n",
       "<p>56272 rows × 2 columns</p>\n",
       "</div>"
      ],
      "text/plain": [
       "                    Local date      D\n",
       "Local time                           \n",
       "2015-07-01 01:00:00 2015-07-01  38210\n",
       "2015-07-01 02:00:00 2015-07-01  35171\n",
       "2015-07-01 03:00:00 2015-07-01  33243\n",
       "2015-07-01 04:00:00 2015-07-01  31955\n",
       "2015-07-01 05:00:00 2015-07-01  31199\n",
       "...                        ...    ...\n",
       "2021-11-30 11:00:00 2021-11-30  29068\n",
       "2021-11-30 12:00:00 2021-11-30  28769\n",
       "2021-11-30 13:00:00 2021-11-30  29180\n",
       "2021-11-30 14:00:00 2021-11-30  29719\n",
       "2021-11-30 15:00:00 2021-11-30  30512\n",
       "\n",
       "[56272 rows x 2 columns]"
      ]
     },
     "execution_count": 3,
     "metadata": {},
     "output_type": "execute_result"
    }
   ],
   "source": [
    "datos_horarios_formato_1 = datos_horarios.drop([\"Local hour\"], axis=1)\n",
    "datos_horarios_formato_1.index = datos_horarios_formato_1[\"Local time\"]\n",
    "datos_horarios_formato_1 = datos_horarios_formato_1.drop(\"Local time\", axis=1)\n",
    "datos_horarios_formato_1"
   ]
  },
  {
   "cell_type": "code",
   "execution_count": 4,
   "id": "401fd209",
   "metadata": {},
   "outputs": [],
   "source": [
    "datos_horarios_formato_2 = datos_horarios_formato_1"
   ]
  },
  {
   "cell_type": "code",
   "execution_count": 5,
   "id": "cb2fb974",
   "metadata": {},
   "outputs": [],
   "source": [
    "datos_horarios_formato_1 = datos_horarios_formato_1.drop([\"Local date\"], axis=1)"
   ]
  },
  {
   "cell_type": "markdown",
   "id": "16904fcc",
   "metadata": {},
   "source": [
    "En un año hay 365 días y si multiplicamos 365*24=8760. Luego, deberíamos tener 8760 filas en cada año del dataset, excepto en los años bisiestos. En estos años deberíamos tener 366*24=8784. Los años bisiestos en nuestro dataset son *2016* y *2020*. "
   ]
  },
  {
   "cell_type": "code",
   "execution_count": 6,
   "id": "b45554c2",
   "metadata": {},
   "outputs": [
    {
     "name": "stderr",
     "output_type": "stream",
     "text": [
      "/var/folders/3q/zfn8yb513nj10ry8w8r8_jmc0000gn/T/ipykernel_9212/1000893638.py:3: FutureWarning: Indexing a DataFrame with a datetimelike index using a single string to slice the rows, like `frame[string]`, is deprecated and will be removed in a future version. Use `frame.loc[string]` instead.\n",
      "  suma = datos_horarios_formato_1[str(año)].count()\n"
     ]
    },
    {
     "data": {
      "text/plain": [
       "{2015: D    4416\n",
       " dtype: int64,\n",
       " 2016: D    8784\n",
       " dtype: int64,\n",
       " 2017: D    8760\n",
       " dtype: int64,\n",
       " 2018: D    8760\n",
       " dtype: int64,\n",
       " 2019: D    8760\n",
       " dtype: int64,\n",
       " 2020: D    8784\n",
       " dtype: int64,\n",
       " 2021: D    8008\n",
       " dtype: int64}"
      ]
     },
     "execution_count": 6,
     "metadata": {},
     "output_type": "execute_result"
    }
   ],
   "source": [
    "dict_comprobacion=dict()\n",
    "for año in range(2015,2022):\n",
    "    suma = datos_horarios_formato_1[str(año)].count()\n",
    "    dict_comprobacion[año] = suma\n",
    "dict_comprobacion"
   ]
  },
  {
   "cell_type": "markdown",
   "id": "46157383",
   "metadata": {},
   "source": [
    "Podemos comprobar que todos los años cumplen este requisito excepto el 2015 (sus datos comienzan en julio) y 2021(sus datos acaban en noviembre). Veamos si los datos que tenemos de los años 2015 y 2021 son completos.\n",
    "- **2015**. Debemos considerar datos desde julio hasta diciembre (ambos incluidos), luego son (31*4+30*2)(días)*24(horas)=4416. Luego, el dato es correcto\n",
    "- **2021**. Eliminamos los datos del mes de diciembre al total. 8760-(31*24) = 8016. Pero, como los datos acaban a las 15:00 debemos eliminar las horas desde las 16:00 hasta las 23:00 (en total 8 horas). 8016-8 = 8008.\n",
    "\n",
    "Luego, concluimos que están todos los datos en nuestro dataset."
   ]
  },
  {
   "cell_type": "markdown",
   "id": "c188ff69",
   "metadata": {},
   "source": [
    "Deberemos introducir datos en el dataset horario debido a que nos faltan los datos de 8 horas en el último día de noviembre del año 2021. "
   ]
  },
  {
   "cell_type": "code",
   "execution_count": 7,
   "id": "de9a4ac3",
   "metadata": {},
   "outputs": [
    {
     "name": "stderr",
     "output_type": "stream",
     "text": [
      "/var/folders/3q/zfn8yb513nj10ry8w8r8_jmc0000gn/T/ipykernel_9212/3098372323.py:15: FutureWarning: Indexing a DataFrame with a datetimelike index using a single string to slice the rows, like `frame[string]`, is deprecated and will be removed in a future version. Use `frame.loc[string]` instead.\n",
      "  datos_2017 = datos_horarios_formato_1[str(año)+\"-11-30\"]\n",
      "/var/folders/3q/zfn8yb513nj10ry8w8r8_jmc0000gn/T/ipykernel_9212/3098372323.py:19: FutureWarning: Indexing a DataFrame with a datetimelike index using a single string to slice the rows, like `frame[string]`, is deprecated and will be removed in a future version. Use `frame.loc[string]` instead.\n",
      "  datos_2018 = datos_horarios_formato_1[str(año)+\"-11-30\"]\n",
      "/var/folders/3q/zfn8yb513nj10ry8w8r8_jmc0000gn/T/ipykernel_9212/3098372323.py:23: FutureWarning: Indexing a DataFrame with a datetimelike index using a single string to slice the rows, like `frame[string]`, is deprecated and will be removed in a future version. Use `frame.loc[string]` instead.\n",
      "  datos_2019 = datos_horarios_formato_1[str(año)+\"-11-30\"]\n",
      "/var/folders/3q/zfn8yb513nj10ry8w8r8_jmc0000gn/T/ipykernel_9212/3098372323.py:27: FutureWarning: Indexing a DataFrame with a datetimelike index using a single string to slice the rows, like `frame[string]`, is deprecated and will be removed in a future version. Use `frame.loc[string]` instead.\n",
      "  datos_2020 = datos_horarios_formato_1[str(año)+\"-11-30\"]\n"
     ]
    }
   ],
   "source": [
    "list_hours=list()\n",
    "for i in range(24):\n",
    "    list_hours.append(i)\n",
    "\n",
    "for año in range(2015,2021):\n",
    "    #if año == 2015:\n",
    "    #    datos_2015 = datos_horarios_formato_1[str(año)+\"-11-30\"]\n",
    "    #    datos_2015.columns = [\"D_2015\"]\n",
    "    #    datos_2015.index = list_hours\n",
    "    #elif año == 2016:\n",
    "    #    datos_2016 = datos_horarios_formato_1[str(año)+\"-11-30\"]\n",
    "    #    datos_2016.columns = [\"D_2016\"]\n",
    "    #    datos_2016.index = list_hours\n",
    "    if año == 2017:\n",
    "        datos_2017 = datos_horarios_formato_1[str(año)+\"-11-30\"]\n",
    "        datos_2017.columns = [\"D_2017\"]\n",
    "        datos_2017.index = list_hours\n",
    "    elif año == 2018:\n",
    "        datos_2018 = datos_horarios_formato_1[str(año)+\"-11-30\"]\n",
    "        datos_2018.columns = [\"D_2018\"]\n",
    "        datos_2018.index = list_hours\n",
    "    elif año == 2019:\n",
    "        datos_2019 = datos_horarios_formato_1[str(año)+\"-11-30\"]\n",
    "        datos_2019.columns = [\"D_2019\"]\n",
    "        datos_2019.index = list_hours\n",
    "    elif año == 2020:\n",
    "        datos_2020 = datos_horarios_formato_1[str(año)+\"-11-30\"]\n",
    "        datos_2020.columns = [\"D_2020\"]\n",
    "        datos_2020.index = list_hours\n",
    "\n",
    "#datos_años = pd.concat([datos_2015, datos_2016, datos_2017, datos_2018, datos_2019, datos_2020], axis=1)    \n",
    "datos_años = pd.concat([datos_2017, datos_2018, datos_2019, datos_2020], axis=1)    "
   ]
  },
  {
   "cell_type": "code",
   "execution_count": 36,
   "id": "128b1465",
   "metadata": {},
   "outputs": [
    {
     "data": {
      "text/plain": [
       "DatetimeIndex(['2021-11-30 01:00:00', '2021-11-30 02:00:00',\n",
       "               '2021-11-30 03:00:00', '2021-11-30 04:00:00',\n",
       "               '2021-11-30 05:00:00', '2021-11-30 06:00:00',\n",
       "               '2021-11-30 07:00:00', '2021-11-30 08:00:00',\n",
       "               '2021-11-30 09:00:00', '2021-11-30 10:00:00',\n",
       "               '2021-11-30 11:00:00', '2021-11-30 12:00:00',\n",
       "               '2021-11-30 13:00:00', '2021-11-30 14:00:00',\n",
       "               '2021-11-30 15:00:00', '2021-11-30 16:00:00',\n",
       "               '2021-11-30 17:00:00', '2021-11-30 18:00:00',\n",
       "               '2021-11-30 19:00:00', '2021-11-30 20:00:00',\n",
       "               '2021-11-30 21:00:00', '2021-11-30 22:00:00',\n",
       "               '2021-11-30 23:00:00', '2021-12-01 00:00:00'],\n",
       "              dtype='datetime64[ns]', freq='H')"
      ]
     },
     "execution_count": 36,
     "metadata": {},
     "output_type": "execute_result"
    }
   ],
   "source": [
    "pd.date_range(start='2021/11/30', periods=25, freq='H')[1:]"
   ]
  },
  {
   "cell_type": "code",
   "execution_count": 38,
   "id": "2164df95",
   "metadata": {},
   "outputs": [
    {
     "ename": "ValueError",
     "evalue": "Length mismatch: Expected axis has 24 elements, new values have 25 elements",
     "output_type": "error",
     "traceback": [
      "\u001b[0;31m---------------------------------------------------------------------------\u001b[0m",
      "\u001b[0;31mValueError\u001b[0m                                Traceback (most recent call last)",
      "\u001b[0;32m/var/folders/3q/zfn8yb513nj10ry8w8r8_jmc0000gn/T/ipykernel_9212/4013251420.py\u001b[0m in \u001b[0;36m<module>\u001b[0;34m\u001b[0m\n\u001b[1;32m      1\u001b[0m \u001b[0mdatos_años\u001b[0m\u001b[0;34m[\u001b[0m\u001b[0;34m\"media\"\u001b[0m\u001b[0;34m]\u001b[0m \u001b[0;34m=\u001b[0m \u001b[0mnp\u001b[0m\u001b[0;34m.\u001b[0m\u001b[0mround\u001b[0m\u001b[0;34m(\u001b[0m\u001b[0mdatos_años\u001b[0m\u001b[0;34m.\u001b[0m\u001b[0mmean\u001b[0m\u001b[0;34m(\u001b[0m\u001b[0maxis\u001b[0m\u001b[0;34m=\u001b[0m\u001b[0;36m1\u001b[0m\u001b[0;34m)\u001b[0m\u001b[0;34m,\u001b[0m\u001b[0;36m0\u001b[0m\u001b[0;34m)\u001b[0m\u001b[0;34m.\u001b[0m\u001b[0mastype\u001b[0m\u001b[0;34m(\u001b[0m\u001b[0mint\u001b[0m\u001b[0;34m)\u001b[0m\u001b[0;34m\u001b[0m\u001b[0;34m\u001b[0m\u001b[0m\n\u001b[0;32m----> 2\u001b[0;31m \u001b[0mdatos_años\u001b[0m\u001b[0;34m.\u001b[0m\u001b[0mindex\u001b[0m \u001b[0;34m=\u001b[0m \u001b[0mpd\u001b[0m\u001b[0;34m.\u001b[0m\u001b[0mdate_range\u001b[0m\u001b[0;34m(\u001b[0m\u001b[0mstart\u001b[0m\u001b[0;34m=\u001b[0m\u001b[0;34m'2021/11/30'\u001b[0m\u001b[0;34m,\u001b[0m \u001b[0mperiods\u001b[0m\u001b[0;34m=\u001b[0m\u001b[0;36m25\u001b[0m\u001b[0;34m,\u001b[0m \u001b[0mfreq\u001b[0m\u001b[0;34m=\u001b[0m\u001b[0;34m'H'\u001b[0m\u001b[0;34m)\u001b[0m\u001b[0;34m\u001b[0m\u001b[0;34m\u001b[0m\u001b[0m\n\u001b[0m\u001b[1;32m      3\u001b[0m \u001b[0mdatos_años\u001b[0m\u001b[0;34m\u001b[0m\u001b[0;34m\u001b[0m\u001b[0m\n",
      "\u001b[0;32m~/opt/anaconda3/lib/python3.8/site-packages/pandas/core/generic.py\u001b[0m in \u001b[0;36m__setattr__\u001b[0;34m(self, name, value)\u001b[0m\n\u001b[1;32m   5498\u001b[0m         \u001b[0;32mtry\u001b[0m\u001b[0;34m:\u001b[0m\u001b[0;34m\u001b[0m\u001b[0;34m\u001b[0m\u001b[0m\n\u001b[1;32m   5499\u001b[0m             \u001b[0mobject\u001b[0m\u001b[0;34m.\u001b[0m\u001b[0m__getattribute__\u001b[0m\u001b[0;34m(\u001b[0m\u001b[0mself\u001b[0m\u001b[0;34m,\u001b[0m \u001b[0mname\u001b[0m\u001b[0;34m)\u001b[0m\u001b[0;34m\u001b[0m\u001b[0;34m\u001b[0m\u001b[0m\n\u001b[0;32m-> 5500\u001b[0;31m             \u001b[0;32mreturn\u001b[0m \u001b[0mobject\u001b[0m\u001b[0;34m.\u001b[0m\u001b[0m__setattr__\u001b[0m\u001b[0;34m(\u001b[0m\u001b[0mself\u001b[0m\u001b[0;34m,\u001b[0m \u001b[0mname\u001b[0m\u001b[0;34m,\u001b[0m \u001b[0mvalue\u001b[0m\u001b[0;34m)\u001b[0m\u001b[0;34m\u001b[0m\u001b[0;34m\u001b[0m\u001b[0m\n\u001b[0m\u001b[1;32m   5501\u001b[0m         \u001b[0;32mexcept\u001b[0m \u001b[0mAttributeError\u001b[0m\u001b[0;34m:\u001b[0m\u001b[0;34m\u001b[0m\u001b[0;34m\u001b[0m\u001b[0m\n\u001b[1;32m   5502\u001b[0m             \u001b[0;32mpass\u001b[0m\u001b[0;34m\u001b[0m\u001b[0;34m\u001b[0m\u001b[0m\n",
      "\u001b[0;32m~/opt/anaconda3/lib/python3.8/site-packages/pandas/_libs/properties.pyx\u001b[0m in \u001b[0;36mpandas._libs.properties.AxisProperty.__set__\u001b[0;34m()\u001b[0m\n",
      "\u001b[0;32m~/opt/anaconda3/lib/python3.8/site-packages/pandas/core/generic.py\u001b[0m in \u001b[0;36m_set_axis\u001b[0;34m(self, axis, labels)\u001b[0m\n\u001b[1;32m    764\u001b[0m     \u001b[0;32mdef\u001b[0m \u001b[0m_set_axis\u001b[0m\u001b[0;34m(\u001b[0m\u001b[0mself\u001b[0m\u001b[0;34m,\u001b[0m \u001b[0maxis\u001b[0m\u001b[0;34m:\u001b[0m \u001b[0mint\u001b[0m\u001b[0;34m,\u001b[0m \u001b[0mlabels\u001b[0m\u001b[0;34m:\u001b[0m \u001b[0mIndex\u001b[0m\u001b[0;34m)\u001b[0m \u001b[0;34m->\u001b[0m \u001b[0;32mNone\u001b[0m\u001b[0;34m:\u001b[0m\u001b[0;34m\u001b[0m\u001b[0;34m\u001b[0m\u001b[0m\n\u001b[1;32m    765\u001b[0m         \u001b[0mlabels\u001b[0m \u001b[0;34m=\u001b[0m \u001b[0mensure_index\u001b[0m\u001b[0;34m(\u001b[0m\u001b[0mlabels\u001b[0m\u001b[0;34m)\u001b[0m\u001b[0;34m\u001b[0m\u001b[0;34m\u001b[0m\u001b[0m\n\u001b[0;32m--> 766\u001b[0;31m         \u001b[0mself\u001b[0m\u001b[0;34m.\u001b[0m\u001b[0m_mgr\u001b[0m\u001b[0;34m.\u001b[0m\u001b[0mset_axis\u001b[0m\u001b[0;34m(\u001b[0m\u001b[0maxis\u001b[0m\u001b[0;34m,\u001b[0m \u001b[0mlabels\u001b[0m\u001b[0;34m)\u001b[0m\u001b[0;34m\u001b[0m\u001b[0;34m\u001b[0m\u001b[0m\n\u001b[0m\u001b[1;32m    767\u001b[0m         \u001b[0mself\u001b[0m\u001b[0;34m.\u001b[0m\u001b[0m_clear_item_cache\u001b[0m\u001b[0;34m(\u001b[0m\u001b[0;34m)\u001b[0m\u001b[0;34m\u001b[0m\u001b[0;34m\u001b[0m\u001b[0m\n\u001b[1;32m    768\u001b[0m \u001b[0;34m\u001b[0m\u001b[0m\n",
      "\u001b[0;32m~/opt/anaconda3/lib/python3.8/site-packages/pandas/core/internals/managers.py\u001b[0m in \u001b[0;36mset_axis\u001b[0;34m(self, axis, new_labels)\u001b[0m\n\u001b[1;32m    214\u001b[0m     \u001b[0;32mdef\u001b[0m \u001b[0mset_axis\u001b[0m\u001b[0;34m(\u001b[0m\u001b[0mself\u001b[0m\u001b[0;34m,\u001b[0m \u001b[0maxis\u001b[0m\u001b[0;34m:\u001b[0m \u001b[0mint\u001b[0m\u001b[0;34m,\u001b[0m \u001b[0mnew_labels\u001b[0m\u001b[0;34m:\u001b[0m \u001b[0mIndex\u001b[0m\u001b[0;34m)\u001b[0m \u001b[0;34m->\u001b[0m \u001b[0;32mNone\u001b[0m\u001b[0;34m:\u001b[0m\u001b[0;34m\u001b[0m\u001b[0;34m\u001b[0m\u001b[0m\n\u001b[1;32m    215\u001b[0m         \u001b[0;31m# Caller is responsible for ensuring we have an Index object.\u001b[0m\u001b[0;34m\u001b[0m\u001b[0;34m\u001b[0m\u001b[0;34m\u001b[0m\u001b[0m\n\u001b[0;32m--> 216\u001b[0;31m         \u001b[0mself\u001b[0m\u001b[0;34m.\u001b[0m\u001b[0m_validate_set_axis\u001b[0m\u001b[0;34m(\u001b[0m\u001b[0maxis\u001b[0m\u001b[0;34m,\u001b[0m \u001b[0mnew_labels\u001b[0m\u001b[0;34m)\u001b[0m\u001b[0;34m\u001b[0m\u001b[0;34m\u001b[0m\u001b[0m\n\u001b[0m\u001b[1;32m    217\u001b[0m         \u001b[0mself\u001b[0m\u001b[0;34m.\u001b[0m\u001b[0maxes\u001b[0m\u001b[0;34m[\u001b[0m\u001b[0maxis\u001b[0m\u001b[0;34m]\u001b[0m \u001b[0;34m=\u001b[0m \u001b[0mnew_labels\u001b[0m\u001b[0;34m\u001b[0m\u001b[0;34m\u001b[0m\u001b[0m\n\u001b[1;32m    218\u001b[0m \u001b[0;34m\u001b[0m\u001b[0m\n",
      "\u001b[0;32m~/opt/anaconda3/lib/python3.8/site-packages/pandas/core/internals/base.py\u001b[0m in \u001b[0;36m_validate_set_axis\u001b[0;34m(self, axis, new_labels)\u001b[0m\n\u001b[1;32m     55\u001b[0m \u001b[0;34m\u001b[0m\u001b[0m\n\u001b[1;32m     56\u001b[0m         \u001b[0;32melif\u001b[0m \u001b[0mnew_len\u001b[0m \u001b[0;34m!=\u001b[0m \u001b[0mold_len\u001b[0m\u001b[0;34m:\u001b[0m\u001b[0;34m\u001b[0m\u001b[0;34m\u001b[0m\u001b[0m\n\u001b[0;32m---> 57\u001b[0;31m             raise ValueError(\n\u001b[0m\u001b[1;32m     58\u001b[0m                 \u001b[0;34mf\"Length mismatch: Expected axis has {old_len} elements, new \"\u001b[0m\u001b[0;34m\u001b[0m\u001b[0;34m\u001b[0m\u001b[0m\n\u001b[1;32m     59\u001b[0m                 \u001b[0;34mf\"values have {new_len} elements\"\u001b[0m\u001b[0;34m\u001b[0m\u001b[0;34m\u001b[0m\u001b[0m\n",
      "\u001b[0;31mValueError\u001b[0m: Length mismatch: Expected axis has 24 elements, new values have 25 elements"
     ]
    }
   ],
   "source": [
    "datos_años[\"media\"] = np.round(datos_años.mean(axis=1),0).astype(int)\n",
    "datos_años.index = pd.date_range(start='2021/11/30', periods=25, freq='H')\n",
    "datos_años"
   ]
  },
  {
   "cell_type": "markdown",
   "id": "bb26d29b",
   "metadata": {},
   "source": [
    "Nos quedamos con los datos que nos interesan (entre las 15.00 y las 23:00)"
   ]
  },
  {
   "cell_type": "code",
   "execution_count": 10,
   "id": "bf0372e1",
   "metadata": {},
   "outputs": [
    {
     "data": {
      "text/plain": [
       "2021-11-30 16:00:00    30735\n",
       "2021-11-30 17:00:00    32292\n",
       "2021-11-30 18:00:00    34646\n",
       "2021-11-30 19:00:00    34563\n",
       "2021-11-30 20:00:00    33941\n",
       "2021-11-30 21:00:00    33098\n",
       "2021-11-30 22:00:00    31768\n",
       "2021-11-30 23:00:00    29751\n",
       "Freq: H, Name: media, dtype: int64"
      ]
     },
     "execution_count": 10,
     "metadata": {},
     "output_type": "execute_result"
    }
   ],
   "source": [
    "datos_años.iloc[16:24][\"media\"]"
   ]
  },
  {
   "cell_type": "markdown",
   "id": "6e0cbfe4",
   "metadata": {},
   "source": [
    "Luego, los datos que introduciremos en nuestro dataset serán los de la columna media."
   ]
  },
  {
   "cell_type": "code",
   "execution_count": 11,
   "id": "8724cdbf",
   "metadata": {},
   "outputs": [],
   "source": [
    "datos_horarios_formato_1 = pd.concat([datos_horarios_formato_1, datos_años.iloc[16:24][[\"media\"]]],  axis = 0)"
   ]
  },
  {
   "cell_type": "code",
   "execution_count": 12,
   "id": "4cfce4a3",
   "metadata": {},
   "outputs": [
    {
     "data": {
      "text/html": [
       "<div>\n",
       "<style scoped>\n",
       "    .dataframe tbody tr th:only-of-type {\n",
       "        vertical-align: middle;\n",
       "    }\n",
       "\n",
       "    .dataframe tbody tr th {\n",
       "        vertical-align: top;\n",
       "    }\n",
       "\n",
       "    .dataframe thead th {\n",
       "        text-align: right;\n",
       "    }\n",
       "</style>\n",
       "<table border=\"1\" class=\"dataframe\">\n",
       "  <thead>\n",
       "    <tr style=\"text-align: right;\">\n",
       "      <th></th>\n",
       "      <th>D</th>\n",
       "      <th>media</th>\n",
       "    </tr>\n",
       "  </thead>\n",
       "  <tbody>\n",
       "    <tr>\n",
       "      <th>2015-07-01 01:00:00</th>\n",
       "      <td>38210.0</td>\n",
       "      <td>NaN</td>\n",
       "    </tr>\n",
       "    <tr>\n",
       "      <th>2015-07-01 02:00:00</th>\n",
       "      <td>35171.0</td>\n",
       "      <td>NaN</td>\n",
       "    </tr>\n",
       "    <tr>\n",
       "      <th>2015-07-01 03:00:00</th>\n",
       "      <td>33243.0</td>\n",
       "      <td>NaN</td>\n",
       "    </tr>\n",
       "    <tr>\n",
       "      <th>2015-07-01 04:00:00</th>\n",
       "      <td>31955.0</td>\n",
       "      <td>NaN</td>\n",
       "    </tr>\n",
       "    <tr>\n",
       "      <th>2015-07-01 05:00:00</th>\n",
       "      <td>31199.0</td>\n",
       "      <td>NaN</td>\n",
       "    </tr>\n",
       "    <tr>\n",
       "      <th>...</th>\n",
       "      <td>...</td>\n",
       "      <td>...</td>\n",
       "    </tr>\n",
       "    <tr>\n",
       "      <th>2021-11-30 19:00:00</th>\n",
       "      <td>NaN</td>\n",
       "      <td>34563.0</td>\n",
       "    </tr>\n",
       "    <tr>\n",
       "      <th>2021-11-30 20:00:00</th>\n",
       "      <td>NaN</td>\n",
       "      <td>33941.0</td>\n",
       "    </tr>\n",
       "    <tr>\n",
       "      <th>2021-11-30 21:00:00</th>\n",
       "      <td>NaN</td>\n",
       "      <td>33098.0</td>\n",
       "    </tr>\n",
       "    <tr>\n",
       "      <th>2021-11-30 22:00:00</th>\n",
       "      <td>NaN</td>\n",
       "      <td>31768.0</td>\n",
       "    </tr>\n",
       "    <tr>\n",
       "      <th>2021-11-30 23:00:00</th>\n",
       "      <td>NaN</td>\n",
       "      <td>29751.0</td>\n",
       "    </tr>\n",
       "  </tbody>\n",
       "</table>\n",
       "<p>56280 rows × 2 columns</p>\n",
       "</div>"
      ],
      "text/plain": [
       "                           D    media\n",
       "2015-07-01 01:00:00  38210.0      NaN\n",
       "2015-07-01 02:00:00  35171.0      NaN\n",
       "2015-07-01 03:00:00  33243.0      NaN\n",
       "2015-07-01 04:00:00  31955.0      NaN\n",
       "2015-07-01 05:00:00  31199.0      NaN\n",
       "...                      ...      ...\n",
       "2021-11-30 19:00:00      NaN  34563.0\n",
       "2021-11-30 20:00:00      NaN  33941.0\n",
       "2021-11-30 21:00:00      NaN  33098.0\n",
       "2021-11-30 22:00:00      NaN  31768.0\n",
       "2021-11-30 23:00:00      NaN  29751.0\n",
       "\n",
       "[56280 rows x 2 columns]"
      ]
     },
     "execution_count": 12,
     "metadata": {},
     "output_type": "execute_result"
    }
   ],
   "source": [
    "datos_horarios_formato_1"
   ]
  },
  {
   "cell_type": "code",
   "execution_count": 13,
   "id": "c4416d28",
   "metadata": {},
   "outputs": [
    {
     "name": "stderr",
     "output_type": "stream",
     "text": [
      "/var/folders/3q/zfn8yb513nj10ry8w8r8_jmc0000gn/T/ipykernel_9212/4080360400.py:1: SettingWithCopyWarning: \n",
      "A value is trying to be set on a copy of a slice from a DataFrame.\n",
      "Try using .loc[row_indexer,col_indexer] = value instead\n",
      "\n",
      "See the caveats in the documentation: https://pandas.pydata.org/pandas-docs/stable/user_guide/indexing.html#returning-a-view-versus-a-copy\n",
      "  datos_horarios_formato_1.tail(8)[\"D\"] = datos_horarios_formato_1.tail(8)[\"media\"]\n"
     ]
    }
   ],
   "source": [
    "datos_horarios_formato_1.tail(8)[\"D\"] = datos_horarios_formato_1.tail(8)[\"media\"]"
   ]
  },
  {
   "cell_type": "code",
   "execution_count": 14,
   "id": "7be6d9b0",
   "metadata": {},
   "outputs": [],
   "source": [
    "datos_horarios_formato_1 = datos_horarios_formato_1[[\"D\"]]"
   ]
  },
  {
   "cell_type": "code",
   "execution_count": 15,
   "id": "483091f7",
   "metadata": {},
   "outputs": [
    {
     "data": {
      "text/html": [
       "<div>\n",
       "<style scoped>\n",
       "    .dataframe tbody tr th:only-of-type {\n",
       "        vertical-align: middle;\n",
       "    }\n",
       "\n",
       "    .dataframe tbody tr th {\n",
       "        vertical-align: top;\n",
       "    }\n",
       "\n",
       "    .dataframe thead th {\n",
       "        text-align: right;\n",
       "    }\n",
       "</style>\n",
       "<table border=\"1\" class=\"dataframe\">\n",
       "  <thead>\n",
       "    <tr style=\"text-align: right;\">\n",
       "      <th></th>\n",
       "      <th>D</th>\n",
       "    </tr>\n",
       "  </thead>\n",
       "  <tbody>\n",
       "    <tr>\n",
       "      <th>2015-07-01 01:00:00</th>\n",
       "      <td>38210.0</td>\n",
       "    </tr>\n",
       "    <tr>\n",
       "      <th>2015-07-01 02:00:00</th>\n",
       "      <td>35171.0</td>\n",
       "    </tr>\n",
       "    <tr>\n",
       "      <th>2015-07-01 03:00:00</th>\n",
       "      <td>33243.0</td>\n",
       "    </tr>\n",
       "    <tr>\n",
       "      <th>2015-07-01 04:00:00</th>\n",
       "      <td>31955.0</td>\n",
       "    </tr>\n",
       "    <tr>\n",
       "      <th>2015-07-01 05:00:00</th>\n",
       "      <td>31199.0</td>\n",
       "    </tr>\n",
       "    <tr>\n",
       "      <th>...</th>\n",
       "      <td>...</td>\n",
       "    </tr>\n",
       "    <tr>\n",
       "      <th>2021-11-30 19:00:00</th>\n",
       "      <td>34563.0</td>\n",
       "    </tr>\n",
       "    <tr>\n",
       "      <th>2021-11-30 20:00:00</th>\n",
       "      <td>33941.0</td>\n",
       "    </tr>\n",
       "    <tr>\n",
       "      <th>2021-11-30 21:00:00</th>\n",
       "      <td>33098.0</td>\n",
       "    </tr>\n",
       "    <tr>\n",
       "      <th>2021-11-30 22:00:00</th>\n",
       "      <td>31768.0</td>\n",
       "    </tr>\n",
       "    <tr>\n",
       "      <th>2021-11-30 23:00:00</th>\n",
       "      <td>29751.0</td>\n",
       "    </tr>\n",
       "  </tbody>\n",
       "</table>\n",
       "<p>56280 rows × 1 columns</p>\n",
       "</div>"
      ],
      "text/plain": [
       "                           D\n",
       "2015-07-01 01:00:00  38210.0\n",
       "2015-07-01 02:00:00  35171.0\n",
       "2015-07-01 03:00:00  33243.0\n",
       "2015-07-01 04:00:00  31955.0\n",
       "2015-07-01 05:00:00  31199.0\n",
       "...                      ...\n",
       "2021-11-30 19:00:00  34563.0\n",
       "2021-11-30 20:00:00  33941.0\n",
       "2021-11-30 21:00:00  33098.0\n",
       "2021-11-30 22:00:00  31768.0\n",
       "2021-11-30 23:00:00  29751.0\n",
       "\n",
       "[56280 rows x 1 columns]"
      ]
     },
     "execution_count": 15,
     "metadata": {},
     "output_type": "execute_result"
    }
   ],
   "source": [
    "datos_horarios_formato_1"
   ]
  },
  {
   "cell_type": "markdown",
   "id": "3f82ca91",
   "metadata": {},
   "source": [
    "### Lectura de los datos diarios"
   ]
  },
  {
   "cell_type": "code",
   "execution_count": 16,
   "id": "457d03fe",
   "metadata": {},
   "outputs": [
    {
     "data": {
      "text/plain": [
       "Region                object\n",
       "Local date    datetime64[ns]\n",
       "Time zone             object\n",
       "D                      int64\n",
       "dtype: object"
      ]
     },
     "execution_count": 16,
     "metadata": {},
     "output_type": "execute_result"
    }
   ],
   "source": [
    "datos_diarios = pd.read_excel(\"/Users/aitor/Desktop/Máster Ciencia de Datos/Series temporales/Series-temporales/data/EXAM/DemandaEnergia.xlsx\",\n",
    "             sheet_name=1)\n",
    "datos_diarios.dtypes"
   ]
  },
  {
   "cell_type": "code",
   "execution_count": 17,
   "id": "72f5a233",
   "metadata": {},
   "outputs": [
    {
     "data": {
      "text/html": [
       "<div>\n",
       "<style scoped>\n",
       "    .dataframe tbody tr th:only-of-type {\n",
       "        vertical-align: middle;\n",
       "    }\n",
       "\n",
       "    .dataframe tbody tr th {\n",
       "        vertical-align: top;\n",
       "    }\n",
       "\n",
       "    .dataframe thead th {\n",
       "        text-align: right;\n",
       "    }\n",
       "</style>\n",
       "<table border=\"1\" class=\"dataframe\">\n",
       "  <thead>\n",
       "    <tr style=\"text-align: right;\">\n",
       "      <th></th>\n",
       "      <th>D</th>\n",
       "    </tr>\n",
       "    <tr>\n",
       "      <th>Local date</th>\n",
       "      <th></th>\n",
       "    </tr>\n",
       "  </thead>\n",
       "  <tbody>\n",
       "    <tr>\n",
       "      <th>2015-07-01</th>\n",
       "      <td>978699</td>\n",
       "    </tr>\n",
       "    <tr>\n",
       "      <th>2015-07-02</th>\n",
       "      <td>962751</td>\n",
       "    </tr>\n",
       "    <tr>\n",
       "      <th>2015-07-03</th>\n",
       "      <td>887079</td>\n",
       "    </tr>\n",
       "    <tr>\n",
       "      <th>2015-07-04</th>\n",
       "      <td>830874</td>\n",
       "    </tr>\n",
       "    <tr>\n",
       "      <th>2015-07-05</th>\n",
       "      <td>791310</td>\n",
       "    </tr>\n",
       "    <tr>\n",
       "      <th>...</th>\n",
       "      <td>...</td>\n",
       "    </tr>\n",
       "    <tr>\n",
       "      <th>2021-11-26</th>\n",
       "      <td>625052</td>\n",
       "    </tr>\n",
       "    <tr>\n",
       "      <th>2021-11-27</th>\n",
       "      <td>622892</td>\n",
       "    </tr>\n",
       "    <tr>\n",
       "      <th>2021-11-28</th>\n",
       "      <td>622017</td>\n",
       "    </tr>\n",
       "    <tr>\n",
       "      <th>2021-11-29</th>\n",
       "      <td>698831</td>\n",
       "    </tr>\n",
       "    <tr>\n",
       "      <th>2021-11-30</th>\n",
       "      <td>709568</td>\n",
       "    </tr>\n",
       "  </tbody>\n",
       "</table>\n",
       "<p>2345 rows × 1 columns</p>\n",
       "</div>"
      ],
      "text/plain": [
       "                 D\n",
       "Local date        \n",
       "2015-07-01  978699\n",
       "2015-07-02  962751\n",
       "2015-07-03  887079\n",
       "2015-07-04  830874\n",
       "2015-07-05  791310\n",
       "...            ...\n",
       "2021-11-26  625052\n",
       "2021-11-27  622892\n",
       "2021-11-28  622017\n",
       "2021-11-29  698831\n",
       "2021-11-30  709568\n",
       "\n",
       "[2345 rows x 1 columns]"
      ]
     },
     "execution_count": 17,
     "metadata": {},
     "output_type": "execute_result"
    }
   ],
   "source": [
    "datos_diarios.index =  datos_diarios[\"Local date\"]\n",
    "datos_diarios = datos_diarios.drop([\"Region\", 'Time zone', \"Local date\"], axis=1)\n",
    "datos_diarios"
   ]
  },
  {
   "cell_type": "markdown",
   "id": "743a0107",
   "metadata": {},
   "source": [
    "### Unificar los datos para que horarios y diarios coincidan"
   ]
  },
  {
   "cell_type": "markdown",
   "id": "9b5fb5fd",
   "metadata": {},
   "source": [
    "Calculamos la suma de la suma diaria de los datos horarios para ver si coinciden justamente con los datos diarios. Puede que el dato de noviembre de 2021 no coincida debido a que nos hemos \"inventado\" los registros de 8 horas para tener el dataset horario al completo."
   ]
  },
  {
   "cell_type": "code",
   "execution_count": 18,
   "id": "35f5ffb1",
   "metadata": {},
   "outputs": [
    {
     "data": {
      "text/plain": [
       "<bound method DataFrame.groupby of                            D\n",
       "2015-07-01 01:00:00  38210.0\n",
       "2015-07-01 02:00:00  35171.0\n",
       "2015-07-01 03:00:00  33243.0\n",
       "2015-07-01 04:00:00  31955.0\n",
       "2015-07-01 05:00:00  31199.0\n",
       "...                      ...\n",
       "2021-11-30 19:00:00  34563.0\n",
       "2021-11-30 20:00:00  33941.0\n",
       "2021-11-30 21:00:00  33098.0\n",
       "2021-11-30 22:00:00  31768.0\n",
       "2021-11-30 23:00:00  29751.0\n",
       "\n",
       "[56280 rows x 1 columns]>"
      ]
     },
     "execution_count": 18,
     "metadata": {},
     "output_type": "execute_result"
    }
   ],
   "source": [
    "datos_horarios_formato_1.groupby"
   ]
  },
  {
   "cell_type": "code",
   "execution_count": 19,
   "id": "a0829a42",
   "metadata": {
    "scrolled": false
   },
   "outputs": [
    {
     "data": {
      "text/html": [
       "<div>\n",
       "<style scoped>\n",
       "    .dataframe tbody tr th:only-of-type {\n",
       "        vertical-align: middle;\n",
       "    }\n",
       "\n",
       "    .dataframe tbody tr th {\n",
       "        vertical-align: top;\n",
       "    }\n",
       "\n",
       "    .dataframe thead th {\n",
       "        text-align: right;\n",
       "    }\n",
       "</style>\n",
       "<table border=\"1\" class=\"dataframe\">\n",
       "  <thead>\n",
       "    <tr style=\"text-align: right;\">\n",
       "      <th></th>\n",
       "      <th>D</th>\n",
       "    </tr>\n",
       "  </thead>\n",
       "  <tbody>\n",
       "    <tr>\n",
       "      <th>2015-07-01</th>\n",
       "      <td>939154.0</td>\n",
       "    </tr>\n",
       "    <tr>\n",
       "      <th>2015-07-02</th>\n",
       "      <td>963914.0</td>\n",
       "    </tr>\n",
       "    <tr>\n",
       "      <th>2015-07-03</th>\n",
       "      <td>888068.0</td>\n",
       "    </tr>\n",
       "    <tr>\n",
       "      <th>2015-07-04</th>\n",
       "      <td>833577.0</td>\n",
       "    </tr>\n",
       "    <tr>\n",
       "      <th>2015-07-05</th>\n",
       "      <td>792090.0</td>\n",
       "    </tr>\n",
       "    <tr>\n",
       "      <th>...</th>\n",
       "      <td>...</td>\n",
       "    </tr>\n",
       "    <tr>\n",
       "      <th>2021-11-26</th>\n",
       "      <td>624211.0</td>\n",
       "    </tr>\n",
       "    <tr>\n",
       "      <th>2021-11-27</th>\n",
       "      <td>623095.0</td>\n",
       "    </tr>\n",
       "    <tr>\n",
       "      <th>2021-11-28</th>\n",
       "      <td>622236.0</td>\n",
       "    </tr>\n",
       "    <tr>\n",
       "      <th>2021-11-29</th>\n",
       "      <td>697121.0</td>\n",
       "    </tr>\n",
       "    <tr>\n",
       "      <th>2021-11-30</th>\n",
       "      <td>708430.0</td>\n",
       "    </tr>\n",
       "  </tbody>\n",
       "</table>\n",
       "<p>2345 rows × 1 columns</p>\n",
       "</div>"
      ],
      "text/plain": [
       "                   D\n",
       "2015-07-01  939154.0\n",
       "2015-07-02  963914.0\n",
       "2015-07-03  888068.0\n",
       "2015-07-04  833577.0\n",
       "2015-07-05  792090.0\n",
       "...              ...\n",
       "2021-11-26  624211.0\n",
       "2021-11-27  623095.0\n",
       "2021-11-28  622236.0\n",
       "2021-11-29  697121.0\n",
       "2021-11-30  708430.0\n",
       "\n",
       "[2345 rows x 1 columns]"
      ]
     },
     "execution_count": 19,
     "metadata": {},
     "output_type": "execute_result"
    }
   ],
   "source": [
    "datos_horarios_formato_1.resample(\"D\").sum()"
   ]
  },
  {
   "cell_type": "code",
   "execution_count": 20,
   "id": "6ba7a5ef",
   "metadata": {},
   "outputs": [],
   "source": [
    "from pandas import Timestamp"
   ]
  },
  {
   "cell_type": "code",
   "execution_count": 21,
   "id": "9839ae33",
   "metadata": {},
   "outputs": [],
   "source": [
    "dates=[Timestamp('2021-11-30 00:00:00')]*8\n",
    "dates_new = list(datos_horarios_formato_2[\"Local date\"])"
   ]
  },
  {
   "cell_type": "code",
   "execution_count": 22,
   "id": "56b11865",
   "metadata": {},
   "outputs": [],
   "source": [
    "dates_new = dates_new + dates"
   ]
  },
  {
   "cell_type": "code",
   "execution_count": 23,
   "id": "e69069f5",
   "metadata": {},
   "outputs": [
    {
     "data": {
      "text/html": [
       "<div>\n",
       "<style scoped>\n",
       "    .dataframe tbody tr th:only-of-type {\n",
       "        vertical-align: middle;\n",
       "    }\n",
       "\n",
       "    .dataframe tbody tr th {\n",
       "        vertical-align: top;\n",
       "    }\n",
       "\n",
       "    .dataframe thead th {\n",
       "        text-align: right;\n",
       "    }\n",
       "</style>\n",
       "<table border=\"1\" class=\"dataframe\">\n",
       "  <thead>\n",
       "    <tr style=\"text-align: right;\">\n",
       "      <th></th>\n",
       "      <th>D</th>\n",
       "      <th>local_date</th>\n",
       "    </tr>\n",
       "  </thead>\n",
       "  <tbody>\n",
       "    <tr>\n",
       "      <th>2015-07-01 01:00:00</th>\n",
       "      <td>38210.0</td>\n",
       "      <td>2015-07-01</td>\n",
       "    </tr>\n",
       "    <tr>\n",
       "      <th>2015-07-01 02:00:00</th>\n",
       "      <td>35171.0</td>\n",
       "      <td>2015-07-01</td>\n",
       "    </tr>\n",
       "    <tr>\n",
       "      <th>2015-07-01 03:00:00</th>\n",
       "      <td>33243.0</td>\n",
       "      <td>2015-07-01</td>\n",
       "    </tr>\n",
       "    <tr>\n",
       "      <th>2015-07-01 04:00:00</th>\n",
       "      <td>31955.0</td>\n",
       "      <td>2015-07-01</td>\n",
       "    </tr>\n",
       "    <tr>\n",
       "      <th>2015-07-01 05:00:00</th>\n",
       "      <td>31199.0</td>\n",
       "      <td>2015-07-01</td>\n",
       "    </tr>\n",
       "    <tr>\n",
       "      <th>...</th>\n",
       "      <td>...</td>\n",
       "      <td>...</td>\n",
       "    </tr>\n",
       "    <tr>\n",
       "      <th>2021-11-30 19:00:00</th>\n",
       "      <td>34563.0</td>\n",
       "      <td>2021-11-30</td>\n",
       "    </tr>\n",
       "    <tr>\n",
       "      <th>2021-11-30 20:00:00</th>\n",
       "      <td>33941.0</td>\n",
       "      <td>2021-11-30</td>\n",
       "    </tr>\n",
       "    <tr>\n",
       "      <th>2021-11-30 21:00:00</th>\n",
       "      <td>33098.0</td>\n",
       "      <td>2021-11-30</td>\n",
       "    </tr>\n",
       "    <tr>\n",
       "      <th>2021-11-30 22:00:00</th>\n",
       "      <td>31768.0</td>\n",
       "      <td>2021-11-30</td>\n",
       "    </tr>\n",
       "    <tr>\n",
       "      <th>2021-11-30 23:00:00</th>\n",
       "      <td>29751.0</td>\n",
       "      <td>2021-11-30</td>\n",
       "    </tr>\n",
       "  </tbody>\n",
       "</table>\n",
       "<p>56280 rows × 2 columns</p>\n",
       "</div>"
      ],
      "text/plain": [
       "                           D local_date\n",
       "2015-07-01 01:00:00  38210.0 2015-07-01\n",
       "2015-07-01 02:00:00  35171.0 2015-07-01\n",
       "2015-07-01 03:00:00  33243.0 2015-07-01\n",
       "2015-07-01 04:00:00  31955.0 2015-07-01\n",
       "2015-07-01 05:00:00  31199.0 2015-07-01\n",
       "...                      ...        ...\n",
       "2021-11-30 19:00:00  34563.0 2021-11-30\n",
       "2021-11-30 20:00:00  33941.0 2021-11-30\n",
       "2021-11-30 21:00:00  33098.0 2021-11-30\n",
       "2021-11-30 22:00:00  31768.0 2021-11-30\n",
       "2021-11-30 23:00:00  29751.0 2021-11-30\n",
       "\n",
       "[56280 rows x 2 columns]"
      ]
     },
     "execution_count": 23,
     "metadata": {},
     "output_type": "execute_result"
    }
   ],
   "source": [
    "datos_horarios_formato_1[\"local_date\"] = dates_new\n",
    "datos_horarios_formato_1"
   ]
  },
  {
   "cell_type": "code",
   "execution_count": 24,
   "id": "39fda478",
   "metadata": {},
   "outputs": [
    {
     "name": "stderr",
     "output_type": "stream",
     "text": [
      "/var/folders/3q/zfn8yb513nj10ry8w8r8_jmc0000gn/T/ipykernel_9212/602932435.py:1: FutureWarning: Indexing a DataFrame with a datetimelike index using a single string to slice the rows, like `frame[string]`, is deprecated and will be removed in a future version. Use `frame.loc[string]` instead.\n",
      "  datos_horarios_formato_1[\"2021-11-30\"][[\"D\"]].sum()\n"
     ]
    },
    {
     "data": {
      "text/plain": [
       "D    708430.0\n",
       "dtype: float64"
      ]
     },
     "execution_count": 24,
     "metadata": {},
     "output_type": "execute_result"
    }
   ],
   "source": [
    "datos_horarios_formato_1[\"2021-11-30\"][[\"D\"]].sum()"
   ]
  },
  {
   "cell_type": "code",
   "execution_count": 32,
   "id": "23d71eeb",
   "metadata": {},
   "outputs": [
    {
     "name": "stderr",
     "output_type": "stream",
     "text": [
      "/var/folders/3q/zfn8yb513nj10ry8w8r8_jmc0000gn/T/ipykernel_9212/3976081511.py:1: FutureWarning: Indexing a DataFrame with a datetimelike index using a single string to slice the rows, like `frame[string]`, is deprecated and will be removed in a future version. Use `frame.loc[string]` instead.\n",
      "  datos_horarios_formato_1[\"2021-11-30\"]\n"
     ]
    },
    {
     "data": {
      "text/html": [
       "<div>\n",
       "<style scoped>\n",
       "    .dataframe tbody tr th:only-of-type {\n",
       "        vertical-align: middle;\n",
       "    }\n",
       "\n",
       "    .dataframe tbody tr th {\n",
       "        vertical-align: top;\n",
       "    }\n",
       "\n",
       "    .dataframe thead th {\n",
       "        text-align: right;\n",
       "    }\n",
       "</style>\n",
       "<table border=\"1\" class=\"dataframe\">\n",
       "  <thead>\n",
       "    <tr style=\"text-align: right;\">\n",
       "      <th></th>\n",
       "      <th>D</th>\n",
       "      <th>local_date</th>\n",
       "    </tr>\n",
       "  </thead>\n",
       "  <tbody>\n",
       "    <tr>\n",
       "      <th>2021-11-30 00:00:00</th>\n",
       "      <td>27257.0</td>\n",
       "      <td>2021-11-29</td>\n",
       "    </tr>\n",
       "    <tr>\n",
       "      <th>2021-11-30 01:00:00</th>\n",
       "      <td>26071.0</td>\n",
       "      <td>2021-11-30</td>\n",
       "    </tr>\n",
       "    <tr>\n",
       "      <th>2021-11-30 02:00:00</th>\n",
       "      <td>25388.0</td>\n",
       "      <td>2021-11-30</td>\n",
       "    </tr>\n",
       "    <tr>\n",
       "      <th>2021-11-30 03:00:00</th>\n",
       "      <td>24781.0</td>\n",
       "      <td>2021-11-30</td>\n",
       "    </tr>\n",
       "    <tr>\n",
       "      <th>2021-11-30 04:00:00</th>\n",
       "      <td>24720.0</td>\n",
       "      <td>2021-11-30</td>\n",
       "    </tr>\n",
       "    <tr>\n",
       "      <th>2021-11-30 05:00:00</th>\n",
       "      <td>25269.0</td>\n",
       "      <td>2021-11-30</td>\n",
       "    </tr>\n",
       "    <tr>\n",
       "      <th>2021-11-30 06:00:00</th>\n",
       "      <td>26712.0</td>\n",
       "      <td>2021-11-30</td>\n",
       "    </tr>\n",
       "    <tr>\n",
       "      <th>2021-11-30 07:00:00</th>\n",
       "      <td>29379.0</td>\n",
       "      <td>2021-11-30</td>\n",
       "    </tr>\n",
       "    <tr>\n",
       "      <th>2021-11-30 08:00:00</th>\n",
       "      <td>30459.0</td>\n",
       "      <td>2021-11-30</td>\n",
       "    </tr>\n",
       "    <tr>\n",
       "      <th>2021-11-30 09:00:00</th>\n",
       "      <td>30596.0</td>\n",
       "      <td>2021-11-30</td>\n",
       "    </tr>\n",
       "    <tr>\n",
       "      <th>2021-11-30 10:00:00</th>\n",
       "      <td>29756.0</td>\n",
       "      <td>2021-11-30</td>\n",
       "    </tr>\n",
       "    <tr>\n",
       "      <th>2021-11-30 11:00:00</th>\n",
       "      <td>29068.0</td>\n",
       "      <td>2021-11-30</td>\n",
       "    </tr>\n",
       "    <tr>\n",
       "      <th>2021-11-30 12:00:00</th>\n",
       "      <td>28769.0</td>\n",
       "      <td>2021-11-30</td>\n",
       "    </tr>\n",
       "    <tr>\n",
       "      <th>2021-11-30 13:00:00</th>\n",
       "      <td>29180.0</td>\n",
       "      <td>2021-11-30</td>\n",
       "    </tr>\n",
       "    <tr>\n",
       "      <th>2021-11-30 14:00:00</th>\n",
       "      <td>29719.0</td>\n",
       "      <td>2021-11-30</td>\n",
       "    </tr>\n",
       "    <tr>\n",
       "      <th>2021-11-30 15:00:00</th>\n",
       "      <td>30512.0</td>\n",
       "      <td>2021-11-30</td>\n",
       "    </tr>\n",
       "    <tr>\n",
       "      <th>2021-11-30 16:00:00</th>\n",
       "      <td>30735.0</td>\n",
       "      <td>2021-11-30</td>\n",
       "    </tr>\n",
       "    <tr>\n",
       "      <th>2021-11-30 17:00:00</th>\n",
       "      <td>32292.0</td>\n",
       "      <td>2021-11-30</td>\n",
       "    </tr>\n",
       "    <tr>\n",
       "      <th>2021-11-30 18:00:00</th>\n",
       "      <td>34646.0</td>\n",
       "      <td>2021-11-30</td>\n",
       "    </tr>\n",
       "    <tr>\n",
       "      <th>2021-11-30 19:00:00</th>\n",
       "      <td>34563.0</td>\n",
       "      <td>2021-11-30</td>\n",
       "    </tr>\n",
       "    <tr>\n",
       "      <th>2021-11-30 20:00:00</th>\n",
       "      <td>33941.0</td>\n",
       "      <td>2021-11-30</td>\n",
       "    </tr>\n",
       "    <tr>\n",
       "      <th>2021-11-30 21:00:00</th>\n",
       "      <td>33098.0</td>\n",
       "      <td>2021-11-30</td>\n",
       "    </tr>\n",
       "    <tr>\n",
       "      <th>2021-11-30 22:00:00</th>\n",
       "      <td>31768.0</td>\n",
       "      <td>2021-11-30</td>\n",
       "    </tr>\n",
       "    <tr>\n",
       "      <th>2021-11-30 23:00:00</th>\n",
       "      <td>29751.0</td>\n",
       "      <td>2021-11-30</td>\n",
       "    </tr>\n",
       "  </tbody>\n",
       "</table>\n",
       "</div>"
      ],
      "text/plain": [
       "                           D local_date\n",
       "2021-11-30 00:00:00  27257.0 2021-11-29\n",
       "2021-11-30 01:00:00  26071.0 2021-11-30\n",
       "2021-11-30 02:00:00  25388.0 2021-11-30\n",
       "2021-11-30 03:00:00  24781.0 2021-11-30\n",
       "2021-11-30 04:00:00  24720.0 2021-11-30\n",
       "2021-11-30 05:00:00  25269.0 2021-11-30\n",
       "2021-11-30 06:00:00  26712.0 2021-11-30\n",
       "2021-11-30 07:00:00  29379.0 2021-11-30\n",
       "2021-11-30 08:00:00  30459.0 2021-11-30\n",
       "2021-11-30 09:00:00  30596.0 2021-11-30\n",
       "2021-11-30 10:00:00  29756.0 2021-11-30\n",
       "2021-11-30 11:00:00  29068.0 2021-11-30\n",
       "2021-11-30 12:00:00  28769.0 2021-11-30\n",
       "2021-11-30 13:00:00  29180.0 2021-11-30\n",
       "2021-11-30 14:00:00  29719.0 2021-11-30\n",
       "2021-11-30 15:00:00  30512.0 2021-11-30\n",
       "2021-11-30 16:00:00  30735.0 2021-11-30\n",
       "2021-11-30 17:00:00  32292.0 2021-11-30\n",
       "2021-11-30 18:00:00  34646.0 2021-11-30\n",
       "2021-11-30 19:00:00  34563.0 2021-11-30\n",
       "2021-11-30 20:00:00  33941.0 2021-11-30\n",
       "2021-11-30 21:00:00  33098.0 2021-11-30\n",
       "2021-11-30 22:00:00  31768.0 2021-11-30\n",
       "2021-11-30 23:00:00  29751.0 2021-11-30"
      ]
     },
     "execution_count": 32,
     "metadata": {},
     "output_type": "execute_result"
    }
   ],
   "source": [
    "datos_horarios_formato_1[\"2021-11-30\"]"
   ]
  },
  {
   "cell_type": "code",
   "execution_count": 26,
   "id": "912904fd",
   "metadata": {},
   "outputs": [
    {
     "data": {
      "text/html": [
       "<div>\n",
       "<style scoped>\n",
       "    .dataframe tbody tr th:only-of-type {\n",
       "        vertical-align: middle;\n",
       "    }\n",
       "\n",
       "    .dataframe tbody tr th {\n",
       "        vertical-align: top;\n",
       "    }\n",
       "\n",
       "    .dataframe thead th {\n",
       "        text-align: right;\n",
       "    }\n",
       "</style>\n",
       "<table border=\"1\" class=\"dataframe\">\n",
       "  <thead>\n",
       "    <tr style=\"text-align: right;\">\n",
       "      <th></th>\n",
       "      <th>D</th>\n",
       "    </tr>\n",
       "    <tr>\n",
       "      <th>local_date</th>\n",
       "      <th></th>\n",
       "    </tr>\n",
       "  </thead>\n",
       "  <tbody>\n",
       "    <tr>\n",
       "      <th>2015-07-01</th>\n",
       "      <td>978699.0</td>\n",
       "    </tr>\n",
       "    <tr>\n",
       "      <th>2015-07-02</th>\n",
       "      <td>962751.0</td>\n",
       "    </tr>\n",
       "    <tr>\n",
       "      <th>2015-07-03</th>\n",
       "      <td>887079.0</td>\n",
       "    </tr>\n",
       "    <tr>\n",
       "      <th>2015-07-04</th>\n",
       "      <td>830874.0</td>\n",
       "    </tr>\n",
       "    <tr>\n",
       "      <th>2015-07-05</th>\n",
       "      <td>791310.0</td>\n",
       "    </tr>\n",
       "    <tr>\n",
       "      <th>...</th>\n",
       "      <td>...</td>\n",
       "    </tr>\n",
       "    <tr>\n",
       "      <th>2021-11-26</th>\n",
       "      <td>625052.0</td>\n",
       "    </tr>\n",
       "    <tr>\n",
       "      <th>2021-11-27</th>\n",
       "      <td>622892.0</td>\n",
       "    </tr>\n",
       "    <tr>\n",
       "      <th>2021-11-28</th>\n",
       "      <td>622017.0</td>\n",
       "    </tr>\n",
       "    <tr>\n",
       "      <th>2021-11-29</th>\n",
       "      <td>698831.0</td>\n",
       "    </tr>\n",
       "    <tr>\n",
       "      <th>2021-11-30</th>\n",
       "      <td>681173.0</td>\n",
       "    </tr>\n",
       "  </tbody>\n",
       "</table>\n",
       "<p>2345 rows × 1 columns</p>\n",
       "</div>"
      ],
      "text/plain": [
       "                   D\n",
       "local_date          \n",
       "2015-07-01  978699.0\n",
       "2015-07-02  962751.0\n",
       "2015-07-03  887079.0\n",
       "2015-07-04  830874.0\n",
       "2015-07-05  791310.0\n",
       "...              ...\n",
       "2021-11-26  625052.0\n",
       "2021-11-27  622892.0\n",
       "2021-11-28  622017.0\n",
       "2021-11-29  698831.0\n",
       "2021-11-30  681173.0\n",
       "\n",
       "[2345 rows x 1 columns]"
      ]
     },
     "execution_count": 26,
     "metadata": {},
     "output_type": "execute_result"
    }
   ],
   "source": [
    "datos_horarios_formato_1.groupby(\"local_date\").sum()"
   ]
  },
  {
   "cell_type": "markdown",
   "id": "b13682a3",
   "metadata": {},
   "source": [
    "Podemos comporbar que la diferencia es muy poca. Luego, tomaremos el dato de la suma horaria de 2011-11-30 y lo cambiaremos por el dato"
   ]
  },
  {
   "cell_type": "markdown",
   "id": "2458833f",
   "metadata": {},
   "source": [
    "Vemos que el último registro no coincide, como era de esperar. Luego, cambiaremo."
   ]
  },
  {
   "cell_type": "markdown",
   "id": "defcdb76",
   "metadata": {},
   "source": [
    "Graficamos la serie temporal de demanda eléctrica horaria"
   ]
  },
  {
   "cell_type": "code",
   "execution_count": 27,
   "id": "ac85a452",
   "metadata": {},
   "outputs": [
    {
     "data": {
      "image/png": "[encoded data removed]",
      "text/plain": [
       "<Figure size 1152x360 with 1 Axes>"
      ]
     },
     "metadata": {},
     "output_type": "display_data"
    }
   ],
   "source": [
    "sns.set(rc = {\"figure.figsize\":(16,5)}) # Definimos el tamaño de la imagen\n",
    "ax = datos_horarios_formato_1[\"2021-11\":].plot(marker = 'o', linestyle = '-')\n",
    "ax.set_ylabel(\"Demanda eléctrica\") # Añadimos título al eje y \n",
    "ax.set_xlabel(\"Fechas diarias\"); # Añadimos título al eje x\n",
    "plt.savefig(\"Demanda_energia_diaria.png\", dpi=300, bbox_inches='tight')"
   ]
  },
  {
   "cell_type": "code",
   "execution_count": 28,
   "id": "6256974f",
   "metadata": {},
   "outputs": [
    {
     "ename": "TypeError",
     "evalue": "float() argument must be a string or a number, not 'Timestamp'",
     "output_type": "error",
     "traceback": [
      "\u001b[0;31m---------------------------------------------------------------------------\u001b[0m",
      "\u001b[0;31mTypeError\u001b[0m                                 Traceback (most recent call last)",
      "\u001b[0;32m/var/folders/3q/zfn8yb513nj10ry8w8r8_jmc0000gn/T/ipykernel_9212/980462667.py\u001b[0m in \u001b[0;36m<module>\u001b[0;34m\u001b[0m\n\u001b[0;32m----> 1\u001b[0;31m \u001b[0mstl\u001b[0m \u001b[0;34m=\u001b[0m \u001b[0mSTL\u001b[0m\u001b[0;34m(\u001b[0m\u001b[0mdatos_horarios_formato_1\u001b[0m\u001b[0;34m)\u001b[0m\u001b[0;34m\u001b[0m\u001b[0;34m\u001b[0m\u001b[0m\n\u001b[0m\u001b[1;32m      2\u001b[0m \u001b[0mres\u001b[0m \u001b[0;34m=\u001b[0m \u001b[0mstl\u001b[0m\u001b[0;34m.\u001b[0m\u001b[0mfit\u001b[0m\u001b[0;34m(\u001b[0m\u001b[0;34m)\u001b[0m\u001b[0;34m\u001b[0m\u001b[0;34m\u001b[0m\u001b[0m\n\u001b[1;32m      3\u001b[0m \u001b[0mfig\u001b[0m \u001b[0;34m=\u001b[0m \u001b[0mres\u001b[0m\u001b[0;34m.\u001b[0m\u001b[0mplot\u001b[0m\u001b[0;34m(\u001b[0m\u001b[0;34m)\u001b[0m\u001b[0;34m\u001b[0m\u001b[0;34m\u001b[0m\u001b[0m\n",
      "\u001b[0;32mstatsmodels/tsa/_stl.pyx\u001b[0m in \u001b[0;36mstatsmodels.tsa._stl.STL.__init__\u001b[0;34m()\u001b[0m\n",
      "\u001b[0;31mTypeError\u001b[0m: float() argument must be a string or a number, not 'Timestamp'"
     ]
    }
   ],
   "source": [
    "stl = STL(datos_horarios_formato_1)\n",
    "res = stl.fit()\n",
    "fig = res.plot()"
   ]
  },
  {
   "cell_type": "markdown",
   "id": "b8a250f5",
   "metadata": {},
   "source": [
    "Graficamos la serie temporal de demanda eléctrica diaria"
   ]
  },
  {
   "cell_type": "markdown",
   "id": "7b721013",
   "metadata": {},
   "source": [
    "La serie parece estacionaria en media, pero no en varianza."
   ]
  },
  {
   "cell_type": "code",
   "execution_count": null,
   "id": "7b6601df",
   "metadata": {},
   "outputs": [],
   "source": [
    "sns.set(rc = {\"figure.figsize\":(16,5)}) # Definimos el tamaño de la imagen\n",
    "ax = datos_diarios[\"2020\":].plot(marker = 'o', linestyle = '-')\n",
    "ax.set_ylabel(\"Demanda eléctrica\") # Añadimos título al eje y \n",
    "ax.set_xlabel(\"Fechas diarias\"); # Añadimos título al eje x\n",
    "plt.savefig(\"Demanda_energia_diaria_2021-.png\", dpi=300, bbox_inches='tight')"
   ]
  },
  {
   "cell_type": "markdown",
   "id": "245d2d30",
   "metadata": {},
   "source": [
    "Creamos un modelo STL para analizar la tendencia y estacionalidad de la serie"
   ]
  },
  {
   "cell_type": "code",
   "execution_count": null,
   "id": "e2451493",
   "metadata": {},
   "outputs": [],
   "source": [
    "stl = STL(datos_diarios)\n",
    "res = stl.fit()\n",
    "fig = res.plot()"
   ]
  },
  {
   "cell_type": "code",
   "execution_count": null,
   "id": "292ad007",
   "metadata": {},
   "outputs": [],
   "source": []
  }
 ],
 "metadata": {
  "kernelspec": {
   "display_name": "Python [conda env:root] *",
   "language": "python",
   "name": "conda-root-py"
  },
  "language_info": {
   "codemirror_mode": {
    "name": "ipython",
    "version": 3
   },
   "file_extension": ".py",
   "mimetype": "text/x-python",
   "name": "python",
   "nbconvert_exporter": "python",
   "pygments_lexer": "ipython3",
   "version": "3.8.8"
  }
 },
 "nbformat": 4,
 "nbformat_minor": 5
}
