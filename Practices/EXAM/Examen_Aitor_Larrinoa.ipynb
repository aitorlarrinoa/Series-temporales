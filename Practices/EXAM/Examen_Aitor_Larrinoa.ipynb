{
 "cells": [
  {
   "cell_type": "markdown",
   "id": "08796a5e",
   "metadata": {},
   "source": [
    "# EXAMEN SERIES TEMPORALES"
   ]
  },
  {
   "cell_type": "markdown",
   "id": "f673897c",
   "metadata": {},
   "source": [
    "## Aitor Larrinoa Rementería\n",
    "### Máster en Data Science\n",
    "### Curso 2021-2022\n"
   ]
  },
  {
   "cell_type": "markdown",
   "id": "7c0f2b0d",
   "metadata": {},
   "source": [
    "## Librerías"
   ]
  },
  {
   "cell_type": "code",
   "execution_count": 1,
   "id": "56092934",
   "metadata": {},
   "outputs": [],
   "source": [
    "import pandas as pd\n",
    "import seaborn as sns\n",
    "import matplotlib.pyplot as plt\n",
    "import numpy as np\n",
    "from statsmodels.tsa.seasonal import STL\n",
    "import statsmodels.api as sm\n",
    "import datetime"
   ]
  },
  {
   "cell_type": "code",
   "execution_count": 59,
   "id": "cb6ed264",
   "metadata": {},
   "outputs": [],
   "source": [
    "import pyarrow.parquet as pq\n",
    "import pyarrow as pa"
   ]
  },
  {
   "cell_type": "markdown",
   "id": "15ecf62e",
   "metadata": {},
   "source": [
    "## Lectura de los datos"
   ]
  },
  {
   "cell_type": "code",
   "execution_count": 3,
   "id": "ad03436e",
   "metadata": {
    "scrolled": false
   },
   "outputs": [
    {
     "data": {
      "text/html": [
       "<div>\n",
       "<style scoped>\n",
       "    .dataframe tbody tr th:only-of-type {\n",
       "        vertical-align: middle;\n",
       "    }\n",
       "\n",
       "    .dataframe tbody tr th {\n",
       "        vertical-align: top;\n",
       "    }\n",
       "\n",
       "    .dataframe thead th {\n",
       "        text-align: right;\n",
       "    }\n",
       "</style>\n",
       "<table border=\"1\" class=\"dataframe\">\n",
       "  <thead>\n",
       "    <tr style=\"text-align: right;\">\n",
       "      <th></th>\n",
       "      <th>Local date</th>\n",
       "      <th>Local hour</th>\n",
       "      <th>Local time</th>\n",
       "      <th>D</th>\n",
       "    </tr>\n",
       "  </thead>\n",
       "  <tbody>\n",
       "    <tr>\n",
       "      <th>0</th>\n",
       "      <td>2015-07-01</td>\n",
       "      <td>1</td>\n",
       "      <td>2015-07-01 01:00:00</td>\n",
       "      <td>38210</td>\n",
       "    </tr>\n",
       "    <tr>\n",
       "      <th>1</th>\n",
       "      <td>2015-07-01</td>\n",
       "      <td>2</td>\n",
       "      <td>2015-07-01 02:00:00</td>\n",
       "      <td>35171</td>\n",
       "    </tr>\n",
       "    <tr>\n",
       "      <th>2</th>\n",
       "      <td>2015-07-01</td>\n",
       "      <td>3</td>\n",
       "      <td>2015-07-01 03:00:00</td>\n",
       "      <td>33243</td>\n",
       "    </tr>\n",
       "    <tr>\n",
       "      <th>3</th>\n",
       "      <td>2015-07-01</td>\n",
       "      <td>4</td>\n",
       "      <td>2015-07-01 04:00:00</td>\n",
       "      <td>31955</td>\n",
       "    </tr>\n",
       "    <tr>\n",
       "      <th>4</th>\n",
       "      <td>2015-07-01</td>\n",
       "      <td>5</td>\n",
       "      <td>2015-07-01 05:00:00</td>\n",
       "      <td>31199</td>\n",
       "    </tr>\n",
       "    <tr>\n",
       "      <th>...</th>\n",
       "      <td>...</td>\n",
       "      <td>...</td>\n",
       "      <td>...</td>\n",
       "      <td>...</td>\n",
       "    </tr>\n",
       "    <tr>\n",
       "      <th>56267</th>\n",
       "      <td>2021-11-30</td>\n",
       "      <td>11</td>\n",
       "      <td>2021-11-30 11:00:00</td>\n",
       "      <td>29068</td>\n",
       "    </tr>\n",
       "    <tr>\n",
       "      <th>56268</th>\n",
       "      <td>2021-11-30</td>\n",
       "      <td>12</td>\n",
       "      <td>2021-11-30 12:00:00</td>\n",
       "      <td>28769</td>\n",
       "    </tr>\n",
       "    <tr>\n",
       "      <th>56269</th>\n",
       "      <td>2021-11-30</td>\n",
       "      <td>13</td>\n",
       "      <td>2021-11-30 13:00:00</td>\n",
       "      <td>29180</td>\n",
       "    </tr>\n",
       "    <tr>\n",
       "      <th>56270</th>\n",
       "      <td>2021-11-30</td>\n",
       "      <td>14</td>\n",
       "      <td>2021-11-30 14:00:00</td>\n",
       "      <td>29719</td>\n",
       "    </tr>\n",
       "    <tr>\n",
       "      <th>56271</th>\n",
       "      <td>2021-11-30</td>\n",
       "      <td>15</td>\n",
       "      <td>2021-11-30 15:00:00</td>\n",
       "      <td>30512</td>\n",
       "    </tr>\n",
       "  </tbody>\n",
       "</table>\n",
       "<p>56272 rows × 4 columns</p>\n",
       "</div>"
      ],
      "text/plain": [
       "      Local date  Local hour          Local time      D\n",
       "0     2015-07-01           1 2015-07-01 01:00:00  38210\n",
       "1     2015-07-01           2 2015-07-01 02:00:00  35171\n",
       "2     2015-07-01           3 2015-07-01 03:00:00  33243\n",
       "3     2015-07-01           4 2015-07-01 04:00:00  31955\n",
       "4     2015-07-01           5 2015-07-01 05:00:00  31199\n",
       "...          ...         ...                 ...    ...\n",
       "56267 2021-11-30          11 2021-11-30 11:00:00  29068\n",
       "56268 2021-11-30          12 2021-11-30 12:00:00  28769\n",
       "56269 2021-11-30          13 2021-11-30 13:00:00  29180\n",
       "56270 2021-11-30          14 2021-11-30 14:00:00  29719\n",
       "56271 2021-11-30          15 2021-11-30 15:00:00  30512\n",
       "\n",
       "[56272 rows x 4 columns]"
      ]
     },
     "execution_count": 3,
     "metadata": {},
     "output_type": "execute_result"
    }
   ],
   "source": [
    "datos_horarios = pd.read_excel(\"/Users/aitor/Desktop/Máster Ciencia de Datos/Series temporales/Series-temporales/data/EXAM/DemandaEnergia.xlsx\",\n",
    "             sheet_name=0)\n",
    "datos_horarios = datos_horarios.drop([\"Region\", \"UTC time\", \"Time zone\"], axis=1)\n",
    "datos_horarios"
   ]
  },
  {
   "cell_type": "code",
   "execution_count": 4,
   "id": "1089c3e7",
   "metadata": {},
   "outputs": [
    {
     "data": {
      "text/html": [
       "<div>\n",
       "<style scoped>\n",
       "    .dataframe tbody tr th:only-of-type {\n",
       "        vertical-align: middle;\n",
       "    }\n",
       "\n",
       "    .dataframe tbody tr th {\n",
       "        vertical-align: top;\n",
       "    }\n",
       "\n",
       "    .dataframe thead th {\n",
       "        text-align: right;\n",
       "    }\n",
       "</style>\n",
       "<table border=\"1\" class=\"dataframe\">\n",
       "  <thead>\n",
       "    <tr style=\"text-align: right;\">\n",
       "      <th></th>\n",
       "      <th>Local date</th>\n",
       "      <th>D</th>\n",
       "    </tr>\n",
       "    <tr>\n",
       "      <th>Local time</th>\n",
       "      <th></th>\n",
       "      <th></th>\n",
       "    </tr>\n",
       "  </thead>\n",
       "  <tbody>\n",
       "    <tr>\n",
       "      <th>2015-07-01 01:00:00</th>\n",
       "      <td>2015-07-01</td>\n",
       "      <td>38210</td>\n",
       "    </tr>\n",
       "    <tr>\n",
       "      <th>2015-07-01 02:00:00</th>\n",
       "      <td>2015-07-01</td>\n",
       "      <td>35171</td>\n",
       "    </tr>\n",
       "    <tr>\n",
       "      <th>2015-07-01 03:00:00</th>\n",
       "      <td>2015-07-01</td>\n",
       "      <td>33243</td>\n",
       "    </tr>\n",
       "    <tr>\n",
       "      <th>2015-07-01 04:00:00</th>\n",
       "      <td>2015-07-01</td>\n",
       "      <td>31955</td>\n",
       "    </tr>\n",
       "    <tr>\n",
       "      <th>2015-07-01 05:00:00</th>\n",
       "      <td>2015-07-01</td>\n",
       "      <td>31199</td>\n",
       "    </tr>\n",
       "    <tr>\n",
       "      <th>...</th>\n",
       "      <td>...</td>\n",
       "      <td>...</td>\n",
       "    </tr>\n",
       "    <tr>\n",
       "      <th>2021-11-30 11:00:00</th>\n",
       "      <td>2021-11-30</td>\n",
       "      <td>29068</td>\n",
       "    </tr>\n",
       "    <tr>\n",
       "      <th>2021-11-30 12:00:00</th>\n",
       "      <td>2021-11-30</td>\n",
       "      <td>28769</td>\n",
       "    </tr>\n",
       "    <tr>\n",
       "      <th>2021-11-30 13:00:00</th>\n",
       "      <td>2021-11-30</td>\n",
       "      <td>29180</td>\n",
       "    </tr>\n",
       "    <tr>\n",
       "      <th>2021-11-30 14:00:00</th>\n",
       "      <td>2021-11-30</td>\n",
       "      <td>29719</td>\n",
       "    </tr>\n",
       "    <tr>\n",
       "      <th>2021-11-30 15:00:00</th>\n",
       "      <td>2021-11-30</td>\n",
       "      <td>30512</td>\n",
       "    </tr>\n",
       "  </tbody>\n",
       "</table>\n",
       "<p>56272 rows × 2 columns</p>\n",
       "</div>"
      ],
      "text/plain": [
       "                    Local date      D\n",
       "Local time                           \n",
       "2015-07-01 01:00:00 2015-07-01  38210\n",
       "2015-07-01 02:00:00 2015-07-01  35171\n",
       "2015-07-01 03:00:00 2015-07-01  33243\n",
       "2015-07-01 04:00:00 2015-07-01  31955\n",
       "2015-07-01 05:00:00 2015-07-01  31199\n",
       "...                        ...    ...\n",
       "2021-11-30 11:00:00 2021-11-30  29068\n",
       "2021-11-30 12:00:00 2021-11-30  28769\n",
       "2021-11-30 13:00:00 2021-11-30  29180\n",
       "2021-11-30 14:00:00 2021-11-30  29719\n",
       "2021-11-30 15:00:00 2021-11-30  30512\n",
       "\n",
       "[56272 rows x 2 columns]"
      ]
     },
     "execution_count": 4,
     "metadata": {},
     "output_type": "execute_result"
    }
   ],
   "source": [
    "datos_horarios_formato_1 = datos_horarios.drop([\"Local hour\"], axis=1)\n",
    "datos_horarios_formato_1.index = datos_horarios_formato_1[\"Local time\"]\n",
    "datos_horarios_formato_1 = datos_horarios_formato_1.drop(\"Local time\", axis=1)\n",
    "datos_horarios_formato_1"
   ]
  },
  {
   "cell_type": "code",
   "execution_count": 5,
   "id": "401fd209",
   "metadata": {},
   "outputs": [],
   "source": [
    "datos_horarios_formato_2 = datos_horarios_formato_1"
   ]
  },
  {
   "cell_type": "markdown",
   "id": "16904fcc",
   "metadata": {},
   "source": [
    "En un año hay 365 días y si multiplicamos 365*24=8760. Luego, deberíamos tener 8760 filas en cada año del dataset, excepto en los años bisiestos. En estos años deberíamos tener 366*24=8784. Los años bisiestos en nuestro dataset son *2016* y *2020*. "
   ]
  },
  {
   "cell_type": "code",
   "execution_count": 6,
   "id": "b45554c2",
   "metadata": {},
   "outputs": [
    {
     "name": "stderr",
     "output_type": "stream",
     "text": [
      "/var/folders/3q/zfn8yb513nj10ry8w8r8_jmc0000gn/T/ipykernel_10064/1000893638.py:3: FutureWarning: Indexing a DataFrame with a datetimelike index using a single string to slice the rows, like `frame[string]`, is deprecated and will be removed in a future version. Use `frame.loc[string]` instead.\n",
      "  suma = datos_horarios_formato_1[str(año)].count()\n"
     ]
    },
    {
     "data": {
      "text/plain": [
       "{2015: Local date    4416\n",
       " D             4416\n",
       " dtype: int64,\n",
       " 2016: Local date    8784\n",
       " D             8784\n",
       " dtype: int64,\n",
       " 2017: Local date    8760\n",
       " D             8760\n",
       " dtype: int64,\n",
       " 2018: Local date    8760\n",
       " D             8760\n",
       " dtype: int64,\n",
       " 2019: Local date    8760\n",
       " D             8760\n",
       " dtype: int64,\n",
       " 2020: Local date    8784\n",
       " D             8784\n",
       " dtype: int64,\n",
       " 2021: Local date    8008\n",
       " D             8008\n",
       " dtype: int64}"
      ]
     },
     "execution_count": 6,
     "metadata": {},
     "output_type": "execute_result"
    }
   ],
   "source": [
    "dict_comprobacion=dict()\n",
    "for año in range(2015,2022):\n",
    "    suma = datos_horarios_formato_1[str(año)].count()\n",
    "    dict_comprobacion[año] = suma\n",
    "dict_comprobacion"
   ]
  },
  {
   "cell_type": "markdown",
   "id": "46157383",
   "metadata": {},
   "source": [
    "Podemos comprobar que todos los años cumplen este requisito excepto el 2015 (sus datos comienzan en julio) y 2021(sus datos acaban en noviembre). Veamos si los datos que tenemos de los años 2015 y 2021 son completos.\n",
    "- **2015**. Debemos considerar datos desde julio hasta diciembre (ambos incluidos), luego son (31*4+30*2)(días)*24(horas)=4416. Luego, el dato es correcto\n",
    "- **2021**. Eliminamos los datos del mes de diciembre al total. 8760-(31*24) = 8016. Pero, como los datos acaban a las 15:00 debemos eliminar las horas desde las 16:00 hasta las 23:00 (en total 8 horas). 8016-8 = 8008.\n",
    "\n",
    "Luego, concluimos que están todos los datos en nuestro dataset."
   ]
  },
  {
   "cell_type": "markdown",
   "id": "c188ff69",
   "metadata": {},
   "source": [
    "Deberemos introducir datos en el dataset horario debido a que nos faltan los datos de 8 horas en el último día de noviembre del año 2021. "
   ]
  },
  {
   "cell_type": "code",
   "execution_count": 7,
   "id": "de9a4ac3",
   "metadata": {},
   "outputs": [],
   "source": [
    "list_hours=list()\n",
    "for i in range(1,24):\n",
    "    list_hours.append(i)\n",
    "    \n",
    "list_hours.append(0)\n",
    "\n",
    "for año in range(2015,2021):\n",
    "    #if año == 2015:\n",
    "    #    datos_2015 = datos_horarios_formato_1[str(año)+\"-11-30\"]\n",
    "    #    datos_2015.columns = [\"D_2015\"]\n",
    "    #    datos_2015.index = list_hours\n",
    "    #elif año == 2016:\n",
    "    #    datos_2016 = datos_horarios_formato_1[str(año)+\"-11-30\"]\n",
    "    #    datos_2016.columns = [\"D_2016\"]\n",
    "    #    datos_2016.index = list_hours\n",
    "    if año == 2017:\n",
    "        datos_2017 = datos_horarios_formato_1[datos_horarios_formato_1[\"Local date\"] == str(año)+\"-11-30\"]\n",
    "        datos_2017.columns = [\"local_date\", \"D_2017\"]\n",
    "        datos_2017.index = list_hours\n",
    "    elif año == 2018:\n",
    "        datos_2018 = datos_horarios_formato_1[datos_horarios_formato_1[\"Local date\"] == str(año)+\"-11-30\"]\n",
    "        datos_2018.columns = [\"local_date\", \"D_2018\"]\n",
    "        datos_2018.index = list_hours\n",
    "    elif año == 2019:\n",
    "        datos_2019 = datos_horarios_formato_1[datos_horarios_formato_1[\"Local date\"] == str(año)+\"-11-30\"]\n",
    "        datos_2019.columns = [\"local_date\", \"D_2019\"]\n",
    "        datos_2019.index = list_hours\n",
    "    elif año == 2020:\n",
    "        datos_2020 = datos_horarios_formato_1[datos_horarios_formato_1[\"Local date\"] == str(año)+\"-11-30\"]\n",
    "        datos_2020.columns = [\"local_date\", \"D_2020\"]\n",
    "        datos_2020.index = list_hours\n",
    "\n",
    "#datos_años = pd.concat([datos_2015, datos_2016, datos_2017, datos_2018, datos_2019, datos_2020], axis=1)    \n",
    "datos_años = pd.concat([datos_2017, datos_2018, datos_2019, datos_2020], axis=1)    "
   ]
  },
  {
   "cell_type": "code",
   "execution_count": 8,
   "id": "128b1465",
   "metadata": {},
   "outputs": [
    {
     "data": {
      "text/plain": [
       "DatetimeIndex(['2021-11-30 01:00:00', '2021-11-30 02:00:00',\n",
       "               '2021-11-30 03:00:00', '2021-11-30 04:00:00',\n",
       "               '2021-11-30 05:00:00', '2021-11-30 06:00:00',\n",
       "               '2021-11-30 07:00:00', '2021-11-30 08:00:00',\n",
       "               '2021-11-30 09:00:00', '2021-11-30 10:00:00',\n",
       "               '2021-11-30 11:00:00', '2021-11-30 12:00:00',\n",
       "               '2021-11-30 13:00:00', '2021-11-30 14:00:00',\n",
       "               '2021-11-30 15:00:00', '2021-11-30 16:00:00',\n",
       "               '2021-11-30 17:00:00', '2021-11-30 18:00:00',\n",
       "               '2021-11-30 19:00:00', '2021-11-30 20:00:00',\n",
       "               '2021-11-30 21:00:00', '2021-11-30 22:00:00',\n",
       "               '2021-11-30 23:00:00', '2021-12-01 00:00:00'],\n",
       "              dtype='datetime64[ns]', freq='H')"
      ]
     },
     "execution_count": 8,
     "metadata": {},
     "output_type": "execute_result"
    }
   ],
   "source": [
    "pd.date_range(start='2021/11/30', periods=25, freq='H')[1:]"
   ]
  },
  {
   "cell_type": "code",
   "execution_count": 9,
   "id": "1919d970",
   "metadata": {},
   "outputs": [
    {
     "data": {
      "text/html": [
       "<div>\n",
       "<style scoped>\n",
       "    .dataframe tbody tr th:only-of-type {\n",
       "        vertical-align: middle;\n",
       "    }\n",
       "\n",
       "    .dataframe tbody tr th {\n",
       "        vertical-align: top;\n",
       "    }\n",
       "\n",
       "    .dataframe thead th {\n",
       "        text-align: right;\n",
       "    }\n",
       "</style>\n",
       "<table border=\"1\" class=\"dataframe\">\n",
       "  <thead>\n",
       "    <tr style=\"text-align: right;\">\n",
       "      <th></th>\n",
       "      <th>local_date</th>\n",
       "      <th>D_2017</th>\n",
       "      <th>local_date</th>\n",
       "      <th>D_2018</th>\n",
       "      <th>local_date</th>\n",
       "      <th>D_2019</th>\n",
       "      <th>local_date</th>\n",
       "      <th>D_2020</th>\n",
       "    </tr>\n",
       "  </thead>\n",
       "  <tbody>\n",
       "    <tr>\n",
       "      <th>1</th>\n",
       "      <td>2017-11-30</td>\n",
       "      <td>26807</td>\n",
       "      <td>2018-11-30</td>\n",
       "      <td>26126</td>\n",
       "      <td>2019-11-30</td>\n",
       "      <td>26316</td>\n",
       "      <td>2020-11-30</td>\n",
       "      <td>25289</td>\n",
       "    </tr>\n",
       "    <tr>\n",
       "      <th>2</th>\n",
       "      <td>2017-11-30</td>\n",
       "      <td>25796</td>\n",
       "      <td>2018-11-30</td>\n",
       "      <td>25284</td>\n",
       "      <td>2019-11-30</td>\n",
       "      <td>25559</td>\n",
       "      <td>2020-11-30</td>\n",
       "      <td>24575</td>\n",
       "    </tr>\n",
       "    <tr>\n",
       "      <th>3</th>\n",
       "      <td>2017-11-30</td>\n",
       "      <td>25230</td>\n",
       "      <td>2018-11-30</td>\n",
       "      <td>24703</td>\n",
       "      <td>2019-11-30</td>\n",
       "      <td>24909</td>\n",
       "      <td>2020-11-30</td>\n",
       "      <td>24283</td>\n",
       "    </tr>\n",
       "    <tr>\n",
       "      <th>4</th>\n",
       "      <td>2017-11-30</td>\n",
       "      <td>25157</td>\n",
       "      <td>2018-11-30</td>\n",
       "      <td>24571</td>\n",
       "      <td>2019-11-30</td>\n",
       "      <td>24656</td>\n",
       "      <td>2020-11-30</td>\n",
       "      <td>24444</td>\n",
       "    </tr>\n",
       "    <tr>\n",
       "      <th>5</th>\n",
       "      <td>2017-11-30</td>\n",
       "      <td>25984</td>\n",
       "      <td>2018-11-30</td>\n",
       "      <td>25009</td>\n",
       "      <td>2019-11-30</td>\n",
       "      <td>24869</td>\n",
       "      <td>2020-11-30</td>\n",
       "      <td>25302</td>\n",
       "    </tr>\n",
       "    <tr>\n",
       "      <th>6</th>\n",
       "      <td>2017-11-30</td>\n",
       "      <td>28034</td>\n",
       "      <td>2018-11-30</td>\n",
       "      <td>26868</td>\n",
       "      <td>2019-11-30</td>\n",
       "      <td>25547</td>\n",
       "      <td>2020-11-30</td>\n",
       "      <td>27238</td>\n",
       "    </tr>\n",
       "    <tr>\n",
       "      <th>7</th>\n",
       "      <td>2017-11-30</td>\n",
       "      <td>31095</td>\n",
       "      <td>2018-11-30</td>\n",
       "      <td>29594</td>\n",
       "      <td>2019-11-30</td>\n",
       "      <td>26436</td>\n",
       "      <td>2020-11-30</td>\n",
       "      <td>29730</td>\n",
       "    </tr>\n",
       "    <tr>\n",
       "      <th>8</th>\n",
       "      <td>2017-11-30</td>\n",
       "      <td>32442</td>\n",
       "      <td>2018-11-30</td>\n",
       "      <td>30758</td>\n",
       "      <td>2019-11-30</td>\n",
       "      <td>26585</td>\n",
       "      <td>2020-11-30</td>\n",
       "      <td>31164</td>\n",
       "    </tr>\n",
       "    <tr>\n",
       "      <th>9</th>\n",
       "      <td>2017-11-30</td>\n",
       "      <td>32144</td>\n",
       "      <td>2018-11-30</td>\n",
       "      <td>30712</td>\n",
       "      <td>2019-11-30</td>\n",
       "      <td>27000</td>\n",
       "      <td>2020-11-30</td>\n",
       "      <td>30919</td>\n",
       "    </tr>\n",
       "    <tr>\n",
       "      <th>10</th>\n",
       "      <td>2017-11-30</td>\n",
       "      <td>31552</td>\n",
       "      <td>2018-11-30</td>\n",
       "      <td>30305</td>\n",
       "      <td>2019-11-30</td>\n",
       "      <td>27761</td>\n",
       "      <td>2020-11-30</td>\n",
       "      <td>29803</td>\n",
       "    </tr>\n",
       "    <tr>\n",
       "      <th>11</th>\n",
       "      <td>2017-11-30</td>\n",
       "      <td>31332</td>\n",
       "      <td>2018-11-30</td>\n",
       "      <td>29532</td>\n",
       "      <td>2019-11-30</td>\n",
       "      <td>28220</td>\n",
       "      <td>2020-11-30</td>\n",
       "      <td>28723</td>\n",
       "    </tr>\n",
       "    <tr>\n",
       "      <th>12</th>\n",
       "      <td>2017-11-30</td>\n",
       "      <td>31144</td>\n",
       "      <td>2018-11-30</td>\n",
       "      <td>29387</td>\n",
       "      <td>2019-11-30</td>\n",
       "      <td>27815</td>\n",
       "      <td>2020-11-30</td>\n",
       "      <td>28147</td>\n",
       "    </tr>\n",
       "    <tr>\n",
       "      <th>13</th>\n",
       "      <td>2017-11-30</td>\n",
       "      <td>31181</td>\n",
       "      <td>2018-11-30</td>\n",
       "      <td>29338</td>\n",
       "      <td>2019-11-30</td>\n",
       "      <td>28322</td>\n",
       "      <td>2020-11-30</td>\n",
       "      <td>28040</td>\n",
       "    </tr>\n",
       "    <tr>\n",
       "      <th>14</th>\n",
       "      <td>2017-11-30</td>\n",
       "      <td>31604</td>\n",
       "      <td>2018-11-30</td>\n",
       "      <td>29456</td>\n",
       "      <td>2019-11-30</td>\n",
       "      <td>28709</td>\n",
       "      <td>2020-11-30</td>\n",
       "      <td>28240</td>\n",
       "    </tr>\n",
       "    <tr>\n",
       "      <th>15</th>\n",
       "      <td>2017-11-30</td>\n",
       "      <td>31846</td>\n",
       "      <td>2018-11-30</td>\n",
       "      <td>29599</td>\n",
       "      <td>2019-11-30</td>\n",
       "      <td>29050</td>\n",
       "      <td>2020-11-30</td>\n",
       "      <td>29046</td>\n",
       "    </tr>\n",
       "    <tr>\n",
       "      <th>16</th>\n",
       "      <td>2017-11-30</td>\n",
       "      <td>32396</td>\n",
       "      <td>2018-11-30</td>\n",
       "      <td>30184</td>\n",
       "      <td>2019-11-30</td>\n",
       "      <td>29923</td>\n",
       "      <td>2020-11-30</td>\n",
       "      <td>30436</td>\n",
       "    </tr>\n",
       "    <tr>\n",
       "      <th>17</th>\n",
       "      <td>2017-11-30</td>\n",
       "      <td>33832</td>\n",
       "      <td>2018-11-30</td>\n",
       "      <td>31625</td>\n",
       "      <td>2019-11-30</td>\n",
       "      <td>31404</td>\n",
       "      <td>2020-11-30</td>\n",
       "      <td>32308</td>\n",
       "    </tr>\n",
       "    <tr>\n",
       "      <th>18</th>\n",
       "      <td>2017-11-30</td>\n",
       "      <td>36394</td>\n",
       "      <td>2018-11-30</td>\n",
       "      <td>34273</td>\n",
       "      <td>2019-11-30</td>\n",
       "      <td>32989</td>\n",
       "      <td>2020-11-30</td>\n",
       "      <td>34930</td>\n",
       "    </tr>\n",
       "    <tr>\n",
       "      <th>19</th>\n",
       "      <td>2017-11-30</td>\n",
       "      <td>36297</td>\n",
       "      <td>2018-11-30</td>\n",
       "      <td>34155</td>\n",
       "      <td>2019-11-30</td>\n",
       "      <td>32892</td>\n",
       "      <td>2020-11-30</td>\n",
       "      <td>34907</td>\n",
       "    </tr>\n",
       "    <tr>\n",
       "      <th>20</th>\n",
       "      <td>2017-11-30</td>\n",
       "      <td>35750</td>\n",
       "      <td>2018-11-30</td>\n",
       "      <td>33458</td>\n",
       "      <td>2019-11-30</td>\n",
       "      <td>32377</td>\n",
       "      <td>2020-11-30</td>\n",
       "      <td>34178</td>\n",
       "    </tr>\n",
       "    <tr>\n",
       "      <th>21</th>\n",
       "      <td>2017-11-30</td>\n",
       "      <td>34824</td>\n",
       "      <td>2018-11-30</td>\n",
       "      <td>32698</td>\n",
       "      <td>2019-11-30</td>\n",
       "      <td>31682</td>\n",
       "      <td>2020-11-30</td>\n",
       "      <td>33190</td>\n",
       "    </tr>\n",
       "    <tr>\n",
       "      <th>22</th>\n",
       "      <td>2017-11-30</td>\n",
       "      <td>33091</td>\n",
       "      <td>2018-11-30</td>\n",
       "      <td>31391</td>\n",
       "      <td>2019-11-30</td>\n",
       "      <td>30679</td>\n",
       "      <td>2020-11-30</td>\n",
       "      <td>31910</td>\n",
       "    </tr>\n",
       "    <tr>\n",
       "      <th>23</th>\n",
       "      <td>2017-11-30</td>\n",
       "      <td>30622</td>\n",
       "      <td>2018-11-30</td>\n",
       "      <td>29594</td>\n",
       "      <td>2019-11-30</td>\n",
       "      <td>29034</td>\n",
       "      <td>2020-11-30</td>\n",
       "      <td>29755</td>\n",
       "    </tr>\n",
       "    <tr>\n",
       "      <th>0</th>\n",
       "      <td>2017-11-30</td>\n",
       "      <td>28622</td>\n",
       "      <td>2018-11-30</td>\n",
       "      <td>27505</td>\n",
       "      <td>2019-11-30</td>\n",
       "      <td>27246</td>\n",
       "      <td>2020-11-30</td>\n",
       "      <td>27823</td>\n",
       "    </tr>\n",
       "  </tbody>\n",
       "</table>\n",
       "</div>"
      ],
      "text/plain": [
       "   local_date  D_2017 local_date  D_2018 local_date  D_2019 local_date  D_2020\n",
       "1  2017-11-30   26807 2018-11-30   26126 2019-11-30   26316 2020-11-30   25289\n",
       "2  2017-11-30   25796 2018-11-30   25284 2019-11-30   25559 2020-11-30   24575\n",
       "3  2017-11-30   25230 2018-11-30   24703 2019-11-30   24909 2020-11-30   24283\n",
       "4  2017-11-30   25157 2018-11-30   24571 2019-11-30   24656 2020-11-30   24444\n",
       "5  2017-11-30   25984 2018-11-30   25009 2019-11-30   24869 2020-11-30   25302\n",
       "6  2017-11-30   28034 2018-11-30   26868 2019-11-30   25547 2020-11-30   27238\n",
       "7  2017-11-30   31095 2018-11-30   29594 2019-11-30   26436 2020-11-30   29730\n",
       "8  2017-11-30   32442 2018-11-30   30758 2019-11-30   26585 2020-11-30   31164\n",
       "9  2017-11-30   32144 2018-11-30   30712 2019-11-30   27000 2020-11-30   30919\n",
       "10 2017-11-30   31552 2018-11-30   30305 2019-11-30   27761 2020-11-30   29803\n",
       "11 2017-11-30   31332 2018-11-30   29532 2019-11-30   28220 2020-11-30   28723\n",
       "12 2017-11-30   31144 2018-11-30   29387 2019-11-30   27815 2020-11-30   28147\n",
       "13 2017-11-30   31181 2018-11-30   29338 2019-11-30   28322 2020-11-30   28040\n",
       "14 2017-11-30   31604 2018-11-30   29456 2019-11-30   28709 2020-11-30   28240\n",
       "15 2017-11-30   31846 2018-11-30   29599 2019-11-30   29050 2020-11-30   29046\n",
       "16 2017-11-30   32396 2018-11-30   30184 2019-11-30   29923 2020-11-30   30436\n",
       "17 2017-11-30   33832 2018-11-30   31625 2019-11-30   31404 2020-11-30   32308\n",
       "18 2017-11-30   36394 2018-11-30   34273 2019-11-30   32989 2020-11-30   34930\n",
       "19 2017-11-30   36297 2018-11-30   34155 2019-11-30   32892 2020-11-30   34907\n",
       "20 2017-11-30   35750 2018-11-30   33458 2019-11-30   32377 2020-11-30   34178\n",
       "21 2017-11-30   34824 2018-11-30   32698 2019-11-30   31682 2020-11-30   33190\n",
       "22 2017-11-30   33091 2018-11-30   31391 2019-11-30   30679 2020-11-30   31910\n",
       "23 2017-11-30   30622 2018-11-30   29594 2019-11-30   29034 2020-11-30   29755\n",
       "0  2017-11-30   28622 2018-11-30   27505 2019-11-30   27246 2020-11-30   27823"
      ]
     },
     "execution_count": 9,
     "metadata": {},
     "output_type": "execute_result"
    }
   ],
   "source": [
    "datos_años"
   ]
  },
  {
   "cell_type": "code",
   "execution_count": 10,
   "id": "2164df95",
   "metadata": {},
   "outputs": [
    {
     "name": "stderr",
     "output_type": "stream",
     "text": [
      "/var/folders/3q/zfn8yb513nj10ry8w8r8_jmc0000gn/T/ipykernel_10064/1762269170.py:1: FutureWarning: DataFrame.mean and DataFrame.median with numeric_only=None will include datetime64 and datetime64tz columns in a future version.\n",
      "  datos_años[\"media\"] = np.round(datos_años.mean(axis=1),0).astype(int)\n"
     ]
    },
    {
     "data": {
      "text/html": [
       "<div>\n",
       "<style scoped>\n",
       "    .dataframe tbody tr th:only-of-type {\n",
       "        vertical-align: middle;\n",
       "    }\n",
       "\n",
       "    .dataframe tbody tr th {\n",
       "        vertical-align: top;\n",
       "    }\n",
       "\n",
       "    .dataframe thead th {\n",
       "        text-align: right;\n",
       "    }\n",
       "</style>\n",
       "<table border=\"1\" class=\"dataframe\">\n",
       "  <thead>\n",
       "    <tr style=\"text-align: right;\">\n",
       "      <th></th>\n",
       "      <th>local_date</th>\n",
       "      <th>D_2017</th>\n",
       "      <th>local_date</th>\n",
       "      <th>D_2018</th>\n",
       "      <th>local_date</th>\n",
       "      <th>D_2019</th>\n",
       "      <th>local_date</th>\n",
       "      <th>D_2020</th>\n",
       "      <th>media</th>\n",
       "    </tr>\n",
       "  </thead>\n",
       "  <tbody>\n",
       "    <tr>\n",
       "      <th>2021-11-30 01:00:00</th>\n",
       "      <td>2017-11-30</td>\n",
       "      <td>26807</td>\n",
       "      <td>2018-11-30</td>\n",
       "      <td>26126</td>\n",
       "      <td>2019-11-30</td>\n",
       "      <td>26316</td>\n",
       "      <td>2020-11-30</td>\n",
       "      <td>25289</td>\n",
       "      <td>26134</td>\n",
       "    </tr>\n",
       "    <tr>\n",
       "      <th>2021-11-30 02:00:00</th>\n",
       "      <td>2017-11-30</td>\n",
       "      <td>25796</td>\n",
       "      <td>2018-11-30</td>\n",
       "      <td>25284</td>\n",
       "      <td>2019-11-30</td>\n",
       "      <td>25559</td>\n",
       "      <td>2020-11-30</td>\n",
       "      <td>24575</td>\n",
       "      <td>25304</td>\n",
       "    </tr>\n",
       "    <tr>\n",
       "      <th>2021-11-30 03:00:00</th>\n",
       "      <td>2017-11-30</td>\n",
       "      <td>25230</td>\n",
       "      <td>2018-11-30</td>\n",
       "      <td>24703</td>\n",
       "      <td>2019-11-30</td>\n",
       "      <td>24909</td>\n",
       "      <td>2020-11-30</td>\n",
       "      <td>24283</td>\n",
       "      <td>24781</td>\n",
       "    </tr>\n",
       "    <tr>\n",
       "      <th>2021-11-30 04:00:00</th>\n",
       "      <td>2017-11-30</td>\n",
       "      <td>25157</td>\n",
       "      <td>2018-11-30</td>\n",
       "      <td>24571</td>\n",
       "      <td>2019-11-30</td>\n",
       "      <td>24656</td>\n",
       "      <td>2020-11-30</td>\n",
       "      <td>24444</td>\n",
       "      <td>24707</td>\n",
       "    </tr>\n",
       "    <tr>\n",
       "      <th>2021-11-30 05:00:00</th>\n",
       "      <td>2017-11-30</td>\n",
       "      <td>25984</td>\n",
       "      <td>2018-11-30</td>\n",
       "      <td>25009</td>\n",
       "      <td>2019-11-30</td>\n",
       "      <td>24869</td>\n",
       "      <td>2020-11-30</td>\n",
       "      <td>25302</td>\n",
       "      <td>25291</td>\n",
       "    </tr>\n",
       "    <tr>\n",
       "      <th>2021-11-30 06:00:00</th>\n",
       "      <td>2017-11-30</td>\n",
       "      <td>28034</td>\n",
       "      <td>2018-11-30</td>\n",
       "      <td>26868</td>\n",
       "      <td>2019-11-30</td>\n",
       "      <td>25547</td>\n",
       "      <td>2020-11-30</td>\n",
       "      <td>27238</td>\n",
       "      <td>26922</td>\n",
       "    </tr>\n",
       "    <tr>\n",
       "      <th>2021-11-30 07:00:00</th>\n",
       "      <td>2017-11-30</td>\n",
       "      <td>31095</td>\n",
       "      <td>2018-11-30</td>\n",
       "      <td>29594</td>\n",
       "      <td>2019-11-30</td>\n",
       "      <td>26436</td>\n",
       "      <td>2020-11-30</td>\n",
       "      <td>29730</td>\n",
       "      <td>29214</td>\n",
       "    </tr>\n",
       "    <tr>\n",
       "      <th>2021-11-30 08:00:00</th>\n",
       "      <td>2017-11-30</td>\n",
       "      <td>32442</td>\n",
       "      <td>2018-11-30</td>\n",
       "      <td>30758</td>\n",
       "      <td>2019-11-30</td>\n",
       "      <td>26585</td>\n",
       "      <td>2020-11-30</td>\n",
       "      <td>31164</td>\n",
       "      <td>30237</td>\n",
       "    </tr>\n",
       "    <tr>\n",
       "      <th>2021-11-30 09:00:00</th>\n",
       "      <td>2017-11-30</td>\n",
       "      <td>32144</td>\n",
       "      <td>2018-11-30</td>\n",
       "      <td>30712</td>\n",
       "      <td>2019-11-30</td>\n",
       "      <td>27000</td>\n",
       "      <td>2020-11-30</td>\n",
       "      <td>30919</td>\n",
       "      <td>30194</td>\n",
       "    </tr>\n",
       "    <tr>\n",
       "      <th>2021-11-30 10:00:00</th>\n",
       "      <td>2017-11-30</td>\n",
       "      <td>31552</td>\n",
       "      <td>2018-11-30</td>\n",
       "      <td>30305</td>\n",
       "      <td>2019-11-30</td>\n",
       "      <td>27761</td>\n",
       "      <td>2020-11-30</td>\n",
       "      <td>29803</td>\n",
       "      <td>29855</td>\n",
       "    </tr>\n",
       "    <tr>\n",
       "      <th>2021-11-30 11:00:00</th>\n",
       "      <td>2017-11-30</td>\n",
       "      <td>31332</td>\n",
       "      <td>2018-11-30</td>\n",
       "      <td>29532</td>\n",
       "      <td>2019-11-30</td>\n",
       "      <td>28220</td>\n",
       "      <td>2020-11-30</td>\n",
       "      <td>28723</td>\n",
       "      <td>29452</td>\n",
       "    </tr>\n",
       "    <tr>\n",
       "      <th>2021-11-30 12:00:00</th>\n",
       "      <td>2017-11-30</td>\n",
       "      <td>31144</td>\n",
       "      <td>2018-11-30</td>\n",
       "      <td>29387</td>\n",
       "      <td>2019-11-30</td>\n",
       "      <td>27815</td>\n",
       "      <td>2020-11-30</td>\n",
       "      <td>28147</td>\n",
       "      <td>29123</td>\n",
       "    </tr>\n",
       "    <tr>\n",
       "      <th>2021-11-30 13:00:00</th>\n",
       "      <td>2017-11-30</td>\n",
       "      <td>31181</td>\n",
       "      <td>2018-11-30</td>\n",
       "      <td>29338</td>\n",
       "      <td>2019-11-30</td>\n",
       "      <td>28322</td>\n",
       "      <td>2020-11-30</td>\n",
       "      <td>28040</td>\n",
       "      <td>29220</td>\n",
       "    </tr>\n",
       "    <tr>\n",
       "      <th>2021-11-30 14:00:00</th>\n",
       "      <td>2017-11-30</td>\n",
       "      <td>31604</td>\n",
       "      <td>2018-11-30</td>\n",
       "      <td>29456</td>\n",
       "      <td>2019-11-30</td>\n",
       "      <td>28709</td>\n",
       "      <td>2020-11-30</td>\n",
       "      <td>28240</td>\n",
       "      <td>29502</td>\n",
       "    </tr>\n",
       "    <tr>\n",
       "      <th>2021-11-30 15:00:00</th>\n",
       "      <td>2017-11-30</td>\n",
       "      <td>31846</td>\n",
       "      <td>2018-11-30</td>\n",
       "      <td>29599</td>\n",
       "      <td>2019-11-30</td>\n",
       "      <td>29050</td>\n",
       "      <td>2020-11-30</td>\n",
       "      <td>29046</td>\n",
       "      <td>29885</td>\n",
       "    </tr>\n",
       "    <tr>\n",
       "      <th>2021-11-30 16:00:00</th>\n",
       "      <td>2017-11-30</td>\n",
       "      <td>32396</td>\n",
       "      <td>2018-11-30</td>\n",
       "      <td>30184</td>\n",
       "      <td>2019-11-30</td>\n",
       "      <td>29923</td>\n",
       "      <td>2020-11-30</td>\n",
       "      <td>30436</td>\n",
       "      <td>30735</td>\n",
       "    </tr>\n",
       "    <tr>\n",
       "      <th>2021-11-30 17:00:00</th>\n",
       "      <td>2017-11-30</td>\n",
       "      <td>33832</td>\n",
       "      <td>2018-11-30</td>\n",
       "      <td>31625</td>\n",
       "      <td>2019-11-30</td>\n",
       "      <td>31404</td>\n",
       "      <td>2020-11-30</td>\n",
       "      <td>32308</td>\n",
       "      <td>32292</td>\n",
       "    </tr>\n",
       "    <tr>\n",
       "      <th>2021-11-30 18:00:00</th>\n",
       "      <td>2017-11-30</td>\n",
       "      <td>36394</td>\n",
       "      <td>2018-11-30</td>\n",
       "      <td>34273</td>\n",
       "      <td>2019-11-30</td>\n",
       "      <td>32989</td>\n",
       "      <td>2020-11-30</td>\n",
       "      <td>34930</td>\n",
       "      <td>34646</td>\n",
       "    </tr>\n",
       "    <tr>\n",
       "      <th>2021-11-30 19:00:00</th>\n",
       "      <td>2017-11-30</td>\n",
       "      <td>36297</td>\n",
       "      <td>2018-11-30</td>\n",
       "      <td>34155</td>\n",
       "      <td>2019-11-30</td>\n",
       "      <td>32892</td>\n",
       "      <td>2020-11-30</td>\n",
       "      <td>34907</td>\n",
       "      <td>34563</td>\n",
       "    </tr>\n",
       "    <tr>\n",
       "      <th>2021-11-30 20:00:00</th>\n",
       "      <td>2017-11-30</td>\n",
       "      <td>35750</td>\n",
       "      <td>2018-11-30</td>\n",
       "      <td>33458</td>\n",
       "      <td>2019-11-30</td>\n",
       "      <td>32377</td>\n",
       "      <td>2020-11-30</td>\n",
       "      <td>34178</td>\n",
       "      <td>33941</td>\n",
       "    </tr>\n",
       "    <tr>\n",
       "      <th>2021-11-30 21:00:00</th>\n",
       "      <td>2017-11-30</td>\n",
       "      <td>34824</td>\n",
       "      <td>2018-11-30</td>\n",
       "      <td>32698</td>\n",
       "      <td>2019-11-30</td>\n",
       "      <td>31682</td>\n",
       "      <td>2020-11-30</td>\n",
       "      <td>33190</td>\n",
       "      <td>33098</td>\n",
       "    </tr>\n",
       "    <tr>\n",
       "      <th>2021-11-30 22:00:00</th>\n",
       "      <td>2017-11-30</td>\n",
       "      <td>33091</td>\n",
       "      <td>2018-11-30</td>\n",
       "      <td>31391</td>\n",
       "      <td>2019-11-30</td>\n",
       "      <td>30679</td>\n",
       "      <td>2020-11-30</td>\n",
       "      <td>31910</td>\n",
       "      <td>31768</td>\n",
       "    </tr>\n",
       "    <tr>\n",
       "      <th>2021-11-30 23:00:00</th>\n",
       "      <td>2017-11-30</td>\n",
       "      <td>30622</td>\n",
       "      <td>2018-11-30</td>\n",
       "      <td>29594</td>\n",
       "      <td>2019-11-30</td>\n",
       "      <td>29034</td>\n",
       "      <td>2020-11-30</td>\n",
       "      <td>29755</td>\n",
       "      <td>29751</td>\n",
       "    </tr>\n",
       "    <tr>\n",
       "      <th>2021-12-01 00:00:00</th>\n",
       "      <td>2017-11-30</td>\n",
       "      <td>28622</td>\n",
       "      <td>2018-11-30</td>\n",
       "      <td>27505</td>\n",
       "      <td>2019-11-30</td>\n",
       "      <td>27246</td>\n",
       "      <td>2020-11-30</td>\n",
       "      <td>27823</td>\n",
       "      <td>27799</td>\n",
       "    </tr>\n",
       "  </tbody>\n",
       "</table>\n",
       "</div>"
      ],
      "text/plain": [
       "                    local_date  D_2017 local_date  D_2018 local_date  D_2019  \\\n",
       "2021-11-30 01:00:00 2017-11-30   26807 2018-11-30   26126 2019-11-30   26316   \n",
       "2021-11-30 02:00:00 2017-11-30   25796 2018-11-30   25284 2019-11-30   25559   \n",
       "2021-11-30 03:00:00 2017-11-30   25230 2018-11-30   24703 2019-11-30   24909   \n",
       "2021-11-30 04:00:00 2017-11-30   25157 2018-11-30   24571 2019-11-30   24656   \n",
       "2021-11-30 05:00:00 2017-11-30   25984 2018-11-30   25009 2019-11-30   24869   \n",
       "2021-11-30 06:00:00 2017-11-30   28034 2018-11-30   26868 2019-11-30   25547   \n",
       "2021-11-30 07:00:00 2017-11-30   31095 2018-11-30   29594 2019-11-30   26436   \n",
       "2021-11-30 08:00:00 2017-11-30   32442 2018-11-30   30758 2019-11-30   26585   \n",
       "2021-11-30 09:00:00 2017-11-30   32144 2018-11-30   30712 2019-11-30   27000   \n",
       "2021-11-30 10:00:00 2017-11-30   31552 2018-11-30   30305 2019-11-30   27761   \n",
       "2021-11-30 11:00:00 2017-11-30   31332 2018-11-30   29532 2019-11-30   28220   \n",
       "2021-11-30 12:00:00 2017-11-30   31144 2018-11-30   29387 2019-11-30   27815   \n",
       "2021-11-30 13:00:00 2017-11-30   31181 2018-11-30   29338 2019-11-30   28322   \n",
       "2021-11-30 14:00:00 2017-11-30   31604 2018-11-30   29456 2019-11-30   28709   \n",
       "2021-11-30 15:00:00 2017-11-30   31846 2018-11-30   29599 2019-11-30   29050   \n",
       "2021-11-30 16:00:00 2017-11-30   32396 2018-11-30   30184 2019-11-30   29923   \n",
       "2021-11-30 17:00:00 2017-11-30   33832 2018-11-30   31625 2019-11-30   31404   \n",
       "2021-11-30 18:00:00 2017-11-30   36394 2018-11-30   34273 2019-11-30   32989   \n",
       "2021-11-30 19:00:00 2017-11-30   36297 2018-11-30   34155 2019-11-30   32892   \n",
       "2021-11-30 20:00:00 2017-11-30   35750 2018-11-30   33458 2019-11-30   32377   \n",
       "2021-11-30 21:00:00 2017-11-30   34824 2018-11-30   32698 2019-11-30   31682   \n",
       "2021-11-30 22:00:00 2017-11-30   33091 2018-11-30   31391 2019-11-30   30679   \n",
       "2021-11-30 23:00:00 2017-11-30   30622 2018-11-30   29594 2019-11-30   29034   \n",
       "2021-12-01 00:00:00 2017-11-30   28622 2018-11-30   27505 2019-11-30   27246   \n",
       "\n",
       "                    local_date  D_2020  media  \n",
       "2021-11-30 01:00:00 2020-11-30   25289  26134  \n",
       "2021-11-30 02:00:00 2020-11-30   24575  25304  \n",
       "2021-11-30 03:00:00 2020-11-30   24283  24781  \n",
       "2021-11-30 04:00:00 2020-11-30   24444  24707  \n",
       "2021-11-30 05:00:00 2020-11-30   25302  25291  \n",
       "2021-11-30 06:00:00 2020-11-30   27238  26922  \n",
       "2021-11-30 07:00:00 2020-11-30   29730  29214  \n",
       "2021-11-30 08:00:00 2020-11-30   31164  30237  \n",
       "2021-11-30 09:00:00 2020-11-30   30919  30194  \n",
       "2021-11-30 10:00:00 2020-11-30   29803  29855  \n",
       "2021-11-30 11:00:00 2020-11-30   28723  29452  \n",
       "2021-11-30 12:00:00 2020-11-30   28147  29123  \n",
       "2021-11-30 13:00:00 2020-11-30   28040  29220  \n",
       "2021-11-30 14:00:00 2020-11-30   28240  29502  \n",
       "2021-11-30 15:00:00 2020-11-30   29046  29885  \n",
       "2021-11-30 16:00:00 2020-11-30   30436  30735  \n",
       "2021-11-30 17:00:00 2020-11-30   32308  32292  \n",
       "2021-11-30 18:00:00 2020-11-30   34930  34646  \n",
       "2021-11-30 19:00:00 2020-11-30   34907  34563  \n",
       "2021-11-30 20:00:00 2020-11-30   34178  33941  \n",
       "2021-11-30 21:00:00 2020-11-30   33190  33098  \n",
       "2021-11-30 22:00:00 2020-11-30   31910  31768  \n",
       "2021-11-30 23:00:00 2020-11-30   29755  29751  \n",
       "2021-12-01 00:00:00 2020-11-30   27823  27799  "
      ]
     },
     "execution_count": 10,
     "metadata": {},
     "output_type": "execute_result"
    }
   ],
   "source": [
    "datos_años[\"media\"] = np.round(datos_años.mean(axis=1),0).astype(int)\n",
    "datos_años.index = pd.date_range(start='2021/11/30', periods=25, freq='H')[1:]\n",
    "datos_años"
   ]
  },
  {
   "cell_type": "markdown",
   "id": "bb26d29b",
   "metadata": {},
   "source": [
    "Nos quedamos con los datos que nos interesan (entre las 15.00 y las 23:00)"
   ]
  },
  {
   "cell_type": "code",
   "execution_count": 11,
   "id": "bf0372e1",
   "metadata": {},
   "outputs": [
    {
     "data": {
      "text/plain": [
       "2021-11-30 16:00:00    30735\n",
       "2021-11-30 17:00:00    32292\n",
       "2021-11-30 18:00:00    34646\n",
       "2021-11-30 19:00:00    34563\n",
       "2021-11-30 20:00:00    33941\n",
       "2021-11-30 21:00:00    33098\n",
       "2021-11-30 22:00:00    31768\n",
       "2021-11-30 23:00:00    29751\n",
       "2021-12-01 00:00:00    27799\n",
       "Freq: H, Name: media, dtype: int64"
      ]
     },
     "execution_count": 11,
     "metadata": {},
     "output_type": "execute_result"
    }
   ],
   "source": [
    "datos_años.iloc[15:24][\"media\"]"
   ]
  },
  {
   "cell_type": "markdown",
   "id": "6e0cbfe4",
   "metadata": {},
   "source": [
    "Luego, los datos que introduciremos en nuestro dataset serán los de la columna media."
   ]
  },
  {
   "cell_type": "code",
   "execution_count": 12,
   "id": "8724cdbf",
   "metadata": {},
   "outputs": [],
   "source": [
    "datos_horarios_formato_1 = pd.concat([datos_horarios_formato_1, datos_años.iloc[15:24][[\"media\"]]],  axis = 0)"
   ]
  },
  {
   "cell_type": "code",
   "execution_count": 13,
   "id": "4cfce4a3",
   "metadata": {},
   "outputs": [
    {
     "data": {
      "text/html": [
       "<div>\n",
       "<style scoped>\n",
       "    .dataframe tbody tr th:only-of-type {\n",
       "        vertical-align: middle;\n",
       "    }\n",
       "\n",
       "    .dataframe tbody tr th {\n",
       "        vertical-align: top;\n",
       "    }\n",
       "\n",
       "    .dataframe thead th {\n",
       "        text-align: right;\n",
       "    }\n",
       "</style>\n",
       "<table border=\"1\" class=\"dataframe\">\n",
       "  <thead>\n",
       "    <tr style=\"text-align: right;\">\n",
       "      <th></th>\n",
       "      <th>Local date</th>\n",
       "      <th>D</th>\n",
       "      <th>media</th>\n",
       "    </tr>\n",
       "  </thead>\n",
       "  <tbody>\n",
       "    <tr>\n",
       "      <th>2015-07-01 01:00:00</th>\n",
       "      <td>2015-07-01</td>\n",
       "      <td>38210.0</td>\n",
       "      <td>NaN</td>\n",
       "    </tr>\n",
       "    <tr>\n",
       "      <th>2015-07-01 02:00:00</th>\n",
       "      <td>2015-07-01</td>\n",
       "      <td>35171.0</td>\n",
       "      <td>NaN</td>\n",
       "    </tr>\n",
       "    <tr>\n",
       "      <th>2015-07-01 03:00:00</th>\n",
       "      <td>2015-07-01</td>\n",
       "      <td>33243.0</td>\n",
       "      <td>NaN</td>\n",
       "    </tr>\n",
       "    <tr>\n",
       "      <th>2015-07-01 04:00:00</th>\n",
       "      <td>2015-07-01</td>\n",
       "      <td>31955.0</td>\n",
       "      <td>NaN</td>\n",
       "    </tr>\n",
       "    <tr>\n",
       "      <th>2015-07-01 05:00:00</th>\n",
       "      <td>2015-07-01</td>\n",
       "      <td>31199.0</td>\n",
       "      <td>NaN</td>\n",
       "    </tr>\n",
       "    <tr>\n",
       "      <th>...</th>\n",
       "      <td>...</td>\n",
       "      <td>...</td>\n",
       "      <td>...</td>\n",
       "    </tr>\n",
       "    <tr>\n",
       "      <th>2021-11-30 20:00:00</th>\n",
       "      <td>NaT</td>\n",
       "      <td>NaN</td>\n",
       "      <td>33941.0</td>\n",
       "    </tr>\n",
       "    <tr>\n",
       "      <th>2021-11-30 21:00:00</th>\n",
       "      <td>NaT</td>\n",
       "      <td>NaN</td>\n",
       "      <td>33098.0</td>\n",
       "    </tr>\n",
       "    <tr>\n",
       "      <th>2021-11-30 22:00:00</th>\n",
       "      <td>NaT</td>\n",
       "      <td>NaN</td>\n",
       "      <td>31768.0</td>\n",
       "    </tr>\n",
       "    <tr>\n",
       "      <th>2021-11-30 23:00:00</th>\n",
       "      <td>NaT</td>\n",
       "      <td>NaN</td>\n",
       "      <td>29751.0</td>\n",
       "    </tr>\n",
       "    <tr>\n",
       "      <th>2021-12-01 00:00:00</th>\n",
       "      <td>NaT</td>\n",
       "      <td>NaN</td>\n",
       "      <td>27799.0</td>\n",
       "    </tr>\n",
       "  </tbody>\n",
       "</table>\n",
       "<p>56281 rows × 3 columns</p>\n",
       "</div>"
      ],
      "text/plain": [
       "                    Local date        D    media\n",
       "2015-07-01 01:00:00 2015-07-01  38210.0      NaN\n",
       "2015-07-01 02:00:00 2015-07-01  35171.0      NaN\n",
       "2015-07-01 03:00:00 2015-07-01  33243.0      NaN\n",
       "2015-07-01 04:00:00 2015-07-01  31955.0      NaN\n",
       "2015-07-01 05:00:00 2015-07-01  31199.0      NaN\n",
       "...                        ...      ...      ...\n",
       "2021-11-30 20:00:00        NaT      NaN  33941.0\n",
       "2021-11-30 21:00:00        NaT      NaN  33098.0\n",
       "2021-11-30 22:00:00        NaT      NaN  31768.0\n",
       "2021-11-30 23:00:00        NaT      NaN  29751.0\n",
       "2021-12-01 00:00:00        NaT      NaN  27799.0\n",
       "\n",
       "[56281 rows x 3 columns]"
      ]
     },
     "execution_count": 13,
     "metadata": {},
     "output_type": "execute_result"
    }
   ],
   "source": [
    "datos_horarios_formato_1"
   ]
  },
  {
   "cell_type": "code",
   "execution_count": 14,
   "id": "c4416d28",
   "metadata": {},
   "outputs": [
    {
     "name": "stderr",
     "output_type": "stream",
     "text": [
      "/var/folders/3q/zfn8yb513nj10ry8w8r8_jmc0000gn/T/ipykernel_10064/365292939.py:1: SettingWithCopyWarning: \n",
      "A value is trying to be set on a copy of a slice from a DataFrame.\n",
      "Try using .loc[row_indexer,col_indexer] = value instead\n",
      "\n",
      "See the caveats in the documentation: https://pandas.pydata.org/pandas-docs/stable/user_guide/indexing.html#returning-a-view-versus-a-copy\n",
      "  datos_horarios_formato_1.tail(9)[\"D\"] = datos_horarios_formato_1.tail(9)[\"media\"]\n"
     ]
    }
   ],
   "source": [
    "datos_horarios_formato_1.tail(9)[\"D\"] = datos_horarios_formato_1.tail(9)[\"media\"]"
   ]
  },
  {
   "cell_type": "code",
   "execution_count": 15,
   "id": "7be6d9b0",
   "metadata": {},
   "outputs": [],
   "source": [
    "datos_horarios_formato_1 = datos_horarios_formato_1[[\"D\"]]"
   ]
  },
  {
   "cell_type": "code",
   "execution_count": 16,
   "id": "483091f7",
   "metadata": {},
   "outputs": [
    {
     "data": {
      "text/html": [
       "<div>\n",
       "<style scoped>\n",
       "    .dataframe tbody tr th:only-of-type {\n",
       "        vertical-align: middle;\n",
       "    }\n",
       "\n",
       "    .dataframe tbody tr th {\n",
       "        vertical-align: top;\n",
       "    }\n",
       "\n",
       "    .dataframe thead th {\n",
       "        text-align: right;\n",
       "    }\n",
       "</style>\n",
       "<table border=\"1\" class=\"dataframe\">\n",
       "  <thead>\n",
       "    <tr style=\"text-align: right;\">\n",
       "      <th></th>\n",
       "      <th>D</th>\n",
       "    </tr>\n",
       "  </thead>\n",
       "  <tbody>\n",
       "    <tr>\n",
       "      <th>2015-07-01 01:00:00</th>\n",
       "      <td>38210.0</td>\n",
       "    </tr>\n",
       "    <tr>\n",
       "      <th>2015-07-01 02:00:00</th>\n",
       "      <td>35171.0</td>\n",
       "    </tr>\n",
       "    <tr>\n",
       "      <th>2015-07-01 03:00:00</th>\n",
       "      <td>33243.0</td>\n",
       "    </tr>\n",
       "    <tr>\n",
       "      <th>2015-07-01 04:00:00</th>\n",
       "      <td>31955.0</td>\n",
       "    </tr>\n",
       "    <tr>\n",
       "      <th>2015-07-01 05:00:00</th>\n",
       "      <td>31199.0</td>\n",
       "    </tr>\n",
       "    <tr>\n",
       "      <th>...</th>\n",
       "      <td>...</td>\n",
       "    </tr>\n",
       "    <tr>\n",
       "      <th>2021-11-30 20:00:00</th>\n",
       "      <td>33941.0</td>\n",
       "    </tr>\n",
       "    <tr>\n",
       "      <th>2021-11-30 21:00:00</th>\n",
       "      <td>33098.0</td>\n",
       "    </tr>\n",
       "    <tr>\n",
       "      <th>2021-11-30 22:00:00</th>\n",
       "      <td>31768.0</td>\n",
       "    </tr>\n",
       "    <tr>\n",
       "      <th>2021-11-30 23:00:00</th>\n",
       "      <td>29751.0</td>\n",
       "    </tr>\n",
       "    <tr>\n",
       "      <th>2021-12-01 00:00:00</th>\n",
       "      <td>27799.0</td>\n",
       "    </tr>\n",
       "  </tbody>\n",
       "</table>\n",
       "<p>56281 rows × 1 columns</p>\n",
       "</div>"
      ],
      "text/plain": [
       "                           D\n",
       "2015-07-01 01:00:00  38210.0\n",
       "2015-07-01 02:00:00  35171.0\n",
       "2015-07-01 03:00:00  33243.0\n",
       "2015-07-01 04:00:00  31955.0\n",
       "2015-07-01 05:00:00  31199.0\n",
       "...                      ...\n",
       "2021-11-30 20:00:00  33941.0\n",
       "2021-11-30 21:00:00  33098.0\n",
       "2021-11-30 22:00:00  31768.0\n",
       "2021-11-30 23:00:00  29751.0\n",
       "2021-12-01 00:00:00  27799.0\n",
       "\n",
       "[56281 rows x 1 columns]"
      ]
     },
     "execution_count": 16,
     "metadata": {},
     "output_type": "execute_result"
    }
   ],
   "source": [
    "datos_horarios_formato_1"
   ]
  },
  {
   "cell_type": "markdown",
   "id": "3f82ca91",
   "metadata": {},
   "source": [
    "### Lectura de los datos diarios"
   ]
  },
  {
   "cell_type": "code",
   "execution_count": 17,
   "id": "457d03fe",
   "metadata": {},
   "outputs": [
    {
     "data": {
      "text/plain": [
       "Region                object\n",
       "Local date    datetime64[ns]\n",
       "Time zone             object\n",
       "D                      int64\n",
       "dtype: object"
      ]
     },
     "execution_count": 17,
     "metadata": {},
     "output_type": "execute_result"
    }
   ],
   "source": [
    "datos_diarios = pd.read_excel(\"/Users/aitor/Desktop/Máster Ciencia de Datos/Series temporales/Series-temporales/data/EXAM/DemandaEnergia.xlsx\",\n",
    "             sheet_name=1)\n",
    "datos_diarios.dtypes"
   ]
  },
  {
   "cell_type": "code",
   "execution_count": 18,
   "id": "72f5a233",
   "metadata": {},
   "outputs": [
    {
     "data": {
      "text/html": [
       "<div>\n",
       "<style scoped>\n",
       "    .dataframe tbody tr th:only-of-type {\n",
       "        vertical-align: middle;\n",
       "    }\n",
       "\n",
       "    .dataframe tbody tr th {\n",
       "        vertical-align: top;\n",
       "    }\n",
       "\n",
       "    .dataframe thead th {\n",
       "        text-align: right;\n",
       "    }\n",
       "</style>\n",
       "<table border=\"1\" class=\"dataframe\">\n",
       "  <thead>\n",
       "    <tr style=\"text-align: right;\">\n",
       "      <th></th>\n",
       "      <th>D</th>\n",
       "    </tr>\n",
       "    <tr>\n",
       "      <th>Local date</th>\n",
       "      <th></th>\n",
       "    </tr>\n",
       "  </thead>\n",
       "  <tbody>\n",
       "    <tr>\n",
       "      <th>2015-07-01</th>\n",
       "      <td>978699</td>\n",
       "    </tr>\n",
       "    <tr>\n",
       "      <th>2015-07-02</th>\n",
       "      <td>962751</td>\n",
       "    </tr>\n",
       "    <tr>\n",
       "      <th>2015-07-03</th>\n",
       "      <td>887079</td>\n",
       "    </tr>\n",
       "    <tr>\n",
       "      <th>2015-07-04</th>\n",
       "      <td>830874</td>\n",
       "    </tr>\n",
       "    <tr>\n",
       "      <th>2015-07-05</th>\n",
       "      <td>791310</td>\n",
       "    </tr>\n",
       "    <tr>\n",
       "      <th>...</th>\n",
       "      <td>...</td>\n",
       "    </tr>\n",
       "    <tr>\n",
       "      <th>2021-11-26</th>\n",
       "      <td>625052</td>\n",
       "    </tr>\n",
       "    <tr>\n",
       "      <th>2021-11-27</th>\n",
       "      <td>622892</td>\n",
       "    </tr>\n",
       "    <tr>\n",
       "      <th>2021-11-28</th>\n",
       "      <td>622017</td>\n",
       "    </tr>\n",
       "    <tr>\n",
       "      <th>2021-11-29</th>\n",
       "      <td>698831</td>\n",
       "    </tr>\n",
       "    <tr>\n",
       "      <th>2021-11-30</th>\n",
       "      <td>709568</td>\n",
       "    </tr>\n",
       "  </tbody>\n",
       "</table>\n",
       "<p>2345 rows × 1 columns</p>\n",
       "</div>"
      ],
      "text/plain": [
       "                 D\n",
       "Local date        \n",
       "2015-07-01  978699\n",
       "2015-07-02  962751\n",
       "2015-07-03  887079\n",
       "2015-07-04  830874\n",
       "2015-07-05  791310\n",
       "...            ...\n",
       "2021-11-26  625052\n",
       "2021-11-27  622892\n",
       "2021-11-28  622017\n",
       "2021-11-29  698831\n",
       "2021-11-30  709568\n",
       "\n",
       "[2345 rows x 1 columns]"
      ]
     },
     "execution_count": 18,
     "metadata": {},
     "output_type": "execute_result"
    }
   ],
   "source": [
    "datos_diarios.index =  datos_diarios[\"Local date\"]\n",
    "datos_diarios = datos_diarios.drop([\"Region\", 'Time zone', \"Local date\"], axis=1)\n",
    "datos_diarios"
   ]
  },
  {
   "cell_type": "markdown",
   "id": "743a0107",
   "metadata": {},
   "source": [
    "### Unificar los datos para que horarios y diarios coincidan"
   ]
  },
  {
   "cell_type": "markdown",
   "id": "9b5fb5fd",
   "metadata": {},
   "source": [
    "Calculamos la suma de la suma diaria de los datos horarios para ver si coinciden justamente con los datos diarios. Puede que el dato de noviembre de 2021 no coincida debido a que nos hemos \"inventado\" los registros de 8 horas para tener el dataset horario al completo."
   ]
  },
  {
   "cell_type": "code",
   "execution_count": 19,
   "id": "6ba7a5ef",
   "metadata": {},
   "outputs": [],
   "source": [
    "from pandas import Timestamp"
   ]
  },
  {
   "cell_type": "code",
   "execution_count": 20,
   "id": "9839ae33",
   "metadata": {},
   "outputs": [],
   "source": [
    "dates=[Timestamp('2021-11-30 00:00:00')]*9\n",
    "dates_new = list(datos_horarios_formato_2[\"Local date\"])"
   ]
  },
  {
   "cell_type": "code",
   "execution_count": 21,
   "id": "56b11865",
   "metadata": {},
   "outputs": [],
   "source": [
    "dates_new = dates_new + dates"
   ]
  },
  {
   "cell_type": "code",
   "execution_count": 22,
   "id": "e69069f5",
   "metadata": {},
   "outputs": [
    {
     "name": "stderr",
     "output_type": "stream",
     "text": [
      "/var/folders/3q/zfn8yb513nj10ry8w8r8_jmc0000gn/T/ipykernel_10064/3555125647.py:1: SettingWithCopyWarning: \n",
      "A value is trying to be set on a copy of a slice from a DataFrame.\n",
      "Try using .loc[row_indexer,col_indexer] = value instead\n",
      "\n",
      "See the caveats in the documentation: https://pandas.pydata.org/pandas-docs/stable/user_guide/indexing.html#returning-a-view-versus-a-copy\n",
      "  datos_horarios_formato_1[\"local_date\"] = dates_new\n"
     ]
    },
    {
     "data": {
      "text/html": [
       "<div>\n",
       "<style scoped>\n",
       "    .dataframe tbody tr th:only-of-type {\n",
       "        vertical-align: middle;\n",
       "    }\n",
       "\n",
       "    .dataframe tbody tr th {\n",
       "        vertical-align: top;\n",
       "    }\n",
       "\n",
       "    .dataframe thead th {\n",
       "        text-align: right;\n",
       "    }\n",
       "</style>\n",
       "<table border=\"1\" class=\"dataframe\">\n",
       "  <thead>\n",
       "    <tr style=\"text-align: right;\">\n",
       "      <th></th>\n",
       "      <th>D</th>\n",
       "      <th>local_date</th>\n",
       "    </tr>\n",
       "  </thead>\n",
       "  <tbody>\n",
       "    <tr>\n",
       "      <th>2015-07-01 01:00:00</th>\n",
       "      <td>38210.0</td>\n",
       "      <td>2015-07-01</td>\n",
       "    </tr>\n",
       "    <tr>\n",
       "      <th>2015-07-01 02:00:00</th>\n",
       "      <td>35171.0</td>\n",
       "      <td>2015-07-01</td>\n",
       "    </tr>\n",
       "    <tr>\n",
       "      <th>2015-07-01 03:00:00</th>\n",
       "      <td>33243.0</td>\n",
       "      <td>2015-07-01</td>\n",
       "    </tr>\n",
       "    <tr>\n",
       "      <th>2015-07-01 04:00:00</th>\n",
       "      <td>31955.0</td>\n",
       "      <td>2015-07-01</td>\n",
       "    </tr>\n",
       "    <tr>\n",
       "      <th>2015-07-01 05:00:00</th>\n",
       "      <td>31199.0</td>\n",
       "      <td>2015-07-01</td>\n",
       "    </tr>\n",
       "    <tr>\n",
       "      <th>...</th>\n",
       "      <td>...</td>\n",
       "      <td>...</td>\n",
       "    </tr>\n",
       "    <tr>\n",
       "      <th>2021-11-30 20:00:00</th>\n",
       "      <td>33941.0</td>\n",
       "      <td>2021-11-30</td>\n",
       "    </tr>\n",
       "    <tr>\n",
       "      <th>2021-11-30 21:00:00</th>\n",
       "      <td>33098.0</td>\n",
       "      <td>2021-11-30</td>\n",
       "    </tr>\n",
       "    <tr>\n",
       "      <th>2021-11-30 22:00:00</th>\n",
       "      <td>31768.0</td>\n",
       "      <td>2021-11-30</td>\n",
       "    </tr>\n",
       "    <tr>\n",
       "      <th>2021-11-30 23:00:00</th>\n",
       "      <td>29751.0</td>\n",
       "      <td>2021-11-30</td>\n",
       "    </tr>\n",
       "    <tr>\n",
       "      <th>2021-12-01 00:00:00</th>\n",
       "      <td>27799.0</td>\n",
       "      <td>2021-11-30</td>\n",
       "    </tr>\n",
       "  </tbody>\n",
       "</table>\n",
       "<p>56281 rows × 2 columns</p>\n",
       "</div>"
      ],
      "text/plain": [
       "                           D local_date\n",
       "2015-07-01 01:00:00  38210.0 2015-07-01\n",
       "2015-07-01 02:00:00  35171.0 2015-07-01\n",
       "2015-07-01 03:00:00  33243.0 2015-07-01\n",
       "2015-07-01 04:00:00  31955.0 2015-07-01\n",
       "2015-07-01 05:00:00  31199.0 2015-07-01\n",
       "...                      ...        ...\n",
       "2021-11-30 20:00:00  33941.0 2021-11-30\n",
       "2021-11-30 21:00:00  33098.0 2021-11-30\n",
       "2021-11-30 22:00:00  31768.0 2021-11-30\n",
       "2021-11-30 23:00:00  29751.0 2021-11-30\n",
       "2021-12-01 00:00:00  27799.0 2021-11-30\n",
       "\n",
       "[56281 rows x 2 columns]"
      ]
     },
     "execution_count": 22,
     "metadata": {},
     "output_type": "execute_result"
    }
   ],
   "source": [
    "datos_horarios_formato_1[\"local_date\"] = dates_new\n",
    "datos_horarios_formato_1"
   ]
  },
  {
   "cell_type": "code",
   "execution_count": 23,
   "id": "912904fd",
   "metadata": {
    "scrolled": false
   },
   "outputs": [
    {
     "data": {
      "text/html": [
       "<div>\n",
       "<style scoped>\n",
       "    .dataframe tbody tr th:only-of-type {\n",
       "        vertical-align: middle;\n",
       "    }\n",
       "\n",
       "    .dataframe tbody tr th {\n",
       "        vertical-align: top;\n",
       "    }\n",
       "\n",
       "    .dataframe thead th {\n",
       "        text-align: right;\n",
       "    }\n",
       "</style>\n",
       "<table border=\"1\" class=\"dataframe\">\n",
       "  <thead>\n",
       "    <tr style=\"text-align: right;\">\n",
       "      <th></th>\n",
       "      <th>D</th>\n",
       "    </tr>\n",
       "    <tr>\n",
       "      <th>local_date</th>\n",
       "      <th></th>\n",
       "    </tr>\n",
       "  </thead>\n",
       "  <tbody>\n",
       "    <tr>\n",
       "      <th>2015-07-01</th>\n",
       "      <td>978699.0</td>\n",
       "    </tr>\n",
       "    <tr>\n",
       "      <th>2015-07-02</th>\n",
       "      <td>962751.0</td>\n",
       "    </tr>\n",
       "    <tr>\n",
       "      <th>2015-07-03</th>\n",
       "      <td>887079.0</td>\n",
       "    </tr>\n",
       "    <tr>\n",
       "      <th>2015-07-04</th>\n",
       "      <td>830874.0</td>\n",
       "    </tr>\n",
       "    <tr>\n",
       "      <th>2015-07-05</th>\n",
       "      <td>791310.0</td>\n",
       "    </tr>\n",
       "    <tr>\n",
       "      <th>...</th>\n",
       "      <td>...</td>\n",
       "    </tr>\n",
       "    <tr>\n",
       "      <th>2021-11-26</th>\n",
       "      <td>625052.0</td>\n",
       "    </tr>\n",
       "    <tr>\n",
       "      <th>2021-11-27</th>\n",
       "      <td>622892.0</td>\n",
       "    </tr>\n",
       "    <tr>\n",
       "      <th>2021-11-28</th>\n",
       "      <td>622017.0</td>\n",
       "    </tr>\n",
       "    <tr>\n",
       "      <th>2021-11-29</th>\n",
       "      <td>698831.0</td>\n",
       "    </tr>\n",
       "    <tr>\n",
       "      <th>2021-11-30</th>\n",
       "      <td>708972.0</td>\n",
       "    </tr>\n",
       "  </tbody>\n",
       "</table>\n",
       "<p>2345 rows × 1 columns</p>\n",
       "</div>"
      ],
      "text/plain": [
       "                   D\n",
       "local_date          \n",
       "2015-07-01  978699.0\n",
       "2015-07-02  962751.0\n",
       "2015-07-03  887079.0\n",
       "2015-07-04  830874.0\n",
       "2015-07-05  791310.0\n",
       "...              ...\n",
       "2021-11-26  625052.0\n",
       "2021-11-27  622892.0\n",
       "2021-11-28  622017.0\n",
       "2021-11-29  698831.0\n",
       "2021-11-30  708972.0\n",
       "\n",
       "[2345 rows x 1 columns]"
      ]
     },
     "execution_count": 23,
     "metadata": {},
     "output_type": "execute_result"
    }
   ],
   "source": [
    "datos_horarios_formato_1.groupby(\"local_date\").sum()"
   ]
  },
  {
   "cell_type": "markdown",
   "id": "b13682a3",
   "metadata": {},
   "source": [
    "Podemos comporbar que la diferencia es muy poca. Luego, tomaremos el dato de la suma horaria de 2011-11-30 y lo cambiaremos por el dato que aparece en el dataset diario (en la última fila)."
   ]
  },
  {
   "cell_type": "code",
   "execution_count": 24,
   "id": "1412e60b",
   "metadata": {},
   "outputs": [
    {
     "data": {
      "text/html": [
       "<div>\n",
       "<style scoped>\n",
       "    .dataframe tbody tr th:only-of-type {\n",
       "        vertical-align: middle;\n",
       "    }\n",
       "\n",
       "    .dataframe tbody tr th {\n",
       "        vertical-align: top;\n",
       "    }\n",
       "\n",
       "    .dataframe thead th {\n",
       "        text-align: right;\n",
       "    }\n",
       "</style>\n",
       "<table border=\"1\" class=\"dataframe\">\n",
       "  <thead>\n",
       "    <tr style=\"text-align: right;\">\n",
       "      <th></th>\n",
       "      <th>D</th>\n",
       "    </tr>\n",
       "    <tr>\n",
       "      <th>Local date</th>\n",
       "      <th></th>\n",
       "    </tr>\n",
       "  </thead>\n",
       "  <tbody>\n",
       "    <tr>\n",
       "      <th>2015-07-01</th>\n",
       "      <td>978699</td>\n",
       "    </tr>\n",
       "    <tr>\n",
       "      <th>2015-07-02</th>\n",
       "      <td>962751</td>\n",
       "    </tr>\n",
       "    <tr>\n",
       "      <th>2015-07-03</th>\n",
       "      <td>887079</td>\n",
       "    </tr>\n",
       "    <tr>\n",
       "      <th>2015-07-04</th>\n",
       "      <td>830874</td>\n",
       "    </tr>\n",
       "    <tr>\n",
       "      <th>2015-07-05</th>\n",
       "      <td>791310</td>\n",
       "    </tr>\n",
       "    <tr>\n",
       "      <th>...</th>\n",
       "      <td>...</td>\n",
       "    </tr>\n",
       "    <tr>\n",
       "      <th>2021-11-26</th>\n",
       "      <td>625052</td>\n",
       "    </tr>\n",
       "    <tr>\n",
       "      <th>2021-11-27</th>\n",
       "      <td>622892</td>\n",
       "    </tr>\n",
       "    <tr>\n",
       "      <th>2021-11-28</th>\n",
       "      <td>622017</td>\n",
       "    </tr>\n",
       "    <tr>\n",
       "      <th>2021-11-29</th>\n",
       "      <td>698831</td>\n",
       "    </tr>\n",
       "    <tr>\n",
       "      <th>2021-11-30</th>\n",
       "      <td>708972</td>\n",
       "    </tr>\n",
       "  </tbody>\n",
       "</table>\n",
       "<p>2345 rows × 1 columns</p>\n",
       "</div>"
      ],
      "text/plain": [
       "                 D\n",
       "Local date        \n",
       "2015-07-01  978699\n",
       "2015-07-02  962751\n",
       "2015-07-03  887079\n",
       "2015-07-04  830874\n",
       "2015-07-05  791310\n",
       "...            ...\n",
       "2021-11-26  625052\n",
       "2021-11-27  622892\n",
       "2021-11-28  622017\n",
       "2021-11-29  698831\n",
       "2021-11-30  708972\n",
       "\n",
       "[2345 rows x 1 columns]"
      ]
     },
     "execution_count": 24,
     "metadata": {},
     "output_type": "execute_result"
    }
   ],
   "source": [
    "datos_diarios.iloc[-1] = 708972.0\n",
    "datos_diarios"
   ]
  },
  {
   "cell_type": "markdown",
   "id": "2ea06212",
   "metadata": {},
   "source": [
    "Eliminamos la columna de *local_date* del data frame horario."
   ]
  },
  {
   "cell_type": "code",
   "execution_count": 25,
   "id": "a136da35",
   "metadata": {},
   "outputs": [],
   "source": [
    "datos_horarios_formato_1 = datos_horarios_formato_1.drop([\"local_date\"], axis=1)"
   ]
  },
  {
   "cell_type": "markdown",
   "id": "1c12b221",
   "metadata": {},
   "source": [
    "Una vez tenemos todos los datos correctamente introducidos, pasamos a graficar las series temporales."
   ]
  },
  {
   "cell_type": "code",
   "execution_count": 26,
   "id": "6312b554",
   "metadata": {},
   "outputs": [
    {
     "data": {
      "text/plain": [
       "True"
      ]
     },
     "execution_count": 26,
     "metadata": {},
     "output_type": "execute_result"
    }
   ],
   "source": [
    "not datos_horarios_formato_1.index.is_unique"
   ]
  },
  {
   "cell_type": "markdown",
   "id": "04b511c6",
   "metadata": {},
   "source": [
    "### ANÁLISIS DE LA SERIE HORARIA"
   ]
  },
  {
   "cell_type": "markdown",
   "id": "16ade029",
   "metadata": {},
   "source": [
    "#### ¿HAY FECHAS DUPLICADAS?"
   ]
  },
  {
   "cell_type": "markdown",
   "id": "4d336730",
   "metadata": {},
   "source": [
    "En primer lugar veamos cuantos datos debería de haber en el data frame."
   ]
  },
  {
   "cell_type": "code",
   "execution_count": 27,
   "id": "db70227a",
   "metadata": {},
   "outputs": [
    {
     "data": {
      "text/plain": [
       "56280"
      ]
     },
     "execution_count": 27,
     "metadata": {},
     "output_type": "execute_result"
    }
   ],
   "source": [
    "len(pd.date_range(start='2015/07/01', end=\"2021/12/01\", freq='H')[1:])"
   ]
  },
  {
   "cell_type": "code",
   "execution_count": 28,
   "id": "03320ce3",
   "metadata": {},
   "outputs": [
    {
     "data": {
      "text/plain": [
       "56281"
      ]
     },
     "execution_count": 28,
     "metadata": {},
     "output_type": "execute_result"
    }
   ],
   "source": [
    "len(datos_horarios_formato_1)"
   ]
  },
  {
   "cell_type": "markdown",
   "id": "fb460f57",
   "metadata": {},
   "source": [
    "Parece que al menos un valor está repetido. Aun así veamos si hay datos duplicados o no."
   ]
  },
  {
   "cell_type": "code",
   "execution_count": 29,
   "id": "145c16c7",
   "metadata": {},
   "outputs": [
    {
     "data": {
      "text/html": [
       "<div>\n",
       "<style scoped>\n",
       "    .dataframe tbody tr th:only-of-type {\n",
       "        vertical-align: middle;\n",
       "    }\n",
       "\n",
       "    .dataframe tbody tr th {\n",
       "        vertical-align: top;\n",
       "    }\n",
       "\n",
       "    .dataframe thead th {\n",
       "        text-align: right;\n",
       "    }\n",
       "</style>\n",
       "<table border=\"1\" class=\"dataframe\">\n",
       "  <thead>\n",
       "    <tr style=\"text-align: right;\">\n",
       "      <th></th>\n",
       "      <th>D</th>\n",
       "    </tr>\n",
       "  </thead>\n",
       "  <tbody>\n",
       "    <tr>\n",
       "      <th>2015-11-01 01:00:00</th>\n",
       "      <td>26931.0</td>\n",
       "    </tr>\n",
       "    <tr>\n",
       "      <th>2015-11-01 01:00:00</th>\n",
       "      <td>25830.0</td>\n",
       "    </tr>\n",
       "    <tr>\n",
       "      <th>2016-11-06 01:00:00</th>\n",
       "      <td>25049.0</td>\n",
       "    </tr>\n",
       "    <tr>\n",
       "      <th>2016-11-06 01:00:00</th>\n",
       "      <td>23998.0</td>\n",
       "    </tr>\n",
       "    <tr>\n",
       "      <th>2017-11-05 01:00:00</th>\n",
       "      <td>3964.0</td>\n",
       "    </tr>\n",
       "    <tr>\n",
       "      <th>2017-11-05 01:00:00</th>\n",
       "      <td>23410.0</td>\n",
       "    </tr>\n",
       "    <tr>\n",
       "      <th>2018-11-04 01:00:00</th>\n",
       "      <td>26135.0</td>\n",
       "    </tr>\n",
       "    <tr>\n",
       "      <th>2018-11-04 01:00:00</th>\n",
       "      <td>23458.0</td>\n",
       "    </tr>\n",
       "    <tr>\n",
       "      <th>2019-11-03 01:00:00</th>\n",
       "      <td>24573.0</td>\n",
       "    </tr>\n",
       "    <tr>\n",
       "      <th>2019-11-03 01:00:00</th>\n",
       "      <td>23444.0</td>\n",
       "    </tr>\n",
       "    <tr>\n",
       "      <th>2020-11-01 01:00:00</th>\n",
       "      <td>24637.0</td>\n",
       "    </tr>\n",
       "    <tr>\n",
       "      <th>2020-11-01 01:00:00</th>\n",
       "      <td>23595.0</td>\n",
       "    </tr>\n",
       "    <tr>\n",
       "      <th>2021-11-07 01:00:00</th>\n",
       "      <td>24987.0</td>\n",
       "    </tr>\n",
       "    <tr>\n",
       "      <th>2021-11-07 01:00:00</th>\n",
       "      <td>24242.0</td>\n",
       "    </tr>\n",
       "  </tbody>\n",
       "</table>\n",
       "</div>"
      ],
      "text/plain": [
       "                           D\n",
       "2015-11-01 01:00:00  26931.0\n",
       "2015-11-01 01:00:00  25830.0\n",
       "2016-11-06 01:00:00  25049.0\n",
       "2016-11-06 01:00:00  23998.0\n",
       "2017-11-05 01:00:00   3964.0\n",
       "2017-11-05 01:00:00  23410.0\n",
       "2018-11-04 01:00:00  26135.0\n",
       "2018-11-04 01:00:00  23458.0\n",
       "2019-11-03 01:00:00  24573.0\n",
       "2019-11-03 01:00:00  23444.0\n",
       "2020-11-01 01:00:00  24637.0\n",
       "2020-11-01 01:00:00  23595.0\n",
       "2021-11-07 01:00:00  24987.0\n",
       "2021-11-07 01:00:00  24242.0"
      ]
     },
     "execution_count": 29,
     "metadata": {},
     "output_type": "execute_result"
    }
   ],
   "source": [
    "datos_horarios_formato_1[datos_horarios_formato_1.index.duplicated(keep=False)]"
   ]
  },
  {
   "cell_type": "markdown",
   "id": "126e4b05",
   "metadata": {},
   "source": [
    "Vemos que hay más de un dato duplicado, lo que quiere decir que hay datos que faltan (ya que la longitud de los datos es correcta). Luego, deberemos hacer algo con los datos duplicados y deberemos añadir los datos que no están."
   ]
  },
  {
   "cell_type": "markdown",
   "id": "a6dbfd09",
   "metadata": {},
   "source": [
    "#### TRATAMIENTO DE DATOS DUPLICADOS"
   ]
  },
  {
   "cell_type": "markdown",
   "id": "692e1a35",
   "metadata": {},
   "source": [
    "Entre los datos duplicados hay uno que parece un error (el dato de 2017-11-05) ya que es 3964 cuando los valores normalmente son mayores que 20mil. Este valor será eliminado. Con los demás valores lo que haremos será calcular la media de todos los registros que haya un mismo día, redondear el valor y ese será nuestro valor definitivo ese día."
   ]
  },
  {
   "cell_type": "markdown",
   "id": "e5937610",
   "metadata": {},
   "source": [
    "Primeramente eliminaremos el valor atípico."
   ]
  },
  {
   "cell_type": "code",
   "execution_count": 30,
   "id": "d904d0fb",
   "metadata": {},
   "outputs": [],
   "source": [
    "datos_horarios_formato_1 = datos_horarios_formato_1[datos_horarios_formato_1[\"D\"] != 3964.0]"
   ]
  },
  {
   "cell_type": "code",
   "execution_count": 31,
   "id": "769866e8",
   "metadata": {},
   "outputs": [
    {
     "data": {
      "text/html": [
       "<div>\n",
       "<style scoped>\n",
       "    .dataframe tbody tr th:only-of-type {\n",
       "        vertical-align: middle;\n",
       "    }\n",
       "\n",
       "    .dataframe tbody tr th {\n",
       "        vertical-align: top;\n",
       "    }\n",
       "\n",
       "    .dataframe thead th {\n",
       "        text-align: right;\n",
       "    }\n",
       "</style>\n",
       "<table border=\"1\" class=\"dataframe\">\n",
       "  <thead>\n",
       "    <tr style=\"text-align: right;\">\n",
       "      <th></th>\n",
       "      <th>D</th>\n",
       "    </tr>\n",
       "  </thead>\n",
       "  <tbody>\n",
       "    <tr>\n",
       "      <th>2015-11-01 01:00:00</th>\n",
       "      <td>26931.0</td>\n",
       "    </tr>\n",
       "    <tr>\n",
       "      <th>2015-11-01 01:00:00</th>\n",
       "      <td>25830.0</td>\n",
       "    </tr>\n",
       "    <tr>\n",
       "      <th>2016-11-06 01:00:00</th>\n",
       "      <td>25049.0</td>\n",
       "    </tr>\n",
       "    <tr>\n",
       "      <th>2016-11-06 01:00:00</th>\n",
       "      <td>23998.0</td>\n",
       "    </tr>\n",
       "    <tr>\n",
       "      <th>2018-11-04 01:00:00</th>\n",
       "      <td>26135.0</td>\n",
       "    </tr>\n",
       "    <tr>\n",
       "      <th>2018-11-04 01:00:00</th>\n",
       "      <td>23458.0</td>\n",
       "    </tr>\n",
       "    <tr>\n",
       "      <th>2019-11-03 01:00:00</th>\n",
       "      <td>24573.0</td>\n",
       "    </tr>\n",
       "    <tr>\n",
       "      <th>2019-11-03 01:00:00</th>\n",
       "      <td>23444.0</td>\n",
       "    </tr>\n",
       "    <tr>\n",
       "      <th>2020-11-01 01:00:00</th>\n",
       "      <td>24637.0</td>\n",
       "    </tr>\n",
       "    <tr>\n",
       "      <th>2020-11-01 01:00:00</th>\n",
       "      <td>23595.0</td>\n",
       "    </tr>\n",
       "    <tr>\n",
       "      <th>2021-11-07 01:00:00</th>\n",
       "      <td>24987.0</td>\n",
       "    </tr>\n",
       "    <tr>\n",
       "      <th>2021-11-07 01:00:00</th>\n",
       "      <td>24242.0</td>\n",
       "    </tr>\n",
       "  </tbody>\n",
       "</table>\n",
       "</div>"
      ],
      "text/plain": [
       "                           D\n",
       "2015-11-01 01:00:00  26931.0\n",
       "2015-11-01 01:00:00  25830.0\n",
       "2016-11-06 01:00:00  25049.0\n",
       "2016-11-06 01:00:00  23998.0\n",
       "2018-11-04 01:00:00  26135.0\n",
       "2018-11-04 01:00:00  23458.0\n",
       "2019-11-03 01:00:00  24573.0\n",
       "2019-11-03 01:00:00  23444.0\n",
       "2020-11-01 01:00:00  24637.0\n",
       "2020-11-01 01:00:00  23595.0\n",
       "2021-11-07 01:00:00  24987.0\n",
       "2021-11-07 01:00:00  24242.0"
      ]
     },
     "execution_count": 31,
     "metadata": {},
     "output_type": "execute_result"
    }
   ],
   "source": [
    "datos_horarios_formato_1[datos_horarios_formato_1.index.duplicated(keep=False)]"
   ]
  },
  {
   "cell_type": "code",
   "execution_count": 32,
   "id": "41fb28d6",
   "metadata": {},
   "outputs": [],
   "source": [
    "datos_horarios_formato_1.loc[\"2015-11-01 01:00\"].iloc[1] = np.round(np.mean(datos_horarios_formato_1.loc[\"2015-11-01 01:00\"]),0)\n",
    "datos_horarios_formato_1.loc[\"2015-11-01 01:00\"].iloc[0] = -1"
   ]
  },
  {
   "cell_type": "code",
   "execution_count": 33,
   "id": "cccb8ff1",
   "metadata": {},
   "outputs": [],
   "source": [
    "datos_horarios_formato_1.loc[\"2016-11-06 01:00\"].iloc[1] = np.round(np.mean(datos_horarios_formato_1.loc[\"2016-11-06 01:00\"]),0)\n",
    "datos_horarios_formato_1.loc[\"2016-11-06 01:00\"].iloc[0] = -1"
   ]
  },
  {
   "cell_type": "code",
   "execution_count": 34,
   "id": "50db0c7f",
   "metadata": {},
   "outputs": [],
   "source": [
    "datos_horarios_formato_1.loc[\"2018-11-04 01:00\"].iloc[1] = np.round(np.mean(datos_horarios_formato_1.loc[\"2018-11-04 01:00\"]),0)\n",
    "datos_horarios_formato_1.loc[\"2018-11-04 01:00\"].iloc[0] = -1"
   ]
  },
  {
   "cell_type": "code",
   "execution_count": 35,
   "id": "622ffc56",
   "metadata": {},
   "outputs": [],
   "source": [
    "datos_horarios_formato_1.loc[\"2019-11-03 01:00\"].iloc[1] = np.round(np.mean(datos_horarios_formato_1.loc[\"2019-11-03 01:00\"]),0)\n",
    "datos_horarios_formato_1.loc[\"2019-11-03 01:00\"].iloc[0] = -1"
   ]
  },
  {
   "cell_type": "code",
   "execution_count": 36,
   "id": "c32092e9",
   "metadata": {},
   "outputs": [],
   "source": [
    "datos_horarios_formato_1.loc[\"2020-11-01 01:00\"].iloc[1] = np.round(np.mean(datos_horarios_formato_1.loc[\"2020-11-01 01:00\"]),0)\n",
    "datos_horarios_formato_1.loc[\"2020-11-01 01:00\"].iloc[0] = -1"
   ]
  },
  {
   "cell_type": "code",
   "execution_count": 37,
   "id": "3217bf97",
   "metadata": {},
   "outputs": [],
   "source": [
    "datos_horarios_formato_1.loc[\"2021-11-07 01:00\"].iloc[1] = np.round(np.mean(datos_horarios_formato_1.loc[\"2021-11-07 01:00\"]),0)\n",
    "datos_horarios_formato_1.loc[\"2021-11-07 01:00\"].iloc[0] = -1"
   ]
  },
  {
   "cell_type": "markdown",
   "id": "44ef35a2",
   "metadata": {},
   "source": [
    "Ahora eliminamos todos aquellos datos que tengan como valor -1."
   ]
  },
  {
   "cell_type": "code",
   "execution_count": 38,
   "id": "da8fb124",
   "metadata": {},
   "outputs": [],
   "source": [
    "datos_horarios_formato_1 = datos_horarios_formato_1[datos_horarios_formato_1[\"D\"] != -1]"
   ]
  },
  {
   "cell_type": "markdown",
   "id": "ea9df7e2",
   "metadata": {},
   "source": [
    "Volvemos a comprobar si hay datos duplicados:"
   ]
  },
  {
   "cell_type": "code",
   "execution_count": 39,
   "id": "dbaac89b",
   "metadata": {},
   "outputs": [
    {
     "data": {
      "text/html": [
       "<div>\n",
       "<style scoped>\n",
       "    .dataframe tbody tr th:only-of-type {\n",
       "        vertical-align: middle;\n",
       "    }\n",
       "\n",
       "    .dataframe tbody tr th {\n",
       "        vertical-align: top;\n",
       "    }\n",
       "\n",
       "    .dataframe thead th {\n",
       "        text-align: right;\n",
       "    }\n",
       "</style>\n",
       "<table border=\"1\" class=\"dataframe\">\n",
       "  <thead>\n",
       "    <tr style=\"text-align: right;\">\n",
       "      <th></th>\n",
       "      <th>D</th>\n",
       "    </tr>\n",
       "  </thead>\n",
       "  <tbody>\n",
       "  </tbody>\n",
       "</table>\n",
       "</div>"
      ],
      "text/plain": [
       "Empty DataFrame\n",
       "Columns: [D]\n",
       "Index: []"
      ]
     },
     "execution_count": 39,
     "metadata": {},
     "output_type": "execute_result"
    }
   ],
   "source": [
    "datos_horarios_formato_1[datos_horarios_formato_1.index.duplicated(keep=False)]"
   ]
  },
  {
   "cell_type": "markdown",
   "id": "609d0a38",
   "metadata": {},
   "source": [
    "Hemos conseguido solucionar el problema de los datos duplicados. Entremos ahora en los datos que faltan."
   ]
  },
  {
   "cell_type": "code",
   "execution_count": 40,
   "id": "46d7a600",
   "metadata": {},
   "outputs": [
    {
     "data": {
      "text/plain": [
       "[Timestamp('2016-03-13 02:00:00'),\n",
       " Timestamp('2017-03-12 02:00:00'),\n",
       " Timestamp('2018-03-11 02:00:00'),\n",
       " Timestamp('2019-03-10 02:00:00'),\n",
       " Timestamp('2020-03-08 02:00:00'),\n",
       " Timestamp('2021-03-14 02:00:00')]"
      ]
     },
     "execution_count": 40,
     "metadata": {},
     "output_type": "execute_result"
    }
   ],
   "source": [
    "list(pd.date_range(start='2015/07/01', end=\"2021/12/01\", freq='H')[1:].difference(datos_horarios_formato_1.index))"
   ]
  },
  {
   "cell_type": "code",
   "execution_count": 41,
   "id": "d13e5950",
   "metadata": {},
   "outputs": [],
   "source": [
    "dates_to_change = list(pd.date_range(start='2015/07/01', end=\"2021/12/01\", freq='H')[1:].difference(datos_horarios_formato_1.index))"
   ]
  },
  {
   "cell_type": "code",
   "execution_count": 42,
   "id": "8048febd",
   "metadata": {},
   "outputs": [],
   "source": [
    "for i in range(len(dates_to_change)):\n",
    "    dates_to_change[i] = str(dates_to_change[i])"
   ]
  },
  {
   "cell_type": "code",
   "execution_count": 43,
   "id": "5cb04acc",
   "metadata": {},
   "outputs": [
    {
     "data": {
      "text/plain": [
       "['2016-03-13 02:00:00',\n",
       " '2017-03-12 02:00:00',\n",
       " '2018-03-11 02:00:00',\n",
       " '2019-03-10 02:00:00',\n",
       " '2020-03-08 02:00:00',\n",
       " '2021-03-14 02:00:00']"
      ]
     },
     "execution_count": 43,
     "metadata": {},
     "output_type": "execute_result"
    }
   ],
   "source": [
    "dates_to_change"
   ]
  },
  {
   "cell_type": "code",
   "execution_count": 44,
   "id": "218affcd",
   "metadata": {},
   "outputs": [
    {
     "data": {
      "text/plain": [
       "DatetimeIndex(['2015-07-01 01:00:00', '2015-07-01 02:00:00',\n",
       "               '2015-07-01 03:00:00', '2015-07-01 04:00:00',\n",
       "               '2015-07-01 05:00:00', '2015-07-01 06:00:00',\n",
       "               '2015-07-01 07:00:00', '2015-07-01 08:00:00',\n",
       "               '2015-07-01 09:00:00', '2015-07-01 10:00:00',\n",
       "               ...\n",
       "               '2021-11-30 15:00:00', '2021-11-30 16:00:00',\n",
       "               '2021-11-30 17:00:00', '2021-11-30 18:00:00',\n",
       "               '2021-11-30 19:00:00', '2021-11-30 20:00:00',\n",
       "               '2021-11-30 21:00:00', '2021-11-30 22:00:00',\n",
       "               '2021-11-30 23:00:00', '2021-12-01 00:00:00'],\n",
       "              dtype='datetime64[ns]', length=56280, freq='H')"
      ]
     },
     "execution_count": 44,
     "metadata": {},
     "output_type": "execute_result"
    }
   ],
   "source": [
    "dates_to_introduce = pd.date_range(start='2015/07/01', end=\"2021/12/01\", freq='H')[1:]\n",
    "dates_to_introduce"
   ]
  },
  {
   "cell_type": "markdown",
   "id": "6a34ba20",
   "metadata": {},
   "source": [
    "Ahora introducimos missing values en el data frame de datos horarios para después cambiarlos."
   ]
  },
  {
   "cell_type": "code",
   "execution_count": 45,
   "id": "bfcce464",
   "metadata": {},
   "outputs": [],
   "source": [
    "datos_horarios_formato_1 = datos_horarios_formato_1.reindex(dates_to_introduce)"
   ]
  },
  {
   "cell_type": "markdown",
   "id": "a57506e5",
   "metadata": {},
   "source": [
    "Comprobamos que hay missing values:"
   ]
  },
  {
   "cell_type": "code",
   "execution_count": 46,
   "id": "da925036",
   "metadata": {},
   "outputs": [
    {
     "data": {
      "text/plain": [
       "D    6\n",
       "dtype: int64"
      ]
     },
     "execution_count": 46,
     "metadata": {},
     "output_type": "execute_result"
    }
   ],
   "source": [
    "pd.isnull(datos_horarios_formato_1).sum()"
   ]
  },
  {
   "cell_type": "markdown",
   "id": "fdb8eff0",
   "metadata": {},
   "source": [
    "Ahora tendremos que modificar los missing values. Los cambiaremos por la media del dato anterior y el posterior."
   ]
  },
  {
   "cell_type": "code",
   "execution_count": 47,
   "id": "360ad400",
   "metadata": {},
   "outputs": [],
   "source": [
    "def missing_inserted(dataset, fechas):\n",
    "    for fecha in fechas:\n",
    "        date = datetime.datetime.strptime(fecha, '%Y-%m-%d %H:%M:%S')\n",
    "        date_1 = str(date + datetime.timedelta(hours=1))\n",
    "        date_2 = str(date - datetime.timedelta(hours=1))\n",
    "        dataset.loc[fecha] = np.round((dataset.loc[date_1] + dataset.loc[date_2])/2, 0)\n",
    "    return dataset"
   ]
  },
  {
   "cell_type": "code",
   "execution_count": 48,
   "id": "457786ac",
   "metadata": {
    "scrolled": false
   },
   "outputs": [
    {
     "data": {
      "text/html": [
       "<div>\n",
       "<style scoped>\n",
       "    .dataframe tbody tr th:only-of-type {\n",
       "        vertical-align: middle;\n",
       "    }\n",
       "\n",
       "    .dataframe tbody tr th {\n",
       "        vertical-align: top;\n",
       "    }\n",
       "\n",
       "    .dataframe thead th {\n",
       "        text-align: right;\n",
       "    }\n",
       "</style>\n",
       "<table border=\"1\" class=\"dataframe\">\n",
       "  <thead>\n",
       "    <tr style=\"text-align: right;\">\n",
       "      <th></th>\n",
       "      <th>D</th>\n",
       "    </tr>\n",
       "  </thead>\n",
       "  <tbody>\n",
       "    <tr>\n",
       "      <th>2015-07-01 01:00:00</th>\n",
       "      <td>38210.0</td>\n",
       "    </tr>\n",
       "    <tr>\n",
       "      <th>2015-07-01 02:00:00</th>\n",
       "      <td>35171.0</td>\n",
       "    </tr>\n",
       "    <tr>\n",
       "      <th>2015-07-01 03:00:00</th>\n",
       "      <td>33243.0</td>\n",
       "    </tr>\n",
       "    <tr>\n",
       "      <th>2015-07-01 04:00:00</th>\n",
       "      <td>31955.0</td>\n",
       "    </tr>\n",
       "    <tr>\n",
       "      <th>2015-07-01 05:00:00</th>\n",
       "      <td>31199.0</td>\n",
       "    </tr>\n",
       "    <tr>\n",
       "      <th>...</th>\n",
       "      <td>...</td>\n",
       "    </tr>\n",
       "    <tr>\n",
       "      <th>2021-11-30 20:00:00</th>\n",
       "      <td>33941.0</td>\n",
       "    </tr>\n",
       "    <tr>\n",
       "      <th>2021-11-30 21:00:00</th>\n",
       "      <td>33098.0</td>\n",
       "    </tr>\n",
       "    <tr>\n",
       "      <th>2021-11-30 22:00:00</th>\n",
       "      <td>31768.0</td>\n",
       "    </tr>\n",
       "    <tr>\n",
       "      <th>2021-11-30 23:00:00</th>\n",
       "      <td>29751.0</td>\n",
       "    </tr>\n",
       "    <tr>\n",
       "      <th>2021-12-01 00:00:00</th>\n",
       "      <td>27799.0</td>\n",
       "    </tr>\n",
       "  </tbody>\n",
       "</table>\n",
       "<p>56280 rows × 1 columns</p>\n",
       "</div>"
      ],
      "text/plain": [
       "                           D\n",
       "2015-07-01 01:00:00  38210.0\n",
       "2015-07-01 02:00:00  35171.0\n",
       "2015-07-01 03:00:00  33243.0\n",
       "2015-07-01 04:00:00  31955.0\n",
       "2015-07-01 05:00:00  31199.0\n",
       "...                      ...\n",
       "2021-11-30 20:00:00  33941.0\n",
       "2021-11-30 21:00:00  33098.0\n",
       "2021-11-30 22:00:00  31768.0\n",
       "2021-11-30 23:00:00  29751.0\n",
       "2021-12-01 00:00:00  27799.0\n",
       "\n",
       "[56280 rows x 1 columns]"
      ]
     },
     "execution_count": 48,
     "metadata": {},
     "output_type": "execute_result"
    }
   ],
   "source": [
    "missing_inserted(datos_horarios_formato_1, dates_to_change)"
   ]
  },
  {
   "cell_type": "markdown",
   "id": "61cf0da1",
   "metadata": {},
   "source": [
    "Comprobamos que no hay missing values"
   ]
  },
  {
   "cell_type": "code",
   "execution_count": 49,
   "id": "f9946b79",
   "metadata": {
    "scrolled": true
   },
   "outputs": [
    {
     "data": {
      "text/plain": [
       "D    0\n",
       "dtype: int64"
      ]
     },
     "execution_count": 49,
     "metadata": {},
     "output_type": "execute_result"
    }
   ],
   "source": [
    "pd.isnull(datos_horarios_formato_1).sum()"
   ]
  },
  {
   "cell_type": "markdown",
   "id": "78ae0109",
   "metadata": {},
   "source": [
    "Finalmente tenemos el dataset horario al completo con todos los datos. Ahora podemos comenzar con el análisis de las series"
   ]
  },
  {
   "cell_type": "markdown",
   "id": "9add13df",
   "metadata": {},
   "source": [
    "### ANÁLISIS DE LA SERIE DIARIA "
   ]
  },
  {
   "cell_type": "markdown",
   "id": "3e07311d",
   "metadata": {},
   "source": [
    "Comprobemos, en primer lugar, si tenemos tantos datos como fechas en el data frame"
   ]
  },
  {
   "cell_type": "code",
   "execution_count": 50,
   "id": "d4da2923",
   "metadata": {},
   "outputs": [
    {
     "data": {
      "text/plain": [
       "True"
      ]
     },
     "execution_count": 50,
     "metadata": {},
     "output_type": "execute_result"
    }
   ],
   "source": [
    "len(pd.date_range(start='2015/07/01', end=\"2021/11/30\", freq='D')) == len(datos_diarios)"
   ]
  },
  {
   "cell_type": "markdown",
   "id": "90d6c4a0",
   "metadata": {},
   "source": [
    "Parece que si. Vemos ahora si tenemos fechas duplicadas."
   ]
  },
  {
   "cell_type": "code",
   "execution_count": 51,
   "id": "de80d335",
   "metadata": {},
   "outputs": [
    {
     "data": {
      "text/html": [
       "<div>\n",
       "<style scoped>\n",
       "    .dataframe tbody tr th:only-of-type {\n",
       "        vertical-align: middle;\n",
       "    }\n",
       "\n",
       "    .dataframe tbody tr th {\n",
       "        vertical-align: top;\n",
       "    }\n",
       "\n",
       "    .dataframe thead th {\n",
       "        text-align: right;\n",
       "    }\n",
       "</style>\n",
       "<table border=\"1\" class=\"dataframe\">\n",
       "  <thead>\n",
       "    <tr style=\"text-align: right;\">\n",
       "      <th></th>\n",
       "      <th>D</th>\n",
       "    </tr>\n",
       "    <tr>\n",
       "      <th>Local date</th>\n",
       "      <th></th>\n",
       "    </tr>\n",
       "  </thead>\n",
       "  <tbody>\n",
       "  </tbody>\n",
       "</table>\n",
       "</div>"
      ],
      "text/plain": [
       "Empty DataFrame\n",
       "Columns: [D]\n",
       "Index: []"
      ]
     },
     "execution_count": 51,
     "metadata": {},
     "output_type": "execute_result"
    }
   ],
   "source": [
    "datos_diarios[datos_diarios.index.duplicated(keep=False)]"
   ]
  },
  {
   "cell_type": "markdown",
   "id": "2df2ea77",
   "metadata": {},
   "source": [
    "Parece que no hay fechas duplicadas. Luego, concluimos que la serie diaria es correcta."
   ]
  },
  {
   "cell_type": "code",
   "execution_count": 52,
   "id": "699b56a7",
   "metadata": {},
   "outputs": [
    {
     "data": {
      "text/html": [
       "<div>\n",
       "<style scoped>\n",
       "    .dataframe tbody tr th:only-of-type {\n",
       "        vertical-align: middle;\n",
       "    }\n",
       "\n",
       "    .dataframe tbody tr th {\n",
       "        vertical-align: top;\n",
       "    }\n",
       "\n",
       "    .dataframe thead th {\n",
       "        text-align: right;\n",
       "    }\n",
       "</style>\n",
       "<table border=\"1\" class=\"dataframe\">\n",
       "  <thead>\n",
       "    <tr style=\"text-align: right;\">\n",
       "      <th></th>\n",
       "      <th>D</th>\n",
       "    </tr>\n",
       "    <tr>\n",
       "      <th>Local date</th>\n",
       "      <th></th>\n",
       "    </tr>\n",
       "  </thead>\n",
       "  <tbody>\n",
       "    <tr>\n",
       "      <th>2015-07-01</th>\n",
       "      <td>978699</td>\n",
       "    </tr>\n",
       "    <tr>\n",
       "      <th>2015-07-02</th>\n",
       "      <td>962751</td>\n",
       "    </tr>\n",
       "    <tr>\n",
       "      <th>2015-07-03</th>\n",
       "      <td>887079</td>\n",
       "    </tr>\n",
       "    <tr>\n",
       "      <th>2015-07-04</th>\n",
       "      <td>830874</td>\n",
       "    </tr>\n",
       "    <tr>\n",
       "      <th>2015-07-05</th>\n",
       "      <td>791310</td>\n",
       "    </tr>\n",
       "    <tr>\n",
       "      <th>...</th>\n",
       "      <td>...</td>\n",
       "    </tr>\n",
       "    <tr>\n",
       "      <th>2021-11-26</th>\n",
       "      <td>625052</td>\n",
       "    </tr>\n",
       "    <tr>\n",
       "      <th>2021-11-27</th>\n",
       "      <td>622892</td>\n",
       "    </tr>\n",
       "    <tr>\n",
       "      <th>2021-11-28</th>\n",
       "      <td>622017</td>\n",
       "    </tr>\n",
       "    <tr>\n",
       "      <th>2021-11-29</th>\n",
       "      <td>698831</td>\n",
       "    </tr>\n",
       "    <tr>\n",
       "      <th>2021-11-30</th>\n",
       "      <td>708972</td>\n",
       "    </tr>\n",
       "  </tbody>\n",
       "</table>\n",
       "<p>2345 rows × 1 columns</p>\n",
       "</div>"
      ],
      "text/plain": [
       "                 D\n",
       "Local date        \n",
       "2015-07-01  978699\n",
       "2015-07-02  962751\n",
       "2015-07-03  887079\n",
       "2015-07-04  830874\n",
       "2015-07-05  791310\n",
       "...            ...\n",
       "2021-11-26  625052\n",
       "2021-11-27  622892\n",
       "2021-11-28  622017\n",
       "2021-11-29  698831\n",
       "2021-11-30  708972\n",
       "\n",
       "[2345 rows x 1 columns]"
      ]
     },
     "execution_count": 52,
     "metadata": {},
     "output_type": "execute_result"
    }
   ],
   "source": [
    "datos_diarios"
   ]
  },
  {
   "cell_type": "markdown",
   "id": "a88d86b7",
   "metadata": {},
   "source": [
    "### Graficamos las series temporales"
   ]
  },
  {
   "cell_type": "markdown",
   "id": "defcdb76",
   "metadata": {},
   "source": [
    "Graficamos la serie temporal de demanda eléctrica horaria"
   ]
  },
  {
   "cell_type": "code",
   "execution_count": 53,
   "id": "6959238e",
   "metadata": {},
   "outputs": [
    {
     "data": {
      "image/png": "[encoded data removed]",
      "text/plain": [
       "<Figure size 1152x360 with 1 Axes>"
      ]
     },
     "metadata": {},
     "output_type": "display_data"
    }
   ],
   "source": [
    "sns.set(rc = {\"figure.figsize\":(16,5)}) # Definimos el tamaño de la imagen\n",
    "ax = datos_horarios_formato_1.plot(marker = 'o', linestyle = '-')\n",
    "ax.set_ylabel(\"Demanda eléctrica\") # Añadimos título al eje y \n",
    "ax.set_xlabel(\"Fechas diarias\"); # Añadimos título al eje x\n",
    "plt.savefig(\"Demanda_energia_diaria.png\", dpi=300, bbox_inches='tight')"
   ]
  },
  {
   "cell_type": "markdown",
   "id": "41eca8bb",
   "metadata": {},
   "source": [
    "Podemos observar que hay outliers a finales de 2019. Grafiquemos las series en esa fecha para ver el efecto."
   ]
  },
  {
   "cell_type": "code",
   "execution_count": 54,
   "id": "8556acaa",
   "metadata": {},
   "outputs": [
    {
     "data": {
      "image/png": "[encoded data removed]",
      "text/plain": [
       "<Figure size 1152x360 with 1 Axes>"
      ]
     },
     "metadata": {},
     "output_type": "display_data"
    }
   ],
   "source": [
    "sns.set(rc = {\"figure.figsize\":(16,5)}) # Definimos el tamaño de la imagen\n",
    "ax = datos_horarios_formato_1[\"2019-12-19\":\"2019-12-21\"].plot(marker = 'o', linestyle = '-')\n",
    "ax.set_ylabel(\"Demanda eléctrica\") # Añadimos título al eje y \n",
    "ax.set_xlabel(\"Fechas diarias\"); # Añadimos título al eje x\n",
    "plt.savefig(\"Demanda_energia_diaria_outlier2.png\", dpi=300, bbox_inches='tight')"
   ]
  },
  {
   "cell_type": "markdown",
   "id": "39018040",
   "metadata": {},
   "source": [
    "Veamos cuales son los valores exactos de la serie en esos puntos"
   ]
  },
  {
   "cell_type": "code",
   "execution_count": 55,
   "id": "18a56d13",
   "metadata": {},
   "outputs": [
    {
     "data": {
      "text/html": [
       "<div>\n",
       "<style scoped>\n",
       "    .dataframe tbody tr th:only-of-type {\n",
       "        vertical-align: middle;\n",
       "    }\n",
       "\n",
       "    .dataframe tbody tr th {\n",
       "        vertical-align: top;\n",
       "    }\n",
       "\n",
       "    .dataframe thead th {\n",
       "        text-align: right;\n",
       "    }\n",
       "</style>\n",
       "<table border=\"1\" class=\"dataframe\">\n",
       "  <thead>\n",
       "    <tr style=\"text-align: right;\">\n",
       "      <th></th>\n",
       "      <th>D</th>\n",
       "    </tr>\n",
       "  </thead>\n",
       "  <tbody>\n",
       "    <tr>\n",
       "      <th>2019-12-19 00:00:00</th>\n",
       "      <td>29554.0</td>\n",
       "    </tr>\n",
       "    <tr>\n",
       "      <th>2019-12-19 01:00:00</th>\n",
       "      <td>28350.0</td>\n",
       "    </tr>\n",
       "    <tr>\n",
       "      <th>2019-12-19 02:00:00</th>\n",
       "      <td>27331.0</td>\n",
       "    </tr>\n",
       "    <tr>\n",
       "      <th>2019-12-19 03:00:00</th>\n",
       "      <td>26759.0</td>\n",
       "    </tr>\n",
       "    <tr>\n",
       "      <th>2019-12-19 04:00:00</th>\n",
       "      <td>26654.0</td>\n",
       "    </tr>\n",
       "    <tr>\n",
       "      <th>2019-12-19 05:00:00</th>\n",
       "      <td>27351.0</td>\n",
       "    </tr>\n",
       "    <tr>\n",
       "      <th>2019-12-19 06:00:00</th>\n",
       "      <td>29084.0</td>\n",
       "    </tr>\n",
       "    <tr>\n",
       "      <th>2019-12-19 07:00:00</th>\n",
       "      <td>32247.0</td>\n",
       "    </tr>\n",
       "    <tr>\n",
       "      <th>2019-12-19 08:00:00</th>\n",
       "      <td>33744.0</td>\n",
       "    </tr>\n",
       "    <tr>\n",
       "      <th>2019-12-19 09:00:00</th>\n",
       "      <td>32743.0</td>\n",
       "    </tr>\n",
       "    <tr>\n",
       "      <th>2019-12-19 10:00:00</th>\n",
       "      <td>31482.0</td>\n",
       "    </tr>\n",
       "    <tr>\n",
       "      <th>2019-12-19 11:00:00</th>\n",
       "      <td>30543.0</td>\n",
       "    </tr>\n",
       "    <tr>\n",
       "      <th>2019-12-19 12:00:00</th>\n",
       "      <td>29527.0</td>\n",
       "    </tr>\n",
       "    <tr>\n",
       "      <th>2019-12-19 13:00:00</th>\n",
       "      <td>28857.0</td>\n",
       "    </tr>\n",
       "    <tr>\n",
       "      <th>2019-12-19 14:00:00</th>\n",
       "      <td>28935.0</td>\n",
       "    </tr>\n",
       "    <tr>\n",
       "      <th>2019-12-19 15:00:00</th>\n",
       "      <td>29432.0</td>\n",
       "    </tr>\n",
       "    <tr>\n",
       "      <th>2019-12-19 16:00:00</th>\n",
       "      <td>5719.0</td>\n",
       "    </tr>\n",
       "    <tr>\n",
       "      <th>2019-12-19 17:00:00</th>\n",
       "      <td>6103.0</td>\n",
       "    </tr>\n",
       "    <tr>\n",
       "      <th>2019-12-19 18:00:00</th>\n",
       "      <td>6597.0</td>\n",
       "    </tr>\n",
       "    <tr>\n",
       "      <th>2019-12-19 19:00:00</th>\n",
       "      <td>36126.0</td>\n",
       "    </tr>\n",
       "    <tr>\n",
       "      <th>2019-12-19 20:00:00</th>\n",
       "      <td>35784.0</td>\n",
       "    </tr>\n",
       "    <tr>\n",
       "      <th>2019-12-19 21:00:00</th>\n",
       "      <td>35091.0</td>\n",
       "    </tr>\n",
       "    <tr>\n",
       "      <th>2019-12-19 22:00:00</th>\n",
       "      <td>33763.0</td>\n",
       "    </tr>\n",
       "    <tr>\n",
       "      <th>2019-12-19 23:00:00</th>\n",
       "      <td>31678.0</td>\n",
       "    </tr>\n",
       "  </tbody>\n",
       "</table>\n",
       "</div>"
      ],
      "text/plain": [
       "                           D\n",
       "2019-12-19 00:00:00  29554.0\n",
       "2019-12-19 01:00:00  28350.0\n",
       "2019-12-19 02:00:00  27331.0\n",
       "2019-12-19 03:00:00  26759.0\n",
       "2019-12-19 04:00:00  26654.0\n",
       "2019-12-19 05:00:00  27351.0\n",
       "2019-12-19 06:00:00  29084.0\n",
       "2019-12-19 07:00:00  32247.0\n",
       "2019-12-19 08:00:00  33744.0\n",
       "2019-12-19 09:00:00  32743.0\n",
       "2019-12-19 10:00:00  31482.0\n",
       "2019-12-19 11:00:00  30543.0\n",
       "2019-12-19 12:00:00  29527.0\n",
       "2019-12-19 13:00:00  28857.0\n",
       "2019-12-19 14:00:00  28935.0\n",
       "2019-12-19 15:00:00  29432.0\n",
       "2019-12-19 16:00:00   5719.0\n",
       "2019-12-19 17:00:00   6103.0\n",
       "2019-12-19 18:00:00   6597.0\n",
       "2019-12-19 19:00:00  36126.0\n",
       "2019-12-19 20:00:00  35784.0\n",
       "2019-12-19 21:00:00  35091.0\n",
       "2019-12-19 22:00:00  33763.0\n",
       "2019-12-19 23:00:00  31678.0"
      ]
     },
     "execution_count": 55,
     "metadata": {},
     "output_type": "execute_result"
    }
   ],
   "source": [
    "datos_horarios_formato_1.loc[\"2019-12-19\"]"
   ]
  },
  {
   "cell_type": "code",
   "execution_count": 56,
   "id": "3383a6ab",
   "metadata": {},
   "outputs": [
    {
     "data": {
      "text/html": [
       "<div>\n",
       "<style scoped>\n",
       "    .dataframe tbody tr th:only-of-type {\n",
       "        vertical-align: middle;\n",
       "    }\n",
       "\n",
       "    .dataframe tbody tr th {\n",
       "        vertical-align: top;\n",
       "    }\n",
       "\n",
       "    .dataframe thead th {\n",
       "        text-align: right;\n",
       "    }\n",
       "</style>\n",
       "<table border=\"1\" class=\"dataframe\">\n",
       "  <thead>\n",
       "    <tr style=\"text-align: right;\">\n",
       "      <th></th>\n",
       "      <th>D</th>\n",
       "    </tr>\n",
       "  </thead>\n",
       "  <tbody>\n",
       "    <tr>\n",
       "      <th>2015-07-01 01:00:00</th>\n",
       "      <td>38210.0</td>\n",
       "    </tr>\n",
       "    <tr>\n",
       "      <th>2015-07-01 02:00:00</th>\n",
       "      <td>35171.0</td>\n",
       "    </tr>\n",
       "    <tr>\n",
       "      <th>2015-07-01 03:00:00</th>\n",
       "      <td>33243.0</td>\n",
       "    </tr>\n",
       "    <tr>\n",
       "      <th>2015-07-01 04:00:00</th>\n",
       "      <td>31955.0</td>\n",
       "    </tr>\n",
       "    <tr>\n",
       "      <th>2015-07-01 05:00:00</th>\n",
       "      <td>31199.0</td>\n",
       "    </tr>\n",
       "    <tr>\n",
       "      <th>...</th>\n",
       "      <td>...</td>\n",
       "    </tr>\n",
       "    <tr>\n",
       "      <th>2021-11-30 20:00:00</th>\n",
       "      <td>33941.0</td>\n",
       "    </tr>\n",
       "    <tr>\n",
       "      <th>2021-11-30 21:00:00</th>\n",
       "      <td>33098.0</td>\n",
       "    </tr>\n",
       "    <tr>\n",
       "      <th>2021-11-30 22:00:00</th>\n",
       "      <td>31768.0</td>\n",
       "    </tr>\n",
       "    <tr>\n",
       "      <th>2021-11-30 23:00:00</th>\n",
       "      <td>29751.0</td>\n",
       "    </tr>\n",
       "    <tr>\n",
       "      <th>2021-12-01 00:00:00</th>\n",
       "      <td>27799.0</td>\n",
       "    </tr>\n",
       "  </tbody>\n",
       "</table>\n",
       "<p>56280 rows × 1 columns</p>\n",
       "</div>"
      ],
      "text/plain": [
       "                           D\n",
       "2015-07-01 01:00:00  38210.0\n",
       "2015-07-01 02:00:00  35171.0\n",
       "2015-07-01 03:00:00  33243.0\n",
       "2015-07-01 04:00:00  31955.0\n",
       "2015-07-01 05:00:00  31199.0\n",
       "...                      ...\n",
       "2021-11-30 20:00:00  33941.0\n",
       "2021-11-30 21:00:00  33098.0\n",
       "2021-11-30 22:00:00  31768.0\n",
       "2021-11-30 23:00:00  29751.0\n",
       "2021-12-01 00:00:00  27799.0\n",
       "\n",
       "[56280 rows x 1 columns]"
      ]
     },
     "execution_count": 56,
     "metadata": {},
     "output_type": "execute_result"
    }
   ],
   "source": [
    "datos_horarios_formato_1"
   ]
  },
  {
   "cell_type": "markdown",
   "id": "17b9c196",
   "metadata": {},
   "source": [
    "Los valores atípicos se dan a las 16:00, 17:00 y 18:00. Y, a diferencia del caso anterior, en este caso no tenemos valores repetidos."
   ]
  },
  {
   "cell_type": "code",
   "execution_count": 57,
   "id": "ac85a452",
   "metadata": {},
   "outputs": [
    {
     "data": {
      "image/png": "[encoded data removed]",
      "text/plain": [
       "<Figure size 1152x360 with 1 Axes>"
      ]
     },
     "metadata": {},
     "output_type": "display_data"
    }
   ],
   "source": [
    "sns.set(rc = {\"figure.figsize\":(16,5)}) # Definimos el tamaño de la imagen\n",
    "ax = datos_horarios_formato_1[\"2021-11\":].plot(marker = 'o', linestyle = '-')\n",
    "ax.set_ylabel(\"Demanda eléctrica\") # Añadimos título al eje y \n",
    "ax.set_xlabel(\"Fechas diarias\"); # Añadimos título al eje x\n",
    "plt.savefig(\"Demanda_energia_diaria.png\", dpi=300, bbox_inches='tight')"
   ]
  },
  {
   "cell_type": "markdown",
   "id": "a53fbcf8",
   "metadata": {},
   "source": [
    "### GUARDADO DE FICHEROS"
   ]
  },
  {
   "cell_type": "code",
   "execution_count": 62,
   "id": "b0c07228",
   "metadata": {},
   "outputs": [],
   "source": [
    "table_diaria = pa.Table.from_pandas(datos_diarios, preserve_index=True)\n",
    "pq.write_table(table_diaria, '/Users/aitor/Desktop/Máster Ciencia de Datos/Series temporales/Series-temporales/Practices/EXAM/Exam_data/datos_diarios.parquet')"
   ]
  },
  {
   "cell_type": "code",
   "execution_count": 63,
   "id": "7f6e685e",
   "metadata": {},
   "outputs": [],
   "source": [
    "table_horaria = pa.Table.from_pandas(datos_horarios_formato_1, preserve_index=True)\n",
    "pq.write_table(table_horaria, '/Users/aitor/Desktop/Máster Ciencia de Datos/Series temporales/Series-temporales/Practices/EXAM/Exam_data/datos_horarios.parquet')"
   ]
  }
 ],
 "metadata": {
  "kernelspec": {
   "display_name": "Python [conda env:ML_big_practice]",
   "language": "python",
   "name": "conda-env-ML_big_practice-py"
  },
  "language_info": {
   "codemirror_mode": {
    "name": "ipython",
    "version": 3
   },
   "file_extension": ".py",
   "mimetype": "text/x-python",
   "name": "python",
   "nbconvert_exporter": "python",
   "pygments_lexer": "ipython3",
   "version": "3.9.7"
  }
 },
 "nbformat": 4,
 "nbformat_minor": 5
}
