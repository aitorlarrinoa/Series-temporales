{
 "cells": [
  {
   "cell_type": "code",
   "execution_count": 52,
   "id": "2be32c09",
   "metadata": {},
   "outputs": [],
   "source": [
    "import pandas as pd\n",
    "import numpy as np\n",
    "import seaborn as sns"
   ]
  },
  {
   "cell_type": "code",
   "execution_count": 60,
   "id": "3de19cc4",
   "metadata": {},
   "outputs": [
    {
     "data": {
      "text/html": [
       "<div>\n",
       "<style scoped>\n",
       "    .dataframe tbody tr th:only-of-type {\n",
       "        vertical-align: middle;\n",
       "    }\n",
       "\n",
       "    .dataframe tbody tr th {\n",
       "        vertical-align: top;\n",
       "    }\n",
       "\n",
       "    .dataframe thead th {\n",
       "        text-align: right;\n",
       "    }\n",
       "</style>\n",
       "<table border=\"1\" class=\"dataframe\">\n",
       "  <thead>\n",
       "    <tr style=\"text-align: right;\">\n",
       "      <th></th>\n",
       "      <th>Ingresos</th>\n",
       "    </tr>\n",
       "    <tr>\n",
       "      <th>fecha</th>\n",
       "      <th></th>\n",
       "    </tr>\n",
       "  </thead>\n",
       "  <tbody>\n",
       "    <tr>\n",
       "      <th>1989-12-29</th>\n",
       "      <td>1493.4</td>\n",
       "    </tr>\n",
       "    <tr>\n",
       "      <th>1990-03-30</th>\n",
       "      <td>1346.2</td>\n",
       "    </tr>\n",
       "    <tr>\n",
       "      <th>1990-06-29</th>\n",
       "      <td>1364.8</td>\n",
       "    </tr>\n",
       "    <tr>\n",
       "      <th>1990-09-28</th>\n",
       "      <td>1354.1</td>\n",
       "    </tr>\n",
       "    <tr>\n",
       "      <th>1990-12-28</th>\n",
       "      <td>1675.5</td>\n",
       "    </tr>\n",
       "    <tr>\n",
       "      <th>...</th>\n",
       "      <td>...</td>\n",
       "    </tr>\n",
       "    <tr>\n",
       "      <th>2020-06-27</th>\n",
       "      <td>59685.0</td>\n",
       "    </tr>\n",
       "    <tr>\n",
       "      <th>2020-09-26</th>\n",
       "      <td>64698.0</td>\n",
       "    </tr>\n",
       "    <tr>\n",
       "      <th>2020-12-26</th>\n",
       "      <td>111439.0</td>\n",
       "    </tr>\n",
       "    <tr>\n",
       "      <th>2021-03-27</th>\n",
       "      <td>89584.0</td>\n",
       "    </tr>\n",
       "    <tr>\n",
       "      <th>2021-06-26</th>\n",
       "      <td>81434.0</td>\n",
       "    </tr>\n",
       "  </tbody>\n",
       "</table>\n",
       "<p>127 rows × 1 columns</p>\n",
       "</div>"
      ],
      "text/plain": [
       "            Ingresos\n",
       "fecha               \n",
       "1989-12-29    1493.4\n",
       "1990-03-30    1346.2\n",
       "1990-06-29    1364.8\n",
       "1990-09-28    1354.1\n",
       "1990-12-28    1675.5\n",
       "...              ...\n",
       "2020-06-27   59685.0\n",
       "2020-09-26   64698.0\n",
       "2020-12-26  111439.0\n",
       "2021-03-27   89584.0\n",
       "2021-06-26   81434.0\n",
       "\n",
       "[127 rows x 1 columns]"
      ]
     },
     "execution_count": 60,
     "metadata": {},
     "output_type": "execute_result"
    }
   ],
   "source": [
    "apple = pd.read_csv(\"aapl.csv\", sep=\",\", header = 1)\n",
    "#apple[\"fecha\"] = pd.to_datetime(apple[\"fecha\"],format=\"%m%d%Y\")\n",
    "apple[\"fecha\"] = pd.to_datetime(apple[\"fecha\"])\n",
    "apple = apple[[\"fecha\", \"Ingresos\"]]\n",
    "apple = apple.set_index(\"fecha\")\n",
    "apple"
   ]
  },
  {
   "cell_type": "code",
   "execution_count": 61,
   "id": "237215b1",
   "metadata": {},
   "outputs": [
    {
     "name": "stdout",
     "output_type": "stream",
     "text": [
      "<class 'pandas.core.frame.DataFrame'>\n",
      "DatetimeIndex: 127 entries, 1989-12-29 to 2021-06-26\n",
      "Data columns (total 1 columns):\n",
      " #   Column    Non-Null Count  Dtype  \n",
      "---  ------    --------------  -----  \n",
      " 0   Ingresos  127 non-null    float64\n",
      "dtypes: float64(1)\n",
      "memory usage: 2.0 KB\n"
     ]
    }
   ],
   "source": [
    "# Echemos un ojo a apple\n",
    "apple.info()"
   ]
  },
  {
   "cell_type": "code",
   "execution_count": 63,
   "id": "f6ebc15a",
   "metadata": {},
   "outputs": [
    {
     "data": {
      "image/png": "[encoded data removed]",
      "text/plain": [
       "<Figure size 792x288 with 1 Axes>"
      ]
     },
     "metadata": {},
     "output_type": "display_data"
    }
   ],
   "source": [
    "sns.set(rc = {\"figure.figsize\":(11,4)})\n",
    "ax = apple.plot(marker = 'o', linestyle = '-')\n",
    "ax.set_ylabel(\"Ventas Apple\")\n",
    "ax.set_xlabel(\"Fechas\");"
   ]
  }
 ],
 "metadata": {
  "kernelspec": {
   "display_name": "practica1_ST",
   "language": "python",
   "name": "practica1_st"
  },
  "language_info": {
   "codemirror_mode": {
    "name": "ipython",
    "version": 3
   },
   "file_extension": ".py",
   "mimetype": "text/x-python",
   "name": "python",
   "nbconvert_exporter": "python",
   "pygments_lexer": "ipython3",
   "version": "3.8.8"
  }
 },
 "nbformat": 4,
 "nbformat_minor": 5
}
